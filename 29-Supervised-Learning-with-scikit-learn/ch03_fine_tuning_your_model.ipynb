{
 "cells": [
  {
   "cell_type": "markdown",
   "id": "c83d5eb4-b3de-47c7-be9a-b7244cf36cd3",
   "metadata": {},
   "source": [
    "# Chapter #3: Fine-Tuning Your Model"
   ]
  },
  {
   "cell_type": "markdown",
   "id": "5c2bc5b4-d172-4a76-9bee-1ae1ebe81bb1",
   "metadata": {},
   "source": [
    "## 1. How good is your model?"
   ]
  },
  {
   "cell_type": "markdown",
   "id": "aa7b195a-87b3-4c65-86a6-7b78f6392771",
   "metadata": {},
   "source": [
    "**Classification metrics**\n",
    "> - Thinking back to **classification** problems, recall that **we can use accuracy, the fraction of correctly classified labels, to measure model performance**.\n",
    "> - However, **accuracy is not always a useful metric**.\n",
    "\n",
    "**Class imbalance**\n",
    "> - Consider a model for **predicting whether a bank transaction is fraudulent**, where **only 1% of transactions are actually fraudulent**.\n",
    "> - We could build a model that **classifies every transaction as legitimate**; this model would have an **accuracy of 99%!**\n",
    "> - However, **it does a terrible job of actually predicting fraud**, so it fails at its original purpose.\n",
    "> - The situation where one class is more frequent is called **class imbalance**.\n",
    "> - Here, the class of **legitimate transactions** contains way **more** instances than the class of **fraudulent transactions**.\n",
    "> - This is a common situation in practice and requires a **different approach to assessing the model's performance**.\n",
    "\n",
    "**Confusion matrix for assessing classification performance**\n",
    "> - Given a **binary classifier**, such as our fraudulent transactions example, we can create a **2x2 matrix** that summarizes performance called a **confusion matrix**.\n",
    "> - Across the top are the **predicted labels**, and down the side are the **actual labels**.\n",
    "> - Given any model, we can fill in the confusion matrix according to its predictions:\n",
    ">> - The **true positives** are the number of fraudulent transactions correctly labeled,\n",
    ">> - The **true negatives** are the number of legitimate transactions correctly labeled,\n",
    ">> - The **false negatives** are the number of legitimate transactions incorrectly labeled,\n",
    ">> - And the **false positives** are the number of transactions incorrectly labeled as fraudulent.\n",
    "> - Usually, **the class of interest is called the positive class**.\n",
    ">> - As we aim to detect fraud, **the positive class is an illegitimate transaction**.\n",
    "> - **So, why is the confusion matrix important?**\n",
    ">> - Firstly, **we can retrieve accuracy**: it's the sum of true predictions divided by the total sum of the matrix,\n",
    ">> - Secondly, **there are other important metrics we can calculate from the confusion matrix**.\n",
    "\n",
    "<img style=\"margin-left: auto; margin-right: auto;\" src=\"./assets/ch03_01_how_good_is_your_model_img01.png\">\n",
    "\n",
    "**Precision**\n",
    "> - **Precision is the number of true positives divided by the sum of all positive predictions**.\n",
    "> - It is also called the **positive predictive value**.\n",
    "> - In our case, this is **the number of correctly labeled fraudulent transactions divided by the total number of transactions classified as fraudulent**.\n",
    "> - **High precision** means having a **lower false positive rate**.\n",
    "> - For our classifier, this translates to **fewer legitimate transactions being classified as fraudulent**.\n",
    "\n",
    "**Recall**\n",
    "> - **Recall is the number of true positives divided by the sum of true positives and false negatives**.\n",
    "> - This is also called **sensitivity**.\n",
    "> - **High recall reflects a lower false negative rate**.\n",
    "> - For our classifier, it means **predicting most fraudulent transactions correctly**.\n",
    "\n",
    "<img style=\"margin-left: auto; margin-right: auto;\" src=\"./assets/ch03_01_how_good_is_your_model_img02.png\">\n",
    "\n",
    "**F1 score**\n",
    "> - The **F1-score is the harmonic mean of precision and recall**.\n",
    "> - This metric **gives equal weight to precision and recall, therefore it factors in both the number of errors made by the model and the type of errors**.\n",
    "> - The F1 score **favors models with similar precision and recall**, and is a **useful metric if we are seeking a model which performs reasonably well across both metrics**.\n",
    "\n",
    "<img style=\"margin-left: auto; margin-right: auto;\" src=\"./assets/ch03_01_how_good_is_your_model_img03.png\">\n",
    "\n",
    "**Confusion matrix in scikit-learn**\n",
    "> - Using our churn dataset, to compute the confusion matrix, along with the metrics, we import **classification_report** and **confusion_matrix** from `sklearn.metrics`.\n",
    "> - We **instantiate** our classifier, **split** the data, **fit** the training data, and **predict** the labels of the test set.\n",
    "\n",
    "<img style=\"margin-left: auto; margin-right: auto;\" src=\"./assets/ch03_01_how_good_is_your_model_img04.png\">\n",
    "\n",
    "**Confusion matrix in scikit-learn**\n",
    "> - We pass the **test set labels** and the **predicted labels** to the **confusion matrix function**.\n",
    "> - We can see `1106` true negatives in the top left.\n",
    "\n",
    "<img style=\"margin-left: auto; margin-right: auto;\" src=\"./assets/ch03_01_how_good_is_your_model_img05.png\">\n",
    "\n",
    "**Classification report in scikit-learn**\n",
    "> - Passing the **same arguments** to **classification report** outputs **all the relevant metrics**.\n",
    "> - It includes **precision** and **recall** by class, `0.76` and `0.16` for the churn class respectively, which **highlights how poorly the model's recall is on the churn class**.\n",
    "> - **Support** represents the **number of instances for each class within the true labels**.\n",
    "\n",
    "<img style=\"margin-left: auto; margin-right: auto;\" src=\"./assets/ch03_01_how_good_is_your_model_img06.png\">"
   ]
  },
  {
   "cell_type": "markdown",
   "id": "cbd1f940-0ec4-483b-ac81-d39e57609e1a",
   "metadata": {},
   "source": [
    "### 1.1. Deciding on a primary metric"
   ]
  },
  {
   "cell_type": "markdown",
   "id": "4c3510d4-1ba4-43bf-b610-5aacf0a05a64",
   "metadata": {},
   "source": [
    "As you have seen, **several metrics can be useful to evaluate the performance of classification models**, including **accuracy**, **precision**, **recall**, and **F1-score**.\n",
    "\n",
    "In this exercise, you will be provided with three different classification problems, and your task is to select the problem where precision is best suited as the primary metric."
   ]
  },
  {
   "cell_type": "markdown",
   "id": "211ded29-62e2-40dc-937a-43b5382f63d0",
   "metadata": {},
   "source": [
    "- **Possible Answers:**\n",
    "\n",
    "> - A model predicting the presence of cancer as the positive class.\n",
    "> - A classifier predicting the positive class of a computer program containing malware.\n",
    "> - **A model predicting if a customer is a high-value lead for a sales team with limited capacity.**"
   ]
  },
  {
   "cell_type": "markdown",
   "id": "d9a64175-b433-40d9-b4c3-28e3e80395ee",
   "metadata": {},
   "source": [
    "### 1.2. Assessing a diabetes prediction classifier"
   ]
  },
  {
   "cell_type": "markdown",
   "id": "dbfbe2ab-9f3d-4aab-8266-cf35e434803d",
   "metadata": {},
   "source": [
    "In this chapter you'll work with the `diabetes_df` dataset introduced previously.\n",
    "\n",
    "The goal is to **predict whether or not each individual is likely to have diabetes based on the features body mass index (BMI) and age (in years)**. Therefore, it is a **binary classification problem**. A target value of `0` indicates that the individual does not have diabetes, while a value of `1` indicates that the individual does have diabetes.\n",
    "\n",
    "`diabetes_df` has been preloaded for you as a `pandas` DataFrame and split into `X_train`, `X_test`, `y_train`, and `y_test`. In addition, a `KNeighborsClassifier()` has been instantiated and assigned to `knn`.\n",
    "\n",
    "You will fit the model, make predictions on the test set, then produce a confusion matrix and classification report."
   ]
  },
  {
   "cell_type": "markdown",
   "id": "24aee29b-f607-47d4-8918-7cbb942bc235",
   "metadata": {},
   "source": [
    "- Set up the workspace."
   ]
  },
  {
   "cell_type": "code",
   "execution_count": 1,
   "id": "62fd3555-95de-47cf-bc35-db32e20def89",
   "metadata": {
    "tags": []
   },
   "outputs": [],
   "source": [
    "import pickle\n",
    "with open(\"./assets/ch03_01_02_assessing_a_diabetes_prediction_classifier_pickled01.pkl\", mode=\"rb\") as file_bin:\n",
    "    pickled_objs = pickle.load(file_bin)"
   ]
  },
  {
   "cell_type": "code",
   "execution_count": 2,
   "id": "91b4f794-a94e-4a84-928b-d67686a0cdca",
   "metadata": {},
   "outputs": [],
   "source": [
    "X_train, X_test = pickled_objs[\"X_train\"], pickled_objs[\"X_test\"]\n",
    "y_train, y_test = pickled_objs[\"y_train\"], pickled_objs[\"y_test\"]"
   ]
  },
  {
   "cell_type": "markdown",
   "id": "fa8fae7e-6ef6-4165-aa3d-a482817fd223",
   "metadata": {},
   "source": [
    "- Import `confusion_matrix` and `classification_report`."
   ]
  },
  {
   "cell_type": "code",
   "execution_count": 3,
   "id": "811b602e-b7f5-43dd-bc8b-098fb0b6044d",
   "metadata": {
    "tags": []
   },
   "outputs": [],
   "source": [
    "from sklearn.metrics import confusion_matrix, classification_report"
   ]
  },
  {
   "cell_type": "markdown",
   "id": "cd1364d6-d2a4-4e6d-86fc-1ceb4ab02eba",
   "metadata": {},
   "source": [
    "- Fit the model to the training data."
   ]
  },
  {
   "cell_type": "code",
   "execution_count": 4,
   "id": "7871f7fe-3671-4ee3-a01c-a337c694609a",
   "metadata": {
    "tags": []
   },
   "outputs": [],
   "source": [
    "from sklearn.neighbors import KNeighborsClassifier"
   ]
  },
  {
   "cell_type": "code",
   "execution_count": 5,
   "id": "0540063d-fd04-4fae-b59f-45582f16de97",
   "metadata": {
    "tags": []
   },
   "outputs": [],
   "source": [
    "knn = KNeighborsClassifier(n_neighbors=6)"
   ]
  },
  {
   "cell_type": "code",
   "execution_count": 6,
   "id": "f39a375f-4d35-4743-b637-009ea6a4e577",
   "metadata": {
    "tags": []
   },
   "outputs": [],
   "source": [
    "knn.fit(X_train, y_train);"
   ]
  },
  {
   "cell_type": "markdown",
   "id": "4077b625-7ab9-4dd2-8c48-5f4578ae5bac",
   "metadata": {},
   "source": [
    "- Predict the labels of the test set, storing the results as `y_pred`."
   ]
  },
  {
   "cell_type": "code",
   "execution_count": 7,
   "id": "e2117bd0-d14a-42dd-bbee-eed39d10282c",
   "metadata": {
    "tags": []
   },
   "outputs": [],
   "source": [
    "y_pred = knn.predict(X_test)"
   ]
  },
  {
   "cell_type": "markdown",
   "id": "b9e8158b-7d3a-4443-a84d-2bd678b326d3",
   "metadata": {},
   "source": [
    "- Compute and print the confusion matrix and classification report for the test labels versus the predicted labels."
   ]
  },
  {
   "cell_type": "code",
   "execution_count": 8,
   "id": "0bda738a-5b93-4ccf-9c3d-cafc47eedcf3",
   "metadata": {
    "tags": []
   },
   "outputs": [
    {
     "name": "stdout",
     "output_type": "stream",
     "text": [
      "[[116  35]\n",
      " [ 47  33]]\n"
     ]
    }
   ],
   "source": [
    "print(confusion_matrix(y_test, y_pred))"
   ]
  },
  {
   "cell_type": "code",
   "execution_count": 9,
   "id": "e6a51201-9847-4566-b684-d4545facff53",
   "metadata": {
    "tags": []
   },
   "outputs": [
    {
     "name": "stdout",
     "output_type": "stream",
     "text": [
      "              precision    recall  f1-score   support\n",
      "\n",
      "           0       0.71      0.77      0.74       151\n",
      "           1       0.49      0.41      0.45        80\n",
      "\n",
      "    accuracy                           0.65       231\n",
      "   macro avg       0.60      0.59      0.59       231\n",
      "weighted avg       0.63      0.65      0.64       231\n",
      "\n"
     ]
    }
   ],
   "source": [
    "print(classification_report(y_test, y_pred))"
   ]
  },
  {
   "cell_type": "markdown",
   "id": "f4f677f1-6a9d-41ae-be8a-f2f06e25bb46",
   "metadata": {},
   "source": [
    "## 2. Logistic regression and the ROC curve"
   ]
  },
  {
   "cell_type": "markdown",
   "id": "0a2d6faf-3cbf-43c3-b792-9aac08ed2d1d",
   "metadata": {},
   "source": [
    "**Logistic regression and the ROC curve**\n",
    "> - It's time to introduce another model: **logistic regression**.\n",
    "\n",
    "**Logistic regression for binary classification**\n",
    "> - Despite its name, **logistic regression is used for classification**.\n",
    "> - This model **calculates the probability, p, that an observation belongs to a binary class**.\n",
    "> - Using our diabetes dataset as an example, **if p is more than or equal to `0.5`, we label the data as `1`**, representing a prediction that an individual is more likely to have diabetes; **if p is less than `0.5`, we label it `0`** to represent that they are more likely to not have diabetes.\n",
    "\n",
    "**Linear decision boundary**\n",
    "> - Note that logistic regression produces a **linear decision boundary**, as we can see in this image.\n",
    "\n",
    "<img style=\"margin-left: auto; margin-right: auto;\" src=\"./assets/ch03_02_logistic_regression_and_the_roc_curve_img01.png\">\n",
    "\n",
    "**Logistic regression in scikit-learn**\n",
    "> - Using logistic regression in scikit-learn **follows the same approach as used for other models**.\n",
    ">> - We first **import** LogisticRegression from `sklearn.linear_model`,\n",
    ">> - Next we **instantiate** the classifier, **split** our data, **fit** the model on our training data, and **predict** on our test set. \n",
    "> - We use the **churn dataset**.\n",
    "\n",
    "<img style=\"margin-left: auto; margin-right: auto;\" src=\"./assets/ch03_02_logistic_regression_and_the_roc_curve_img02.png\">\n",
    "\n",
    "**Predicting probabilities**\n",
    "> - We can **predict probabilities** of each instance belonging to a class by **calling logistic regression's `.predict_proba()` method** and **passing the test features**.\n",
    "> - This returns a **2-dimensional array with probabilities for both classes**, in this case, that the individual did not churn, or did churn, respectively.\n",
    "> - We slice the **second column**, representing the **positive class probabilities**, and store the results as `y_pred_probs`.\n",
    "> - Here we see the model **predicts a probability** of `0.089` that the first observation **has churned**.\n",
    "\n",
    "<img style=\"margin-left: auto; margin-right: auto;\" src=\"./assets/ch03_02_logistic_regression_and_the_roc_curve_img03.png\">\n",
    "\n",
    "**Probability thresholds**\n",
    "> - The **default probability threshold** for logistic regression in scikit-learn is `0.5`.\n",
    "> - This threshold can also apply to **other models** such as KNN.\n",
    "> - **So, what happens as we vary this threshold?**\n",
    "\n",
    "**The ROC curve**\n",
    "> - We can use a **receiver operating characteristic**, or **ROC** curve, to visualize **how different thresholds affect true positive and false positive rates**. > - Here, the **dotted line** represents a **chance model**, which **randomly guesses labels**.\n",
    ">> - When the **threshold equals zero**, the model **predicts `1`** for all observations, meaning it will **correctly predict** all positive values, and **ncorrectly predict** all negative values,\n",
    ">> - If the **threshold equals `1`**, the model **predicts `0`** for all data, which means that **both true and false positive rates are zero**,\n",
    ">> - If we **vary the threshold**, we get a **series of different false positive and true positive rates**.\n",
    "> - A **line plot of the thresholds** helps to visualize the trend.\n",
    "\n",
    "<img style=\"margin-left: auto; margin-right: auto;\" src=\"./assets/ch03_02_logistic_regression_and_the_roc_curve_img04.png\">\n",
    "\n",
    "**Plotting the ROC curve**\n",
    "> - To **plot the ROC curve**, we **import** `roc_curve` from `sklearn.metrics`.\n",
    "> - We then **call the function roc_curve**; we **pass the test labels** as the first argument, and the **predicted probabilities** as the second. \n",
    "> - We **unpack the results into three variables**:\n",
    ">> - False positive rate, `fpr`,\n",
    ">> - True positive rate, `tpr`,\n",
    ">> - Thresholds, `thresholds`.\n",
    "> - We can then **plot a dotted line from zero to one**, along with the **FPR** and **TPR**; to produce a figure such as this.\n",
    "> - This looks great, but **how do we quantify the model's performance based on this plot?**\n",
    "\n",
    "<img style=\"margin-left: auto; margin-right: auto;\" src=\"./assets/ch03_02_logistic_regression_and_the_roc_curve_img05.png\">\n",
    "<img style=\"margin-left: auto; margin-right: auto;\" src=\"./assets/ch03_02_logistic_regression_and_the_roc_curve_img06.png\">\n",
    "\n",
    "**ROC AUC**\n",
    "> - If we have a model with **`1` for true positive rate and 0 for false positive rate**, this would be the **perfect model**.\n",
    "> - Therefore, we **calculate the area under the ROC curve**, a metric known as **AUC**.\n",
    "> - **Scores range from `0` to `1`**, with `1` being **ideal**.\n",
    "> - Here, the model scores `0.67`, which is only 34% better than a **model making random guesses**.\n",
    "\n",
    "<img style=\"margin-left: auto; margin-right: auto;\" src=\"./assets/ch03_02_logistic_regression_and_the_roc_curve_img07.png\">\n",
    "\n",
    "**ROC AUC in scikit-learn**\n",
    "> - We can calculate **AUC** in scikit-learn by **importing** `roc_auc_score` from `sklearn.metrics`.\n",
    "> - We **call** `roc_auc_score()`, **passing** our test labels and our predicted probabilities, calculated by using the model's `predict_proba` method on `X_test`.\n",
    "> - As expected, we get a score of `0.67`.\n",
    "\n",
    "<img style=\"margin-left: auto; margin-right: auto;\" src=\"./assets/ch03_02_logistic_regression_and_the_roc_curve_img08.png\">"
   ]
  },
  {
   "cell_type": "markdown",
   "id": "f2ba07a0-f3aa-445d-b5cc-0a70dd9ba582",
   "metadata": {},
   "source": [
    "### 2.1. Building a logistic regression model"
   ]
  },
  {
   "cell_type": "markdown",
   "id": "18a47c4e-f543-4f07-b682-7f9a0128caed",
   "metadata": {},
   "source": [
    "In this exercise, you will **build a logistic regression model** using all features in the `diabetes_df` dataset. The model will be used to **predict the probability** of individuals in the test set having a diabetes diagnosis.\n",
    "\n",
    "The `diabetes_df` dataset has been split into `X_train`, `X_test`, `y_train`, and `y_test`, and preloaded for you."
   ]
  },
  {
   "cell_type": "markdown",
   "id": "11683484-2473-4644-b058-b09fcdef76bd",
   "metadata": {},
   "source": [
    "- Set up the workspace."
   ]
  },
  {
   "cell_type": "code",
   "execution_count": 10,
   "id": "cbb64a7e-55b4-4988-896d-ca4c2a3af334",
   "metadata": {
    "tags": []
   },
   "outputs": [],
   "source": [
    "import pickle\n",
    "with open(\"./assets/ch03_02_01_building_a_logistic_regression_model_pickled01.pkl\", mode=\"rb\") as file_bin:\n",
    "    pickled_objs = pickle.load(file_bin)"
   ]
  },
  {
   "cell_type": "code",
   "execution_count": 11,
   "id": "3933fb4a-3bbb-420d-b369-c040de314b95",
   "metadata": {
    "tags": []
   },
   "outputs": [],
   "source": [
    "X_train, X_test = pickled_objs[\"X_train\"], pickled_objs[\"X_test\"]\n",
    "y_train, y_test = pickled_objs[\"y_train\"], pickled_objs[\"y_test\"]"
   ]
  },
  {
   "cell_type": "code",
   "execution_count": 12,
   "id": "49434bd2-a338-4459-bb1b-08f38536b241",
   "metadata": {
    "tags": []
   },
   "outputs": [],
   "source": [
    "import warnings\n",
    "warnings.filterwarnings(\"ignore\")"
   ]
  },
  {
   "cell_type": "markdown",
   "id": "1457daff-e3f9-45d9-b442-f5f37cb0a62c",
   "metadata": {},
   "source": [
    "- Import `LogisticRegression`."
   ]
  },
  {
   "cell_type": "code",
   "execution_count": 13,
   "id": "0c5319de-ae75-4a1e-916b-a62aa29ecfeb",
   "metadata": {
    "tags": []
   },
   "outputs": [],
   "source": [
    "from sklearn.linear_model import LogisticRegression"
   ]
  },
  {
   "cell_type": "markdown",
   "id": "99181a72-ebf7-4417-a686-4dcfb6add272",
   "metadata": {},
   "source": [
    "- Instantiate a logistic regression model, `logreg`."
   ]
  },
  {
   "cell_type": "code",
   "execution_count": 14,
   "id": "62943310-b96b-4014-a908-381db6f1d6dc",
   "metadata": {
    "tags": []
   },
   "outputs": [],
   "source": [
    "logreg = LogisticRegression()"
   ]
  },
  {
   "cell_type": "markdown",
   "id": "24459131-8942-4f4c-bdb4-5927893c3bde",
   "metadata": {},
   "source": [
    "- Fit the model to the training data."
   ]
  },
  {
   "cell_type": "code",
   "execution_count": 15,
   "id": "3b361279-6b07-4307-8c56-cd7991a1a96f",
   "metadata": {
    "tags": []
   },
   "outputs": [],
   "source": [
    "logreg.fit(X_train, y_train);"
   ]
  },
  {
   "cell_type": "markdown",
   "id": "bfe2effe-44fc-48d4-aee4-bcabbd783824",
   "metadata": {},
   "source": [
    "- Predict the probabilities of each individual in the test set having a diabetes diagnosis, storing the array of positive probabilities as `y_pred_probs`."
   ]
  },
  {
   "cell_type": "code",
   "execution_count": 16,
   "id": "5e4f560e-586e-4972-a1cd-219b86b10294",
   "metadata": {
    "tags": []
   },
   "outputs": [],
   "source": [
    "y_pred_probs = logreg.predict_proba(X_test)[:, 1]"
   ]
  },
  {
   "cell_type": "code",
   "execution_count": 17,
   "id": "44cd25e9-e44c-4a71-8334-0781627840b0",
   "metadata": {
    "tags": []
   },
   "outputs": [
    {
     "name": "stdout",
     "output_type": "stream",
     "text": [
      "0.27\n",
      "0.18\n",
      "0.12\n",
      "0.16\n",
      "0.50\n",
      "0.45\n",
      "0.01\n",
      "0.62\n",
      "0.56\n",
      "0.79\n"
     ]
    }
   ],
   "source": [
    "for prob in y_pred_probs[:10]:\n",
    "    print(f\"{prob:.2f}\")"
   ]
  },
  {
   "cell_type": "markdown",
   "id": "b34adc0a-7060-42b1-9070-d6d805dfde16",
   "metadata": {},
   "source": [
    "### 2.2. The ROC curve"
   ]
  },
  {
   "cell_type": "markdown",
   "id": "95b3f2b0-8f14-4e98-aa79-b8fd5fe7b5f5",
   "metadata": {},
   "source": [
    "Now you have built a logistic regression model for predicting diabetes status, you can **plot the ROC curve to visualize how the true positive rate and false positive rate vary as the decision threshold changes**.\n",
    "\n",
    "The test labels, `y_test`, and the predicted probabilities of the test features belonging to the positive class, `y_pred_probs`, have been preloaded for you, along with `matplotlib.pyplot` as `plt`.\n",
    "\n",
    "You will create a ROC curve and then interpret the results."
   ]
  },
  {
   "cell_type": "markdown",
   "id": "430e0248-ad09-448f-83b5-1dd96ce10a58",
   "metadata": {},
   "source": [
    "- Set up the wokspace."
   ]
  },
  {
   "cell_type": "code",
   "execution_count": 18,
   "id": "54e70ff2-aa48-497c-85cb-125ee4485aa7",
   "metadata": {
    "tags": []
   },
   "outputs": [],
   "source": [
    "import matplotlib.pyplot as plt\n",
    "%matplotlib inline"
   ]
  },
  {
   "cell_type": "markdown",
   "id": "cc98fd36-295d-430b-994c-a60c7e6bb5db",
   "metadata": {},
   "source": [
    "- Import `roc_curve`."
   ]
  },
  {
   "cell_type": "code",
   "execution_count": 19,
   "id": "259d01e7-cf1c-4707-82b4-f114a2f614e4",
   "metadata": {
    "tags": []
   },
   "outputs": [],
   "source": [
    "from sklearn.metrics import roc_curve"
   ]
  },
  {
   "cell_type": "markdown",
   "id": "e75a97de-bb94-448b-ac78-c66e4e06664d",
   "metadata": {},
   "source": [
    "- Calculate the ROC curve values, using `y_test` and `y_pred_probs`, and unpacking the results into `fpr`, `tpr`, and `thresholds`."
   ]
  },
  {
   "cell_type": "code",
   "execution_count": 20,
   "id": "e44bad00-9fd0-4ee3-9099-a811d8bae6d5",
   "metadata": {
    "tags": []
   },
   "outputs": [],
   "source": [
    "fpr, tpr, thresholds = roc_curve(y_test, y_pred_probs)"
   ]
  },
  {
   "cell_type": "markdown",
   "id": "1c61df63-0348-4941-9db7-cd25440ef9bf",
   "metadata": {},
   "source": [
    "- Plot true positive rate against false positive rate."
   ]
  },
  {
   "cell_type": "code",
   "execution_count": 21,
   "id": "0752a36c-7c41-40b7-b14c-408cb7384803",
   "metadata": {
    "tags": []
   },
   "outputs": [
    {
     "data": {
      "image/png": "[encoded data removed]",
      "text/plain": [
       "<Figure size 640x480 with 1 Axes>"
      ]
     },
     "metadata": {},
     "output_type": "display_data"
    }
   ],
   "source": [
    "fig, ax = plt.subplots()\n",
    "ax.plot([0, 1], [0, 1], \"k--\")\n",
    "ax.plot(fpr, tpr)\n",
    "ax.set_xlabel(\"False Positive Rate\")\n",
    "ax.set_ylabel(\"True Positive Rate\")\n",
    "ax.set_title(\"ROC Curve for Diabetes Prediction\");"
   ]
  },
  {
   "cell_type": "markdown",
   "id": "262f998c-7336-45f2-948b-da8ca28854ca",
   "metadata": {},
   "source": [
    "Well done on producing the ROC curve for the diabetes prediction model.\n",
    "\n",
    "But, **what does the plot tell you about the model's performance?**"
   ]
  },
  {
   "cell_type": "markdown",
   "id": "a839e69b-f876-4f12-9252-c2f02d67e47e",
   "metadata": {},
   "source": [
    "> - **Possible Answers:**\n",
    ">> - The model is about as good as randomly guessing the class of each observation.\n",
    ">> - The model is much worse than randomly guessing the class of each observation.\n",
    ">> - **The model is much better than randomly guessing the class of each observation.**\n",
    ">> - It is not possible to conclude whether the model performs better or worse than randomly guessing the class of each observation."
   ]
  },
  {
   "cell_type": "markdown",
   "id": "66a643dd-c2a3-4364-b583-89cdd1449d78",
   "metadata": {
    "tags": []
   },
   "source": [
    "### 2.3. ROC AUC"
   ]
  },
  {
   "cell_type": "markdown",
   "id": "b63b30c2-076f-448b-8160-ced401698abc",
   "metadata": {},
   "source": [
    "The ROC curve you plotted in the last exercise looked promising.\n",
    "\n",
    "Now you will **compute the area under the ROC curve, along with the other classification metrics you have used previously**.\n",
    "\n",
    "The `confusion_matrix` and `classification_report` functions have been preloaded for you, along with the `logreg` model you previously built, plus `X_train`, `X_test`, `y_train`, `y_test`. Also, the model's predicted test set labels are stored as `y_pred`, and probabilities of test set observations belonging to the positive class stored as `y_pred_probs`.\n",
    "\n",
    "A `knn` model has also been created and the performance metrics printed in the console, so you can compare the `roc_auc_score`, `confusion_matrix`, and `classification_report` between the two models.\n",
    "\n",
    "```\n",
    "              precision    recall  f1-score   support\n",
    "\n",
    "           0       0.75      0.82      0.78       151\n",
    "           1       0.58      0.47      0.52        80\n",
    "\n",
    "    accuracy                           0.70       231\n",
    "   macro avg       0.67      0.65      0.65       231\n",
    "weighted avg       0.69      0.70      0.69       231\n",
    "```"
   ]
  },
  {
   "cell_type": "markdown",
   "id": "045e98aa-0909-4434-b4ee-80894c15eec9",
   "metadata": {},
   "source": [
    "- Set up the workspace."
   ]
  },
  {
   "cell_type": "code",
   "execution_count": 22,
   "id": "7e93b6ed-185b-4eff-bdaa-41555447c075",
   "metadata": {
    "tags": []
   },
   "outputs": [],
   "source": [
    "import warnings\n",
    "warnings.filterwarnings(\"ignore\")"
   ]
  },
  {
   "cell_type": "code",
   "execution_count": 23,
   "id": "4d82a7fe-041b-4fa1-937c-807a36f3e5d7",
   "metadata": {
    "tags": []
   },
   "outputs": [],
   "source": [
    "logreg.fit(X_train, y_train)\n",
    "y_pred = logreg.predict(X_test)"
   ]
  },
  {
   "cell_type": "markdown",
   "id": "16d14e77-6761-43b0-9dbd-b96b6c714c62",
   "metadata": {},
   "source": [
    "- Import `roc_auc_score`."
   ]
  },
  {
   "cell_type": "code",
   "execution_count": 24,
   "id": "0bb9eeaa-0493-4f93-aee2-1f7796d290fd",
   "metadata": {
    "tags": []
   },
   "outputs": [],
   "source": [
    "from sklearn.metrics import roc_auc_score"
   ]
  },
  {
   "cell_type": "markdown",
   "id": "5460df32-023f-4ad6-8bcd-362f8ccd49ab",
   "metadata": {},
   "source": [
    "- Calculate and print the ROC AUC score, passing the test labels and the predicted positive class probabilities."
   ]
  },
  {
   "cell_type": "code",
   "execution_count": 25,
   "id": "cde0b2b4-8d85-4c27-8644-76c5c5e8dbab",
   "metadata": {
    "tags": []
   },
   "outputs": [
    {
     "name": "stdout",
     "output_type": "stream",
     "text": [
      "0.8002483443708608\n"
     ]
    }
   ],
   "source": [
    "print(roc_auc_score(y_test, y_pred_probs))"
   ]
  },
  {
   "cell_type": "markdown",
   "id": "153ba4cb-ec9c-484a-a544-5d6391c3e13f",
   "metadata": {},
   "source": [
    "- Calculate and print the confusion matrix."
   ]
  },
  {
   "cell_type": "code",
   "execution_count": 26,
   "id": "27ea9718-4cf4-4c39-85ac-d360c3809210",
   "metadata": {
    "tags": []
   },
   "outputs": [
    {
     "name": "stdout",
     "output_type": "stream",
     "text": [
      "[[121  30]\n",
      " [ 30  50]]\n"
     ]
    }
   ],
   "source": [
    "print(confusion_matrix(y_test, y_pred))"
   ]
  },
  {
   "cell_type": "markdown",
   "id": "6223b085-c555-41f7-9f03-bcb2f1459a3c",
   "metadata": {},
   "source": [
    "- Call `classification_report()`."
   ]
  },
  {
   "cell_type": "code",
   "execution_count": 27,
   "id": "d32a5f25-37f7-44c8-a25e-94a679344808",
   "metadata": {
    "tags": []
   },
   "outputs": [
    {
     "name": "stdout",
     "output_type": "stream",
     "text": [
      "              precision    recall  f1-score   support\n",
      "\n",
      "           0       0.80      0.80      0.80       151\n",
      "           1       0.62      0.62      0.62        80\n",
      "\n",
      "    accuracy                           0.74       231\n",
      "   macro avg       0.71      0.71      0.71       231\n",
      "weighted avg       0.74      0.74      0.74       231\n",
      "\n"
     ]
    }
   ],
   "source": [
    "print(classification_report(y_test, y_pred))"
   ]
  },
  {
   "cell_type": "markdown",
   "id": "6eb47c11-0b22-4b67-b759-451fa3675e9d",
   "metadata": {},
   "source": [
    "## 3. Hyperparameter tuning"
   ]
  },
  {
   "cell_type": "markdown",
   "id": "fa1f8c2d-90e4-4294-90b7-c32dc1f1d5a4",
   "metadata": {},
   "source": [
    "**Hyperparameter tuning**\n",
    "> - Now that we know how to **evaluate** model performance, let's explore how to **optimize** our model.\n",
    "\n",
    "**Hyperparameter tuning**\n",
    "> - Recall that:\n",
    ">> - We had to choose a **value for `alpha`** in ridge and lasso regression **before fitting** it,\n",
    ">> - Likewise, we choose `n_neighbors` **before fitting** and predicting KNN.\n",
    "> - Parameters that we **specify before fitting a model**, like `alpha` and `n_neighbors`, are called **hyperparameters**.\n",
    "\n",
    "**Choosing the correct hyperparameters**\n",
    "> - So, a fundamental step for building a successful model is **choosing the correct hyperparameters**:\n",
    ">> - We can try lots of different values,\n",
    ">> - Fit all of them separately,\n",
    ">> - See how well they perform,\n",
    ">> - Choose the best values!\n",
    "> - This is called **hyperparameter tuning**.\n",
    "> - When fitting different hyperparameter values, we **use cross-validation to avoid overfitting** the hyperparameters to the test set:\n",
    ">> - We can still split the data, but **perform cross-validation on the training set**,\n",
    ">> - We **withhold** the test set and **use it for evaluating** the tuned model.\n",
    "\n",
    "**Grid search cross-validation**\n",
    "> - One approach for hyperparameter tuning is called **grid search**, where we choose a grid of possible hyperparameter values to try.\n",
    "> - For example, we can **search across two hyperparameters** for a KNN model - the type of metric and a different number of neighbors:\n",
    ">> - Here we have `n_neighbors` between `2` and `11` in increments of `3`,\n",
    ">> - Two metrics: `euclidean` and `manhattan`.\n",
    "> - Therefore, we can **create a grid** of values like this.\n",
    "\n",
    "<img style=\"margin-left: auto; margin-right: auto;\" src=\"./assets/ch03_03_hyperparameter_tuning_img01.png\">\n",
    "\n",
    "\n",
    "**Grid search cross-validation**\n",
    "> - We perform **k-fold cross-validation for each combination** of hyperparameters.\n",
    "> - The mean scores for each combination are shown here.\n",
    "> - We then choose **hyperparameters that performed best**, as shown here.\n",
    "\n",
    "<img style=\"margin-left: auto; margin-right: auto;\" src=\"./assets/ch03_03_hyperparameter_tuning_img02.png\">\n",
    "\n",
    "**GridSearchCV in scikit-learn**\n",
    "> - Let's **perform a grid search** on a regression model using our sales dataset:\n",
    ">> - We **import** GridSearchCV from `sklearn.model_selection`,\n",
    ">> - We **instantiate** `KFold`,\n",
    ">> - We then specify the **names and values of the **hyperparameters** we wish to tune as the **keys and values of a dictionary**, `param_grid`,\n",
    ">> - As always, we **instantiate** our model,\n",
    ">> - We then **call** `GridSearchCV()` and **pass** it our model, the grid we wish to tune over and set `cv` equal to `kf`,\n",
    ">> - This returns a **GridSearch object** that we can then **fit** to the training data, and this fit **performs the actual cross-validated grid search**,\n",
    ">> - We can then **print** the model's attributes `best_params_` and `best_score_`, respectively, to retrieve the **hyperparameters that perform the best** along with the **mean cross-validation score** over that fold.\n",
    "\n",
    "<img style=\"margin-left: auto; margin-right: auto;\" src=\"./assets/ch03_03_hyperparameter_tuning_img03.png\">\n",
    "\n",
    "**Limitations and an alternative approach**\n",
    "> - Grid search is great.\n",
    "> - However, the **number of fits is equal to the number of hyperparameters multiplied by the number of values multiplied by the number of folds**. \n",
    "> - Therefore, **it doesn't scale well!**\n",
    "> - So, performing 3-fold cross-validation for one hyperparameter with 10 values each means **30 fits**, while 10-fold cross-validation on 3 hyperparameters with 10 values each equals **900 fits**!\n",
    "> - However, there is **another way**.\n",
    "\n",
    "**RandomizedSearchCV**\n",
    "> - We can perform a **random search**, which **picks random hyperparameter values rather than exhaustively searching through all options**.\n",
    "> - Let's demonstrate this approach:\n",
    ">> - We **import** `RandomizedSearchCV` from `sklearn.model_selection`,\n",
    ">> - We **set up** `KFold` and `param_grid`, and **instantiate** the model as before,\n",
    ">> - We **call** `RandomizedSearchCV()` using the same arguments and variables as `GridSearchCV`,\n",
    "<< - We can optionally **set** the `n_iter` argument, which determines the number of hyperparameter values tested.\n",
    ">> - So 5-fold cross-validation with `n_iter` set to `2` performs `10` fits,\n",
    ">> - Again we can access the **best hyperparameters** and their **score**.\n",
    "> - In this case it is able to find the best hyperparameters from our previous grid search!\n",
    "\n",
    "<img style=\"margin-left: auto; margin-right: auto;\" src=\"./assets/ch03_03_hyperparameter_tuning_img03.png\">\n",
    "\n",
    "**Evaluating on the test set**\n",
    "> - We can evaluate model performance on the test set by **passing** it to a call of the random search object's `.score()` method.\n",
    "> - It actually performs **slightly better** than the best score in our grid search!"
   ]
  },
  {
   "cell_type": "markdown",
   "id": "f90374b5-c0f5-4b0f-97e1-c21557a3cb2b",
   "metadata": {},
   "source": [
    "### 3.1. Hyperparameter tuning with GridSearchCV"
   ]
  },
  {
   "cell_type": "markdown",
   "id": "0975c9d2-1873-4a8b-98cf-75a5f12dda80",
   "metadata": {},
   "source": [
    "Now you have seen how to **perform grid search hyperparameter tuning**, you are going to build a lasso regression model with optimal hyperparameters to predict blood glucose levels using the features in the `diabetes_df` dataset.\n",
    "\n",
    "`X_train`, `X_test`, `y_train`, and `y_test` have been preloaded for you. A `KFold()` object has been created and stored for you as `kf`, along with a `lasso` regression model as `lasso`."
   ]
  },
  {
   "cell_type": "markdown",
   "id": "ddf6f582-28b2-4966-8f2c-5484712356f5",
   "metadata": {},
   "source": [
    "- Set up the workspace."
   ]
  },
  {
   "cell_type": "code",
   "execution_count": 28,
   "id": "462fc47a-20db-4a2b-a2e6-9710d36f30be",
   "metadata": {
    "tags": []
   },
   "outputs": [],
   "source": [
    "import pickle\n",
    "with open(\"./assets/ch03_03_01_hyperparameter_tuning_with_GridSearchCV_pickled01.pkl\", mode=\"rb\") as file_bin:\n",
    "    pickled_objs = pickle.load(file_bin)"
   ]
  },
  {
   "cell_type": "code",
   "execution_count": 29,
   "id": "e8333f94-004f-4620-8ebf-3e6596892836",
   "metadata": {
    "tags": []
   },
   "outputs": [],
   "source": [
    "X_train, X_test = pickled_objs[\"X_train\"], pickled_objs[\"X_test\"]\n",
    "y_train, y_test = pickled_objs[\"y_train\"], pickled_objs[\"y_test\"]"
   ]
  },
  {
   "cell_type": "code",
   "execution_count": 30,
   "id": "6618b5e4-83d5-484e-a7d3-a1cea56c71ba",
   "metadata": {
    "tags": []
   },
   "outputs": [],
   "source": [
    "kf = pickled_objs[\"kf\"]\n",
    "lasso = pickled_objs[\"lasso\"]"
   ]
  },
  {
   "cell_type": "markdown",
   "id": "ffb16010-25d7-4a5f-9220-b15cd0c8f721",
   "metadata": {},
   "source": [
    "- Import `GridSearchCV`."
   ]
  },
  {
   "cell_type": "code",
   "execution_count": 31,
   "id": "af4eacf9-a2e4-4145-807d-918cd573d10b",
   "metadata": {
    "tags": []
   },
   "outputs": [],
   "source": [
    "from sklearn.model_selection import GridSearchCV"
   ]
  },
  {
   "cell_type": "markdown",
   "id": "8f9e248d-a1f9-4ea6-9b9e-915c3b48c10b",
   "metadata": {},
   "source": [
    "- Set up a parameter grid for `\"alpha\"`, using `np.linspace()` to create 20 evenly spaced values ranging from `0.00001` to `1`."
   ]
  },
  {
   "cell_type": "code",
   "execution_count": 32,
   "id": "b16aea92-d914-4ae5-8624-0d66564744e6",
   "metadata": {
    "tags": []
   },
   "outputs": [],
   "source": [
    "import numpy as np\n",
    "param_grid = {\"alpha\": np.linspace(1e-5, 1, num=20)}"
   ]
  },
  {
   "cell_type": "markdown",
   "id": "1bf731ec-4b56-4579-a677-071dcf659948",
   "metadata": {},
   "source": [
    "- Call `GridSearchCV()`, passing `lasso`, the parameter grid, and setting `cv` equal to `kf`."
   ]
  },
  {
   "cell_type": "code",
   "execution_count": 33,
   "id": "fddeb4e5-51ab-47b2-a1cf-d2f854c59dc3",
   "metadata": {
    "tags": []
   },
   "outputs": [],
   "source": [
    "lasso_cv = GridSearchCV(lasso, param_grid, cv=kf)"
   ]
  },
  {
   "cell_type": "markdown",
   "id": "7df6609a-b020-499a-85a2-14de9db60e72",
   "metadata": {},
   "source": [
    "- Fit the grid search object to the training data to perform a cross-validated grid search."
   ]
  },
  {
   "cell_type": "code",
   "execution_count": 34,
   "id": "a4b14289-43fa-481a-b698-6fea1f3cd3ed",
   "metadata": {
    "tags": []
   },
   "outputs": [],
   "source": [
    "lasso_cv.fit(X_train, y_train);"
   ]
  },
  {
   "cell_type": "code",
   "execution_count": 35,
   "id": "bfd00561-2fe5-450d-b586-4b34103d2d14",
   "metadata": {
    "tags": []
   },
   "outputs": [
    {
     "data": {
      "text/html": [
       "<div>\n",
       "<style scoped>\n",
       "    .dataframe tbody tr th:only-of-type {\n",
       "        vertical-align: middle;\n",
       "    }\n",
       "\n",
       "    .dataframe tbody tr th {\n",
       "        vertical-align: top;\n",
       "    }\n",
       "\n",
       "    .dataframe thead th {\n",
       "        text-align: right;\n",
       "    }\n",
       "</style>\n",
       "<table border=\"1\" class=\"dataframe\">\n",
       "  <thead>\n",
       "    <tr style=\"text-align: right;\">\n",
       "      <th></th>\n",
       "      <th>alpha</th>\n",
       "      <th>mean_test_score</th>\n",
       "      <th>std_test_score</th>\n",
       "      <th>rank_test_score</th>\n",
       "    </tr>\n",
       "  </thead>\n",
       "  <tbody>\n",
       "    <tr>\n",
       "      <th>0</th>\n",
       "      <td>0.000010</td>\n",
       "      <td>0.330788</td>\n",
       "      <td>0.037451</td>\n",
       "      <td>1</td>\n",
       "    </tr>\n",
       "    <tr>\n",
       "      <th>1</th>\n",
       "      <td>0.052641</td>\n",
       "      <td>0.330651</td>\n",
       "      <td>0.036713</td>\n",
       "      <td>2</td>\n",
       "    </tr>\n",
       "    <tr>\n",
       "      <th>2</th>\n",
       "      <td>0.105272</td>\n",
       "      <td>0.330431</td>\n",
       "      <td>0.036040</td>\n",
       "      <td>3</td>\n",
       "    </tr>\n",
       "    <tr>\n",
       "      <th>3</th>\n",
       "      <td>0.157903</td>\n",
       "      <td>0.330109</td>\n",
       "      <td>0.035477</td>\n",
       "      <td>4</td>\n",
       "    </tr>\n",
       "    <tr>\n",
       "      <th>4</th>\n",
       "      <td>0.210534</td>\n",
       "      <td>0.329917</td>\n",
       "      <td>0.035008</td>\n",
       "      <td>5</td>\n",
       "    </tr>\n",
       "  </tbody>\n",
       "</table>\n",
       "</div>"
      ],
      "text/plain": [
       "      alpha  mean_test_score  std_test_score  rank_test_score\n",
       "0  0.000010         0.330788        0.037451                1\n",
       "1  0.052641         0.330651        0.036713                2\n",
       "2  0.105272         0.330431        0.036040                3\n",
       "3  0.157903         0.330109        0.035477                4\n",
       "4  0.210534         0.329917        0.035008                5"
      ]
     },
     "execution_count": 35,
     "metadata": {},
     "output_type": "execute_result"
    }
   ],
   "source": [
    "import pandas as pd\n",
    "# Select columns of interest:\n",
    "cols = [\"params\", \"mean_test_score\", \"std_test_score\", \"rank_test_score\"]\n",
    "cv_results = pd.DataFrame(lasso_cv.cv_results_)[cols]\n",
    "# Explode & concatenate params:\n",
    "params = cv_results[\"params\"].apply(pd.Series)\n",
    "cv_results = pd.concat(objs=[params, cv_results], axis=1).drop(columns=\"params\")\n",
    "# Sort and view the results:\n",
    "cv_results.sort_values(by=\"rank_test_score\", inplace=True)\n",
    "cv_results.head()"
   ]
  },
  {
   "cell_type": "code",
   "execution_count": 36,
   "id": "8c16e02c-45be-4517-9590-46834986ce6d",
   "metadata": {
    "tags": []
   },
   "outputs": [
    {
     "name": "stdout",
     "output_type": "stream",
     "text": [
      "Best parameters after tuning: {'alpha': 1e-05}\n",
      "Best score after tuning: 0.33\n"
     ]
    }
   ],
   "source": [
    "print(f\"Best parameters after tuning: {lasso_cv.best_params_}\")\n",
    "print(f\"Best score after tuning: {lasso_cv.best_score_:.2f}\")"
   ]
  },
  {
   "cell_type": "markdown",
   "id": "cbd80e2e-0142-40f2-9603-401341f63ef1",
   "metadata": {},
   "source": [
    "### 3.2. Hyperparameter tuning with RandomizedSearchCV"
   ]
  },
  {
   "cell_type": "markdown",
   "id": "0b310827-32e7-441a-8f8b-4e92ffbb4ecc",
   "metadata": {},
   "source": [
    "As you saw, **`GridSearchCV` can be computationally expensive, especially if you are searching over a large hyperparameter space**. In this case, you can use **`RandomizedSearchCV`**, which **tests a fixed number of hyperparameter settings from specified probability distributions**.\n",
    "\n",
    "Training and test sets from diabetes_df have been pre-loaded for you as `X_train`. `X_test`, `y_train`, and `y_test`, where the target is `\"diabetes\"`. A logistic regression model has been created and stored as `logreg`, as well as a `KFold()` object stored as `kf`.\n",
    "\n",
    "You will define a range of hyperparameters and use `RandomizedSearchCV`, which has been imported from `sklearn.model_selection`, to look for optimal hyperparameters from these options."
   ]
  },
  {
   "cell_type": "markdown",
   "id": "e2ef567e-ce4d-4908-87dc-a515a23fa40d",
   "metadata": {},
   "source": [
    "- Set up the workspace."
   ]
  },
  {
   "cell_type": "code",
   "execution_count": 37,
   "id": "ad766f6f-4710-4c48-bad0-b6ef73841e5a",
   "metadata": {
    "tags": []
   },
   "outputs": [],
   "source": [
    "import pickle\n",
    "with open(\"./assets/ch03_03_02_hyperparameter_tuning_with_RandomizedSearchCV_pickled01.pkl\", mode=\"rb\") as file_bin:\n",
    "    pickled_objs = pickle.load(file_bin)"
   ]
  },
  {
   "cell_type": "code",
   "execution_count": 38,
   "id": "794d430f-bfd9-451e-acc4-1c64a8e28651",
   "metadata": {
    "tags": []
   },
   "outputs": [],
   "source": [
    "X_train, X_test = pickled_objs[\"X_train\"], pickled_objs[\"X_test\"]\n",
    "y_train, y_test = pickled_objs[\"y_train\"], pickled_objs[\"y_test\"]"
   ]
  },
  {
   "cell_type": "code",
   "execution_count": 39,
   "id": "279505ba-13d9-4fc6-9351-9b420ff49fc3",
   "metadata": {
    "tags": []
   },
   "outputs": [],
   "source": [
    "kf = pickled_objs[\"kf\"]\n",
    "logreg = pickled_objs[\"logreg\"]"
   ]
  },
  {
   "cell_type": "code",
   "execution_count": 40,
   "id": "3476faf9-c094-420c-a493-b1579fcf328c",
   "metadata": {
    "tags": []
   },
   "outputs": [],
   "source": [
    "import warnings\n",
    "warnings.filterwarnings(\"ignore\")"
   ]
  },
  {
   "cell_type": "markdown",
   "id": "9579f7b0-04be-4979-aa0d-ec06322591cf",
   "metadata": {},
   "source": [
    "- Create `param_dist`, adding `\"l1\"` and `\"l2\"` as `penalty` values, setting `C` to a range of 50 float values between` 0.1` and `1.0`, and `class_weight` to either `\"balanced\"` or a dictionary `{0: 0.8, 1: 0.2}`."
   ]
  },
  {
   "cell_type": "code",
   "execution_count": 41,
   "id": "30cda6a0-7e02-45ec-908e-9ab4e8172b08",
   "metadata": {
    "tags": []
   },
   "outputs": [],
   "source": [
    "import numpy as np\n",
    "param_dist = {\"penalty\": [\"l1\", \"l2\"],\n",
    "              \"tol\": np.linspace(1e-4, 1.0, num=50),\n",
    "              \"C\": np.linspace(0.1, 1.0, num=50),\n",
    "              \"class_weight\": [\"balanced\", {0: 0.8, 1: 0.2}]}"
   ]
  },
  {
   "cell_type": "markdown",
   "id": "a347452c-0a5f-4a57-9529-2b7fcd20c72f",
   "metadata": {},
   "source": [
    "- Create the Randomized Search CV object, passing the model and the parameters, and setting `cv` equal to `kf`."
   ]
  },
  {
   "cell_type": "code",
   "execution_count": 42,
   "id": "60872415-650b-4511-9d20-46002e42a130",
   "metadata": {
    "tags": []
   },
   "outputs": [],
   "source": [
    "from sklearn.model_selection import RandomizedSearchCV"
   ]
  },
  {
   "cell_type": "code",
   "execution_count": 43,
   "id": "951b67e2-b803-4cf4-b51e-60bbd21458ba",
   "metadata": {
    "tags": []
   },
   "outputs": [],
   "source": [
    "logreg_cv = RandomizedSearchCV(logreg, param_dist, cv=kf)"
   ]
  },
  {
   "cell_type": "markdown",
   "id": "ae4938a5-1f93-423b-a63d-1dc0e9c4fc15",
   "metadata": {},
   "source": [
    "- Fit `logreg_cv` to the training data."
   ]
  },
  {
   "cell_type": "code",
   "execution_count": 44,
   "id": "ba12ac9d-628c-4a07-a034-39164b9cc282",
   "metadata": {
    "tags": []
   },
   "outputs": [],
   "source": [
    "logreg_cv.fit(X_train, y_train);"
   ]
  },
  {
   "cell_type": "markdown",
   "id": "40fc0d57-c3a6-446f-a3aa-337514897a22",
   "metadata": {},
   "source": [
    "- Print the model's best parameters and accuracy score."
   ]
  },
  {
   "cell_type": "code",
   "execution_count": 45,
   "id": "de3138d0-d3bf-4ddb-9890-f46fc0a84252",
   "metadata": {
    "tags": []
   },
   "outputs": [
    {
     "data": {
      "text/html": [
       "<div>\n",
       "<style scoped>\n",
       "    .dataframe tbody tr th:only-of-type {\n",
       "        vertical-align: middle;\n",
       "    }\n",
       "\n",
       "    .dataframe tbody tr th {\n",
       "        vertical-align: top;\n",
       "    }\n",
       "\n",
       "    .dataframe thead th {\n",
       "        text-align: right;\n",
       "    }\n",
       "</style>\n",
       "<table border=\"1\" class=\"dataframe\">\n",
       "  <thead>\n",
       "    <tr style=\"text-align: right;\">\n",
       "      <th></th>\n",
       "      <th>tol</th>\n",
       "      <th>penalty</th>\n",
       "      <th>class_weight</th>\n",
       "      <th>C</th>\n",
       "      <th>mean_test_score</th>\n",
       "      <th>std_test_score</th>\n",
       "      <th>rank_test_score</th>\n",
       "    </tr>\n",
       "  </thead>\n",
       "  <tbody>\n",
       "    <tr>\n",
       "      <th>4</th>\n",
       "      <td>0.204161</td>\n",
       "      <td>l2</td>\n",
       "      <td>balanced</td>\n",
       "      <td>0.981633</td>\n",
       "      <td>0.737865</td>\n",
       "      <td>0.035660</td>\n",
       "      <td>1</td>\n",
       "    </tr>\n",
       "    <tr>\n",
       "      <th>6</th>\n",
       "      <td>0.693908</td>\n",
       "      <td>l2</td>\n",
       "      <td>balanced</td>\n",
       "      <td>0.724490</td>\n",
       "      <td>0.736226</td>\n",
       "      <td>0.033491</td>\n",
       "      <td>2</td>\n",
       "    </tr>\n",
       "    <tr>\n",
       "      <th>3</th>\n",
       "      <td>0.081724</td>\n",
       "      <td>l2</td>\n",
       "      <td>balanced</td>\n",
       "      <td>0.963265</td>\n",
       "      <td>0.733000</td>\n",
       "      <td>0.042656</td>\n",
       "      <td>3</td>\n",
       "    </tr>\n",
       "    <tr>\n",
       "      <th>8</th>\n",
       "      <td>0.734720</td>\n",
       "      <td>l2</td>\n",
       "      <td>balanced</td>\n",
       "      <td>0.963265</td>\n",
       "      <td>0.733000</td>\n",
       "      <td>0.042656</td>\n",
       "      <td>3</td>\n",
       "    </tr>\n",
       "    <tr>\n",
       "      <th>2</th>\n",
       "      <td>0.612284</td>\n",
       "      <td>l2</td>\n",
       "      <td>{0: 0.8, 1: 0.2}</td>\n",
       "      <td>0.246939</td>\n",
       "      <td>0.706904</td>\n",
       "      <td>0.036992</td>\n",
       "      <td>5</td>\n",
       "    </tr>\n",
       "  </tbody>\n",
       "</table>\n",
       "</div>"
      ],
      "text/plain": [
       "        tol penalty      class_weight         C  mean_test_score  \\\n",
       "4  0.204161      l2          balanced  0.981633         0.737865   \n",
       "6  0.693908      l2          balanced  0.724490         0.736226   \n",
       "3  0.081724      l2          balanced  0.963265         0.733000   \n",
       "8  0.734720      l2          balanced  0.963265         0.733000   \n",
       "2  0.612284      l2  {0: 0.8, 1: 0.2}  0.246939         0.706904   \n",
       "\n",
       "   std_test_score  rank_test_score  \n",
       "4        0.035660                1  \n",
       "6        0.033491                2  \n",
       "3        0.042656                3  \n",
       "8        0.042656                3  \n",
       "2        0.036992                5  "
      ]
     },
     "execution_count": 45,
     "metadata": {},
     "output_type": "execute_result"
    }
   ],
   "source": [
    "import pandas as pd\n",
    "# Select columns of interest:\n",
    "cols = [\"params\", \"mean_test_score\", \"std_test_score\", \"rank_test_score\"]\n",
    "cv_results = pd.DataFrame(logreg_cv.cv_results_)[cols]\n",
    "# Explode & concatenate params:\n",
    "params = cv_results[\"params\"].apply(pd.Series)\n",
    "cv_results = pd.concat(objs=[params, cv_results], axis=1).drop(columns=\"params\")\n",
    "# Sort and view the results:\n",
    "cv_results.sort_values(by=\"rank_test_score\", inplace=True)\n",
    "cv_results.head()"
   ]
  },
  {
   "cell_type": "code",
   "execution_count": 46,
   "id": "aa856825-7b63-4b4b-8420-ff287bfad681",
   "metadata": {
    "tags": []
   },
   "outputs": [
    {
     "name": "stdout",
     "output_type": "stream",
     "text": [
      "Best parameters after tuning: {'tol': 0.2041612244897959, 'penalty': 'l2', 'class_weight': 'balanced', 'C': 0.9816326530612246}\n",
      "Best score after tuning: 0.74\n"
     ]
    }
   ],
   "source": [
    "print(f\"Best parameters after tuning: {logreg_cv.best_params_}\")\n",
    "print(f\"Best score after tuning: {logreg_cv.best_score_:.2f}\")"
   ]
  },
  {
   "cell_type": "code",
   "execution_count": null,
   "id": "3fbfa7fd-c650-4b17-9e8a-3a74c584dc6e",
   "metadata": {},
   "outputs": [],
   "source": []
  }
 ],
 "metadata": {
  "kernelspec": {
   "display_name": "Data-Science",
   "language": "python",
   "name": "data-science"
  },
  "language_info": {
   "codemirror_mode": {
    "name": "ipython",
    "version": 3
   },
   "file_extension": ".py",
   "mimetype": "text/x-python",
   "name": "python",
   "nbconvert_exporter": "python",
   "pygments_lexer": "ipython3",
   "version": "3.10.10"
  }
 },
 "nbformat": 4,
 "nbformat_minor": 5
}
