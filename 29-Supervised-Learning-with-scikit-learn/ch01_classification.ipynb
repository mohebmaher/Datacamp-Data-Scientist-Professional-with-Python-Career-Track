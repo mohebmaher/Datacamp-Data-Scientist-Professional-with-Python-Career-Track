{
 "cells": [
  {
   "cell_type": "markdown",
   "id": "79482995-d85f-4c5e-8aca-a8d331077ec0",
   "metadata": {},
   "source": [
    "# Chapter #1: Classification"
   ]
  },
  {
   "cell_type": "markdown",
   "id": "81e90074-cad1-4a0f-b853-4997141c4d32",
   "metadata": {},
   "source": [
    "## 1. Machine learning with scikit-learn"
   ]
  },
  {
   "cell_type": "markdown",
   "id": "4b955a5b-9fc7-49d2-979c-e40bd6923aac",
   "metadata": {},
   "source": [
    "**What is machine learning?**\n",
    "> - Machine learning is the process whereby computers learn to make decisions from data without being explicitly programmed.\n",
    "\n",
    "**Examples of machine learning**\n",
    "> - For example, learning to predict whether an email is spam or not spam given its content and sender.\n",
    "> - Or learning to cluster books into different categories based on the words they contain, then assigning any new book to one of the existing clusters.\n",
    "\n",
    "**Unsupervised learning**\n",
    "> - Unsupervised learning is the process of uncovering hidden patterns and structures from unlabeled data.\n",
    "> - For example, a business may wish to group its customers into distinct categories based on their purchasing behavior without knowing in advance what these categories are.\n",
    "> - This is known as clustering, one branch of unsupervised learning.\n",
    "\n",
    "<img src=\"./assets/ch01_01_ml_with_scikit_learn_img01.png\">\n",
    "\n",
    "**Supervised learning**\n",
    "> - Supervised learning is a type of machine learning where the values to be predicted are already known, and a model is built with the aim of accurately predicting values of previously unseen data.\n",
    "> - Supervised learning uses features to predict the value of a target variable, such as predicting a basketball player's position based on their points per game.\n",
    "> - This course will exclusively focus on supervised learning.\n",
    "\n",
    "<img src=\"./assets/ch01_01_ml_with_scikit_learn_img02.png\">\n",
    "\n",
    "**Types of supervised learning**\n",
    "> - There are two types of supervised learning:\n",
    "> 1. Classification is used to predict the label, or category, of an observation.\n",
    ">> - For example, we can predict whether a bank transaction is fraudulent or not.\n",
    ">> - As there are two outcomes here - a fraudulent transaction, or non-fraudulent transaction, this is known as binary classification.\n",
    "> 2. Regression is used to predict continuous values.\n",
    ">> - For example, a model can use features such as number of bedrooms, and the size of a property, to predict the target variable, price of the property.\n",
    "\n",
    "**Naming conventions**\n",
    "> - Note that what we call a feature throughout the course, others may call a predictor variable or independent variable.\n",
    "> - Also, what we call the target variable, others may call dependent variable or response variable.\n",
    "\n",
    "**Before you use supervised learning**\n",
    "> - There are some requirements to satisfy before performing supervised learning:\n",
    ">> - Our data must not have missing values,\n",
    ">> - Our data must be in numeric format,\n",
    ">> - Our data is stored as pandas DataFrames or Series, or NumPy arrays.\n",
    "> - This requires some exploratory data analysis first to ensure data is in the correct format.\n",
    "> - Various pandas methods for descriptive statistics, along with appropriate data visualizations, are useful in this step.\n",
    "\n",
    "**scikit-learn syntax**\n",
    "> - scikit-learn follows the same syntax for all supervised learning models, which makes the workflow repeatable.\n",
    "> - Let's familiarize ourselves with the general scikit-learn workflow syntax, before we explore using real data later in the chapter:\n",
    ">> - We import a `Model`, which is a type of algorithm for our supervised learning problem, from an `sklearn` module.\n",
    ">>> - For example, the k-Nearest Neighbors model uses distance between observations to predict labels or values.\n",
    ">> - We create a variable named `model`, and instantiate the `Model`.\n",
    ">> - A `model` is fit to the data, where it learns patterns about the features and the target variable.\n",
    ">>> - We fit the model to `X`, an array of our features, and `y`, an array of our target variable values.\n",
    ">> - We then use the `model`'s `.predict()` method, passing six new observations, `X_new`.\n",
    ">>> - For example, if feeding features from six emails to a spam classification model, an array of six values is returned.\n",
    ">>> - A `1` indicates the model predicts that email is spam, and a `0` represents a prediction of not spam.\n",
    "\n",
    "<img src=\"./assets/ch01_01_ml_with_scikit_learn_img03.png\">"
   ]
  },
  {
   "cell_type": "markdown",
   "id": "2c280a1a-ba7c-41e5-8daf-44dbbfa6d784",
   "metadata": {},
   "source": [
    "### 1.1. Binary classification"
   ]
  },
  {
   "cell_type": "markdown",
   "id": "5cd30b86-d6f1-4b0c-be73-b677645368a5",
   "metadata": {},
   "source": [
    "In the video, you saw that there are two types of supervised learning — classification and regression. Recall that binary classification is used to predict a target variable that has only two labels, typically represented numerically with a zero or a one.\n",
    "\n",
    "A dataset, `churn_df`, has been preloaded for you in the console.\n",
    "\n",
    "Your task is to examine the data and choose which column could be the target variable for binary classification."
   ]
  },
  {
   "cell_type": "code",
   "execution_count": 1,
   "id": "14ae9e08-53ea-4ef8-bdae-f8cddec77fd5",
   "metadata": {
    "tags": []
   },
   "outputs": [
    {
     "data": {
      "text/html": [
       "<div>\n",
       "<style scoped>\n",
       "    .dataframe tbody tr th:only-of-type {\n",
       "        vertical-align: middle;\n",
       "    }\n",
       "\n",
       "    .dataframe tbody tr th {\n",
       "        vertical-align: top;\n",
       "    }\n",
       "\n",
       "    .dataframe thead th {\n",
       "        text-align: right;\n",
       "    }\n",
       "</style>\n",
       "<table border=\"1\" class=\"dataframe\">\n",
       "  <thead>\n",
       "    <tr style=\"text-align: right;\">\n",
       "      <th></th>\n",
       "      <th>account_length</th>\n",
       "      <th>total_day_charge</th>\n",
       "      <th>total_eve_charge</th>\n",
       "      <th>total_night_charge</th>\n",
       "      <th>total_intl_charge</th>\n",
       "      <th>customer_service_calls</th>\n",
       "      <th>churn</th>\n",
       "    </tr>\n",
       "  </thead>\n",
       "  <tbody>\n",
       "    <tr>\n",
       "      <th>0</th>\n",
       "      <td>101</td>\n",
       "      <td>45.85</td>\n",
       "      <td>17.65</td>\n",
       "      <td>9.64</td>\n",
       "      <td>1.22</td>\n",
       "      <td>3</td>\n",
       "      <td>1</td>\n",
       "    </tr>\n",
       "    <tr>\n",
       "      <th>1</th>\n",
       "      <td>73</td>\n",
       "      <td>22.30</td>\n",
       "      <td>9.05</td>\n",
       "      <td>9.98</td>\n",
       "      <td>2.75</td>\n",
       "      <td>2</td>\n",
       "      <td>0</td>\n",
       "    </tr>\n",
       "    <tr>\n",
       "      <th>2</th>\n",
       "      <td>86</td>\n",
       "      <td>24.62</td>\n",
       "      <td>17.53</td>\n",
       "      <td>11.49</td>\n",
       "      <td>3.13</td>\n",
       "      <td>4</td>\n",
       "      <td>0</td>\n",
       "    </tr>\n",
       "    <tr>\n",
       "      <th>3</th>\n",
       "      <td>59</td>\n",
       "      <td>34.73</td>\n",
       "      <td>21.02</td>\n",
       "      <td>9.66</td>\n",
       "      <td>3.24</td>\n",
       "      <td>1</td>\n",
       "      <td>0</td>\n",
       "    </tr>\n",
       "    <tr>\n",
       "      <th>4</th>\n",
       "      <td>129</td>\n",
       "      <td>27.42</td>\n",
       "      <td>18.75</td>\n",
       "      <td>10.11</td>\n",
       "      <td>2.59</td>\n",
       "      <td>1</td>\n",
       "      <td>0</td>\n",
       "    </tr>\n",
       "  </tbody>\n",
       "</table>\n",
       "</div>"
      ],
      "text/plain": [
       "   account_length  total_day_charge  total_eve_charge  total_night_charge  \\\n",
       "0             101             45.85             17.65                9.64   \n",
       "1              73             22.30              9.05                9.98   \n",
       "2              86             24.62             17.53               11.49   \n",
       "3              59             34.73             21.02                9.66   \n",
       "4             129             27.42             18.75               10.11   \n",
       "\n",
       "   total_intl_charge  customer_service_calls  churn  \n",
       "0               1.22                       3      1  \n",
       "1               2.75                       2      0  \n",
       "2               3.13                       4      0  \n",
       "3               3.24                       1      0  \n",
       "4               2.59                       1      0  "
      ]
     },
     "execution_count": 1,
     "metadata": {},
     "output_type": "execute_result"
    }
   ],
   "source": [
    "import pandas as pd\n",
    "churn_df = pd.read_csv(\"./datasets/churn.csv\").drop(columns=\"Unnamed: 0\")\n",
    "churn_df.head()"
   ]
  },
  {
   "cell_type": "markdown",
   "id": "33bdb5f8-6c71-4a40-9333-a5470b4c03b1",
   "metadata": {},
   "source": [
    "- Possible Answers:\n",
    "> - `\"customer_service_calls\"`\n",
    "> - `\"total_night_charge\"`\n",
    "> - **`\"churn\"`**\n",
    "> - `\"account_length\"`"
   ]
  },
  {
   "cell_type": "markdown",
   "id": "5fe0354e-18e3-4a22-a0a9-4c9142fca8fe",
   "metadata": {},
   "source": [
    "### 1.2. The supervised learning workflow"
   ]
  },
  {
   "cell_type": "markdown",
   "id": "e0063cc6-483d-4c3a-82c9-dd963542ff08",
   "metadata": {},
   "source": [
    "Recall that scikit-learn offers a repeatable workflow for using supervised learning models to predict the target variable values when presented with new data.\n",
    "\n",
    "Reorder the pseudo-code provided so it accurately represents the workflow of building a supervised learning model and making predictions."
   ]
  },
  {
   "cell_type": "markdown",
   "id": "33af0a88-4eb1-4c46-bbfe-839b9122048a",
   "metadata": {},
   "source": [
    "- Drag the code blocks into the correct order to represent how a supervised learning workflow would be executed."
   ]
  },
  {
   "cell_type": "markdown",
   "id": "271abbfc-d478-42dc-b39a-f4d5a10c9a49",
   "metadata": {},
   "source": [
    "<img src=\"./assets/ch01_01_02_the_supervised_learning_workflow_img01.png\">"
   ]
  },
  {
   "cell_type": "markdown",
   "id": "73d14a84-32ec-4a14-815f-063e327fa4d4",
   "metadata": {},
   "source": [
    "## 2. The classification challenge"
   ]
  },
  {
   "cell_type": "code",
   "execution_count": null,
   "id": "1050793d-2f04-4863-b22c-e916d5310b76",
   "metadata": {},
   "outputs": [],
   "source": []
  }
 ],
 "metadata": {
  "kernelspec": {
   "display_name": "Data-Science",
   "language": "python",
   "name": "data-science"
  },
  "language_info": {
   "codemirror_mode": {
    "name": "ipython",
    "version": 3
   },
   "file_extension": ".py",
   "mimetype": "text/x-python",
   "name": "python",
   "nbconvert_exporter": "python",
   "pygments_lexer": "ipython3",
   "version": "3.10.10"
  }
 },
 "nbformat": 4,
 "nbformat_minor": 5
}
