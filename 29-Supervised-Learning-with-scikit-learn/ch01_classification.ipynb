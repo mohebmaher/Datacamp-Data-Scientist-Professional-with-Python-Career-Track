{
 "cells": [
  {
   "cell_type": "markdown",
   "id": "79482995-d85f-4c5e-8aca-a8d331077ec0",
   "metadata": {},
   "source": [
    "# Chapter #1: Classification"
   ]
  },
  {
   "cell_type": "markdown",
   "id": "81e90074-cad1-4a0f-b853-4997141c4d32",
   "metadata": {},
   "source": [
    "## 1. Machine learning with scikit-learn"
   ]
  },
  {
   "cell_type": "markdown",
   "id": "4b955a5b-9fc7-49d2-979c-e40bd6923aac",
   "metadata": {},
   "source": [
    "**What is machine learning?**\n",
    "> - Machine learning is the process whereby computers learn to make decisions from data without being explicitly programmed.\n",
    "\n",
    "**Examples of machine learning**\n",
    "> - For example, learning to predict whether an email is spam or not spam given its content and sender.\n",
    "> - Or learning to cluster books into different categories based on the words they contain, then assigning any new book to one of the existing clusters.\n",
    "\n",
    "**Unsupervised learning**\n",
    "> - Unsupervised learning is the process of uncovering hidden patterns and structures from unlabeled data.\n",
    "> - For example, a business may wish to group its customers into distinct categories based on their purchasing behavior without knowing in advance what these categories are.\n",
    "> - This is known as clustering, one branch of unsupervised learning.\n",
    "\n",
    "<img src=\"./assets/ch01_01_ml_with_scikit_learn_img01.png\">\n",
    "\n",
    "**Supervised learning**\n",
    "> - Supervised learning is a type of machine learning where the values to be predicted are already known, and a model is built with the aim of accurately predicting values of previously unseen data.\n",
    "> - Supervised learning uses features to predict the value of a target variable, such as predicting a basketball player's position based on their points per game.\n",
    "> - This course will exclusively focus on supervised learning.\n",
    "\n",
    "<img src=\"./assets/ch01_01_ml_with_scikit_learn_img02.png\">\n",
    "\n",
    "**Types of supervised learning**\n",
    "> - There are two types of supervised learning:\n",
    "> 1. Classification is used to predict the label, or category, of an observation.\n",
    ">> - For example, we can predict whether a bank transaction is fraudulent or not.\n",
    ">> - As there are two outcomes here - a fraudulent transaction, or non-fraudulent transaction, this is known as binary classification.\n",
    "> 2. Regression is used to predict continuous values.\n",
    ">> - For example, a model can use features such as number of bedrooms, and the size of a property, to predict the target variable, price of the property.\n",
    "\n",
    "**Naming conventions**\n",
    "> - Note that what we call a feature throughout the course, others may call a predictor variable or independent variable.\n",
    "> - Also, what we call the target variable, others may call dependent variable or response variable.\n",
    "\n",
    "**Before you use supervised learning**\n",
    "> - There are some requirements to satisfy before performing supervised learning:\n",
    ">> - Our data must not have missing values,\n",
    ">> - Our data must be in numeric format,\n",
    ">> - Our data is stored as pandas DataFrames or Series, or NumPy arrays.\n",
    "> - This requires some exploratory data analysis first to ensure data is in the correct format.\n",
    "> - Various pandas methods for descriptive statistics, along with appropriate data visualizations, are useful in this step.\n",
    "\n",
    "**scikit-learn syntax**\n",
    "> - scikit-learn follows the same syntax for all supervised learning models, which makes the workflow repeatable.\n",
    "> - Let's familiarize ourselves with the general scikit-learn workflow syntax, before we explore using real data later in the chapter:\n",
    ">> - We import a `Model`, which is a type of algorithm for our supervised learning problem, from an `sklearn` module.\n",
    ">>> - For example, the k-Nearest Neighbors model uses distance between observations to predict labels or values.\n",
    ">> - We create a variable named `model`, and instantiate the `Model`.\n",
    ">> - A `model` is fit to the data, where it learns patterns about the features and the target variable.\n",
    ">>> - We fit the model to `X`, an array of our features, and `y`, an array of our target variable values.\n",
    ">> - We then use the `model`'s `.predict()` method, passing six new observations, `X_new`.\n",
    ">>> - For example, if feeding features from six emails to a spam classification model, an array of six values is returned.\n",
    ">>> - A `1` indicates the model predicts that email is spam, and a `0` represents a prediction of not spam.\n",
    "\n",
    "<img src=\"./assets/ch01_01_ml_with_scikit_learn_img03.png\">"
   ]
  },
  {
   "cell_type": "markdown",
   "id": "2c280a1a-ba7c-41e5-8daf-44dbbfa6d784",
   "metadata": {},
   "source": [
    "### 1.1. Binary classification"
   ]
  },
  {
   "cell_type": "markdown",
   "id": "5cd30b86-d6f1-4b0c-be73-b677645368a5",
   "metadata": {},
   "source": [
    "In the video, you saw that there are two types of supervised learning — classification and regression. Recall that binary classification is used to predict a target variable that has only two labels, typically represented numerically with a zero or a one.\n",
    "\n",
    "A dataset, `churn_df`, has been preloaded for you in the console.\n",
    "\n",
    "Your task is to examine the data and choose which column could be the target variable for binary classification."
   ]
  },
  {
   "cell_type": "code",
   "execution_count": 1,
   "id": "14ae9e08-53ea-4ef8-bdae-f8cddec77fd5",
   "metadata": {
    "tags": []
   },
   "outputs": [
    {
     "data": {
      "text/html": [
       "<div>\n",
       "<style scoped>\n",
       "    .dataframe tbody tr th:only-of-type {\n",
       "        vertical-align: middle;\n",
       "    }\n",
       "\n",
       "    .dataframe tbody tr th {\n",
       "        vertical-align: top;\n",
       "    }\n",
       "\n",
       "    .dataframe thead th {\n",
       "        text-align: right;\n",
       "    }\n",
       "</style>\n",
       "<table border=\"1\" class=\"dataframe\">\n",
       "  <thead>\n",
       "    <tr style=\"text-align: right;\">\n",
       "      <th></th>\n",
       "      <th>account_length</th>\n",
       "      <th>total_day_charge</th>\n",
       "      <th>total_eve_charge</th>\n",
       "      <th>total_night_charge</th>\n",
       "      <th>total_intl_charge</th>\n",
       "      <th>customer_service_calls</th>\n",
       "      <th>churn</th>\n",
       "    </tr>\n",
       "  </thead>\n",
       "  <tbody>\n",
       "    <tr>\n",
       "      <th>0</th>\n",
       "      <td>101</td>\n",
       "      <td>45.85</td>\n",
       "      <td>17.65</td>\n",
       "      <td>9.64</td>\n",
       "      <td>1.22</td>\n",
       "      <td>3</td>\n",
       "      <td>1</td>\n",
       "    </tr>\n",
       "    <tr>\n",
       "      <th>1</th>\n",
       "      <td>73</td>\n",
       "      <td>22.30</td>\n",
       "      <td>9.05</td>\n",
       "      <td>9.98</td>\n",
       "      <td>2.75</td>\n",
       "      <td>2</td>\n",
       "      <td>0</td>\n",
       "    </tr>\n",
       "    <tr>\n",
       "      <th>2</th>\n",
       "      <td>86</td>\n",
       "      <td>24.62</td>\n",
       "      <td>17.53</td>\n",
       "      <td>11.49</td>\n",
       "      <td>3.13</td>\n",
       "      <td>4</td>\n",
       "      <td>0</td>\n",
       "    </tr>\n",
       "    <tr>\n",
       "      <th>3</th>\n",
       "      <td>59</td>\n",
       "      <td>34.73</td>\n",
       "      <td>21.02</td>\n",
       "      <td>9.66</td>\n",
       "      <td>3.24</td>\n",
       "      <td>1</td>\n",
       "      <td>0</td>\n",
       "    </tr>\n",
       "    <tr>\n",
       "      <th>4</th>\n",
       "      <td>129</td>\n",
       "      <td>27.42</td>\n",
       "      <td>18.75</td>\n",
       "      <td>10.11</td>\n",
       "      <td>2.59</td>\n",
       "      <td>1</td>\n",
       "      <td>0</td>\n",
       "    </tr>\n",
       "  </tbody>\n",
       "</table>\n",
       "</div>"
      ],
      "text/plain": [
       "   account_length  total_day_charge  total_eve_charge  total_night_charge  \\\n",
       "0             101             45.85             17.65                9.64   \n",
       "1              73             22.30              9.05                9.98   \n",
       "2              86             24.62             17.53               11.49   \n",
       "3              59             34.73             21.02                9.66   \n",
       "4             129             27.42             18.75               10.11   \n",
       "\n",
       "   total_intl_charge  customer_service_calls  churn  \n",
       "0               1.22                       3      1  \n",
       "1               2.75                       2      0  \n",
       "2               3.13                       4      0  \n",
       "3               3.24                       1      0  \n",
       "4               2.59                       1      0  "
      ]
     },
     "execution_count": 1,
     "metadata": {},
     "output_type": "execute_result"
    }
   ],
   "source": [
    "import pandas as pd\n",
    "churn_df = pd.read_csv(\"./datasets/churn.csv\").drop(columns=\"Unnamed: 0\")\n",
    "churn_df.head()"
   ]
  },
  {
   "cell_type": "markdown",
   "id": "33bdb5f8-6c71-4a40-9333-a5470b4c03b1",
   "metadata": {},
   "source": [
    "- Possible Answers:\n",
    "> - `\"customer_service_calls\"`\n",
    "> - `\"total_night_charge\"`\n",
    "> - **`\"churn\"`**\n",
    "> - `\"account_length\"`"
   ]
  },
  {
   "cell_type": "markdown",
   "id": "5fe0354e-18e3-4a22-a0a9-4c9142fca8fe",
   "metadata": {},
   "source": [
    "### 1.2. The supervised learning workflow"
   ]
  },
  {
   "cell_type": "markdown",
   "id": "e0063cc6-483d-4c3a-82c9-dd963542ff08",
   "metadata": {},
   "source": [
    "Recall that scikit-learn offers a repeatable workflow for using supervised learning models to predict the target variable values when presented with new data.\n",
    "\n",
    "Reorder the pseudo-code provided so it accurately represents the workflow of building a supervised learning model and making predictions."
   ]
  },
  {
   "cell_type": "markdown",
   "id": "33af0a88-4eb1-4c46-bbfe-839b9122048a",
   "metadata": {},
   "source": [
    "- Drag the code blocks into the correct order to represent how a supervised learning workflow would be executed."
   ]
  },
  {
   "cell_type": "markdown",
   "id": "271abbfc-d478-42dc-b39a-f4d5a10c9a49",
   "metadata": {},
   "source": [
    "<img src=\"./assets/ch01_01_02_the_supervised_learning_workflow_img01.png\">"
   ]
  },
  {
   "cell_type": "markdown",
   "id": "73d14a84-32ec-4a14-815f-063e327fa4d4",
   "metadata": {},
   "source": [
    "## 2. The classification challenge"
   ]
  },
  {
   "cell_type": "markdown",
   "id": "9421aa68-879b-4d55-909f-e8c8b21a509f",
   "metadata": {},
   "source": [
    "**The classification challenge**\n",
    "> - Previously, we learned that supervised learning uses labels.\n",
    "> - Let's discuss how we can build a classification model, or classifier, to predict the labels of unseen data.\n",
    "\n",
    "**Classifying labels of unseen data**\n",
    "> - There are four steps:\n",
    ">> 1. Build a model,\n",
    ">> 2. Model learns from the labeled data we pass to it,\n",
    ">> 3. Pass unlabeled data to the model as input,\n",
    ">> 4. Model predicts the labels of the unseen data.\n",
    "> - As the classifier learns from the labeled data, we call this the training data.\n",
    "\n",
    "**k-Nearest Neighbors**\n",
    "> - Let's build our first model!\n",
    "> - We'll use an algorithm called k-Nearest Neighbors, which is popular for classification problems.\n",
    "> - The idea of k-Nearest Neighbors, or KNN, is to predict the label of any data point by looking at the k, for example, three, closest labeled data points and getting them to vote on what label the unlabeled observation should have. KNN uses majority voting, which makes predictions based on what label the majority of nearest neighbors have.\n",
    "\n",
    "**k-Nearest Neighbors**\n",
    "> - Using this scatter plot as an example, how do we classify the black observation?\n",
    "\n",
    "<img src=\"./assets/ch01_02_the_classification_challenge_img01.png\">\n",
    "\n",
    "**k-Nearest Neighbors**\n",
    "> - If k equals three, we would classify it as red. This is because two of the three closest observations are red.\n",
    "\n",
    "<img src=\"./assets/ch01_02_the_classification_challenge_img02.png\">\n",
    "\n",
    "**k-Nearest Neighbors**\n",
    "> - If k equals five, we would instead classify it as blue.\n",
    "\n",
    "<img src=\"./assets/ch01_02_the_classification_challenge_img03.png\">\n",
    "\n",
    "**KNN Intuition**\n",
    "> - To build intuition for KNN, let's look at this scatter plot displaying total evening charge against total day charge for customers of a telecom company.\n",
    "> - The observations are colored in blue for customers who have churned, and red for those who have not churned.\n",
    "\n",
    "<img src=\"./assets/ch01_02_the_classification_challenge_img04.png\">\n",
    "\n",
    "**KNN Intuition**\n",
    "> - Here we have visualized the results of a KNN algorithm where the number of neighbors is set to 15.\n",
    "> - KNN creates a decision boundary to predict if customers will churn.\n",
    "> - Any customers in the area with a gray background are predicted to churn, and those in the area with a red background are predicted to not churn.\n",
    "> - This boundary would be used to make predictions on unseen data.\n",
    "\n",
    "<img src=\"./assets/ch01_02_the_classification_challenge_img05.png\">\n",
    "\n",
    "**Using scikit-learn to fit a classifier**\n",
    "> - To fit a KNN model using scikit-learn, we import `KNeighborsClassifier` from `sklearn.neighbors`.\n",
    "> - We split our data into `X`, a 2D array of our features, and `y`, a 1D array of the target values - in this case, churn status.\n",
    "> - scikit-learn requires that the features are in an array where each column is a feature and each row a different observation.\n",
    "> - Similarly, the target needs to be a single column with the same number of observations as the feature data.\n",
    "> - We use the `.values` attribute to convert `X` and `y` to NumPy arrays.\n",
    "> - Printing the shape of `X` and `y`, we see there are `3333` observations of `2` features, and `3333` observations of the target variable.\n",
    "> - We then instantiate our `KNeighborsClassifier`, setting `n_neighbors` equal to `15`, and assign it to the variable `knn`.\n",
    "> - Then we can fit this classifier to our labeled data by applying the classifier's `.fit()` method and passing two arguments: the feature values, `X`, and the target values, `y`.\n",
    "\n",
    "<img src=\"./assets/ch01_02_the_classification_challenge_img06.png\">\n",
    "\n",
    "**Predicting on unlabeled data**\n",
    "> - Here we have a set of new observations, `X_new`.\n",
    "> - Checking the shape of `X_new`, we see it has `3` rows and `2` columns, that is, three observations and two features.\n",
    "> - We use the classifier's `.predict()` method and pass it the unseen data as a 2D NumPy array containing features in columns and observations in rows.\n",
    "> - Printing the predictions returns a binary value for each observation or row in `X_new`.\n",
    "> - It predicts `1`, which corresponds to `'churn'`, for the first observation, and `0`, which corresponds to `'no churn'`, for the second and third observations.\n",
    "\n",
    "<img src=\"./assets/ch01_02_the_classification_challenge_img07.png\">"
   ]
  },
  {
   "cell_type": "markdown",
   "id": "f16e4b8b-b0a9-4344-bcc2-d5f607c36c22",
   "metadata": {},
   "source": [
    "### 2.1. k-Nearest Neighbors: Fit"
   ]
  },
  {
   "cell_type": "markdown",
   "id": "3ac06b98-8bb9-43f7-801f-002c45bec9b6",
   "metadata": {},
   "source": [
    "In this exercise, you will build your first classification model using the `churn_df` dataset, which has been preloaded for the remainder of the chapter.\n",
    "\n",
    "The features to use will be `\"account_length\"` and `\"customer_service_calls\"`. The target, `\"churn\"`, needs to be a single column with the same number of observations as the feature data.\n",
    "\n",
    "You will convert the features and the target variable into NumPy arrays, create an instance of a KNN classifier, and then fit it to the data.\n",
    "\n",
    "`numpy` has also been preloaded for you as `np`."
   ]
  },
  {
   "cell_type": "code",
   "execution_count": 2,
   "id": "353a71af-4f17-4b58-ae69-d60c28c249da",
   "metadata": {
    "tags": []
   },
   "outputs": [],
   "source": [
    "import numpy as np"
   ]
  },
  {
   "cell_type": "code",
   "execution_count": 3,
   "id": "bde101da-623f-44b9-a196-925956c82e0c",
   "metadata": {
    "tags": []
   },
   "outputs": [
    {
     "data": {
      "text/html": [
       "<div>\n",
       "<style scoped>\n",
       "    .dataframe tbody tr th:only-of-type {\n",
       "        vertical-align: middle;\n",
       "    }\n",
       "\n",
       "    .dataframe tbody tr th {\n",
       "        vertical-align: top;\n",
       "    }\n",
       "\n",
       "    .dataframe thead th {\n",
       "        text-align: right;\n",
       "    }\n",
       "</style>\n",
       "<table border=\"1\" class=\"dataframe\">\n",
       "  <thead>\n",
       "    <tr style=\"text-align: right;\">\n",
       "      <th></th>\n",
       "      <th>account_length</th>\n",
       "      <th>total_day_charge</th>\n",
       "      <th>total_eve_charge</th>\n",
       "      <th>total_night_charge</th>\n",
       "      <th>total_intl_charge</th>\n",
       "      <th>customer_service_calls</th>\n",
       "      <th>churn</th>\n",
       "    </tr>\n",
       "  </thead>\n",
       "  <tbody>\n",
       "    <tr>\n",
       "      <th>0</th>\n",
       "      <td>101</td>\n",
       "      <td>45.85</td>\n",
       "      <td>17.65</td>\n",
       "      <td>9.64</td>\n",
       "      <td>1.22</td>\n",
       "      <td>3</td>\n",
       "      <td>1</td>\n",
       "    </tr>\n",
       "    <tr>\n",
       "      <th>1</th>\n",
       "      <td>73</td>\n",
       "      <td>22.30</td>\n",
       "      <td>9.05</td>\n",
       "      <td>9.98</td>\n",
       "      <td>2.75</td>\n",
       "      <td>2</td>\n",
       "      <td>0</td>\n",
       "    </tr>\n",
       "    <tr>\n",
       "      <th>2</th>\n",
       "      <td>86</td>\n",
       "      <td>24.62</td>\n",
       "      <td>17.53</td>\n",
       "      <td>11.49</td>\n",
       "      <td>3.13</td>\n",
       "      <td>4</td>\n",
       "      <td>0</td>\n",
       "    </tr>\n",
       "    <tr>\n",
       "      <th>3</th>\n",
       "      <td>59</td>\n",
       "      <td>34.73</td>\n",
       "      <td>21.02</td>\n",
       "      <td>9.66</td>\n",
       "      <td>3.24</td>\n",
       "      <td>1</td>\n",
       "      <td>0</td>\n",
       "    </tr>\n",
       "    <tr>\n",
       "      <th>4</th>\n",
       "      <td>129</td>\n",
       "      <td>27.42</td>\n",
       "      <td>18.75</td>\n",
       "      <td>10.11</td>\n",
       "      <td>2.59</td>\n",
       "      <td>1</td>\n",
       "      <td>0</td>\n",
       "    </tr>\n",
       "  </tbody>\n",
       "</table>\n",
       "</div>"
      ],
      "text/plain": [
       "   account_length  total_day_charge  total_eve_charge  total_night_charge  \\\n",
       "0             101             45.85             17.65                9.64   \n",
       "1              73             22.30              9.05                9.98   \n",
       "2              86             24.62             17.53               11.49   \n",
       "3              59             34.73             21.02                9.66   \n",
       "4             129             27.42             18.75               10.11   \n",
       "\n",
       "   total_intl_charge  customer_service_calls  churn  \n",
       "0               1.22                       3      1  \n",
       "1               2.75                       2      0  \n",
       "2               3.13                       4      0  \n",
       "3               3.24                       1      0  \n",
       "4               2.59                       1      0  "
      ]
     },
     "execution_count": 3,
     "metadata": {},
     "output_type": "execute_result"
    }
   ],
   "source": [
    "churn_df = pd.read_csv(\"./datasets/churn.csv\").drop(columns=\"Unnamed: 0\")\n",
    "churn_df.head()"
   ]
  },
  {
   "cell_type": "markdown",
   "id": "1100b3b3-919e-47de-b133-3abc96cc9ad8",
   "metadata": {},
   "source": [
    "- Import `KNeighborsClassifier` from `sklearn.neighbors`."
   ]
  },
  {
   "cell_type": "code",
   "execution_count": 4,
   "id": "e164870e-fde7-493b-96ed-a19cf1d1c4e0",
   "metadata": {
    "tags": []
   },
   "outputs": [],
   "source": [
    "from sklearn.neighbors import KNeighborsClassifier"
   ]
  },
  {
   "cell_type": "markdown",
   "id": "db998bb4-d570-4568-91db-db64f7c4483d",
   "metadata": {},
   "source": [
    "- Create an array called `X` containing values from the `\"account_length\"` and `\"customer_service_calls\"` columns, and an array called `y` for the values of the `\"churn\"` column."
   ]
  },
  {
   "cell_type": "code",
   "execution_count": 5,
   "id": "66663d87-a6fd-41fe-bac8-f162a504d0e8",
   "metadata": {
    "tags": []
   },
   "outputs": [],
   "source": [
    "X = churn_df[[\"account_length\", \"customer_service_calls\"]].values\n",
    "y = churn_df[\"churn\"].values"
   ]
  },
  {
   "cell_type": "code",
   "execution_count": 6,
   "id": "2d0f8da1-a07e-4119-ba19-11a4c2ad671b",
   "metadata": {
    "tags": []
   },
   "outputs": [
    {
     "data": {
      "text/plain": [
       "(3333, 2)"
      ]
     },
     "execution_count": 6,
     "metadata": {},
     "output_type": "execute_result"
    }
   ],
   "source": [
    "X.shape"
   ]
  },
  {
   "cell_type": "code",
   "execution_count": 7,
   "id": "792e90a4-d686-45f9-b150-5a0bd7033ff1",
   "metadata": {
    "tags": []
   },
   "outputs": [
    {
     "data": {
      "text/plain": [
       "(3333,)"
      ]
     },
     "execution_count": 7,
     "metadata": {},
     "output_type": "execute_result"
    }
   ],
   "source": [
    "y.shape"
   ]
  },
  {
   "cell_type": "markdown",
   "id": "0fcaf652-1f96-4bc6-b84f-74815e6d7ffc",
   "metadata": {},
   "source": [
    "- Instantiate a `KNeighborsClassifier` called `knn` with `6` neighbors."
   ]
  },
  {
   "cell_type": "code",
   "execution_count": 8,
   "id": "d74a7c77-f471-4887-b073-5b8bdda5f9cf",
   "metadata": {
    "tags": []
   },
   "outputs": [],
   "source": [
    "knn = KNeighborsClassifier(n_neighbors=6)"
   ]
  },
  {
   "cell_type": "markdown",
   "id": "3e094d17-283b-417e-88bf-44f9bffc084f",
   "metadata": {},
   "source": [
    "- Fit the classifier to the data using the `.fit()` method."
   ]
  },
  {
   "cell_type": "code",
   "execution_count": 9,
   "id": "d866fb86-b35e-4636-b03d-3fae0995ad6b",
   "metadata": {
    "tags": []
   },
   "outputs": [],
   "source": [
    "knn.fit(X, y);"
   ]
  },
  {
   "cell_type": "markdown",
   "id": "05ce23d2-8feb-4ca9-8a3d-cebc90e7f775",
   "metadata": {},
   "source": [
    "### 2.2. k-Nearest Neighbors: Predict"
   ]
  },
  {
   "cell_type": "markdown",
   "id": "6b9b9c2e-7932-4e2b-b76d-e56e0e836184",
   "metadata": {},
   "source": [
    "Now you have fit a KNN classifier, you can use it to predict the label of new data points. All available data was used for training, however, fortunately, there are new observations available. These have been preloaded for you as `X_new`.\n",
    "\n",
    "The model `knn`, which you created and fit the data in the last exercise, has been preloaded for you. You will use your classifier to predict the labels of a set of new data points:\n",
    "\n",
    "```\n",
    "X_new = np.array([[30.0, 17.5],\n",
    "                  [107.0, 24.1],\n",
    "                  [213.0, 10.9]])\n",
    "```"
   ]
  },
  {
   "cell_type": "code",
   "execution_count": 10,
   "id": "d318d325-c100-437d-a8c4-e538bec945ff",
   "metadata": {
    "tags": []
   },
   "outputs": [],
   "source": [
    "X_new = np.array([[ 30. ,  17.5],\n",
    "                  [107. ,  24.1],\n",
    "                  [213. ,  10.9]])"
   ]
  },
  {
   "cell_type": "markdown",
   "id": "4252d5bf-62c6-43a3-98bc-d0f65d81fe22",
   "metadata": {},
   "source": [
    "- Create `y_pred` by predicting the target values of the unseen features `X_new`."
   ]
  },
  {
   "cell_type": "code",
   "execution_count": 11,
   "id": "15016897-5334-448a-b6ac-c2e601e670ae",
   "metadata": {
    "tags": []
   },
   "outputs": [],
   "source": [
    "y_pred = knn.predict(X_new)"
   ]
  },
  {
   "cell_type": "markdown",
   "id": "2159782c-4152-4dad-a39d-3ae11817ef56",
   "metadata": {},
   "source": [
    "- Print the predicted labels for the set of predictions."
   ]
  },
  {
   "cell_type": "code",
   "execution_count": 12,
   "id": "142724c9-0fdd-4114-961a-b5088067778c",
   "metadata": {
    "tags": []
   },
   "outputs": [
    {
     "data": {
      "text/plain": [
       "array([0, 1, 0], dtype=int64)"
      ]
     },
     "execution_count": 12,
     "metadata": {},
     "output_type": "execute_result"
    }
   ],
   "source": [
    "y_pred"
   ]
  },
  {
   "cell_type": "code",
   "execution_count": null,
   "id": "78a4178d-7a68-45a9-b800-5db30510ab7f",
   "metadata": {},
   "outputs": [],
   "source": []
  }
 ],
 "metadata": {
  "kernelspec": {
   "display_name": "Data-Science",
   "language": "python",
   "name": "data-science"
  },
  "language_info": {
   "codemirror_mode": {
    "name": "ipython",
    "version": 3
   },
   "file_extension": ".py",
   "mimetype": "text/x-python",
   "name": "python",
   "nbconvert_exporter": "python",
   "pygments_lexer": "ipython3",
   "version": "3.10.10"
  }
 },
 "nbformat": 4,
 "nbformat_minor": 5
}
