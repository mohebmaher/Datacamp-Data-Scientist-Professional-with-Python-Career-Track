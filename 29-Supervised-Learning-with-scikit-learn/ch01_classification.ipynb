{
 "cells": [
  {
   "cell_type": "markdown",
   "id": "79482995-d85f-4c5e-8aca-a8d331077ec0",
   "metadata": {},
   "source": [
    "# Chapter #1: Classification"
   ]
  },
  {
   "cell_type": "markdown",
   "id": "81e90074-cad1-4a0f-b853-4997141c4d32",
   "metadata": {},
   "source": [
    "## 1. Machine learning with scikit-learn"
   ]
  },
  {
   "cell_type": "markdown",
   "id": "4b955a5b-9fc7-49d2-979c-e40bd6923aac",
   "metadata": {},
   "source": [
    "**What is machine learning?**\n",
    "> - Machine learning is the process whereby **computers learn to make decisions from data without being explicitly programmed**.\n",
    "\n",
    "**Examples of machine learning**\n",
    "> - For example, learning to predict **whether an email is spam or not spam** given its content and sender.\n",
    "> - Or learning to **cluster books into different categories** based on the words they contain, then assigning any new book to one of the existing clusters.\n",
    "\n",
    "**Unsupervised learning**\n",
    "> - **Unsupervised learning** is the process of **uncovering hidden patterns and structures from unlabeled data**.\n",
    "> - For example, a business may wish to group its customers into distinct categories based on their purchasing behavior without knowing in advance what these categories are.\n",
    "> - This is known as **clustering**, one branch of **unsupervised learning**.\n",
    "\n",
    "<img style=\"margin-left: auto; margin-right: auto;\" src=\"./assets/ch01_01_ml_with_scikit_learn_img01.png\">\n",
    "\n",
    "**Supervised learning**\n",
    "> - **Supervised learning** is a type of machine learning where **the values to be predicted are already known**, and a model is built with the aim of **accurately predicting values of previously unseen data**.\n",
    "> - Supervised learning **uses features to predict the value of a target variable**, such as predicting a basketball player's position based on their points per game.\n",
    "> - This course will exclusively focus on supervised learning.\n",
    "\n",
    "<img style=\"margin-left: auto; margin-right: auto;\" src=\"./assets/ch01_01_ml_with_scikit_learn_img02.png\">\n",
    "\n",
    "**Types of supervised learning**\n",
    "> - There are **two types** of supervised learning:\n",
    "> 1. **Classification** is used to predict the **label**, or **category**, of an observation.\n",
    ">> - For example, we can predict whether a bank transaction is fraudulent or not,\n",
    ">> - As there are two outcomes here - a fraudulent transaction, or non-fraudulent transaction, this is known as binary classification,\n",
    "> 2. **Regression** is used to predict **continuous values**.\n",
    ">> - For example, a model can use features such as number of bedrooms, and the size of a property, to predict the target variable, price of the property.\n",
    "\n",
    "**Naming conventions**\n",
    "> - Note that what we call a **feature** throughout the course, others may call a **predictor variable** or **independent variable**.\n",
    "> - Also, what we call the **target** variable, others may call **dependent variable** or **response variable**.\n",
    "\n",
    "**Before you use supervised learning**\n",
    "> - There are **some requirements** to satisfy before performing supervised learning:\n",
    ">> - Our data **must not have missing values**,\n",
    ">> - Our data **must be in numeric format**,\n",
    ">> - Our data is **stored as pandas DataFrames or Series, or NumPy arrays**.\n",
    "> - This requires some **exploratory data analysis** first to ensure data is in the correct format.\n",
    "> - Various pandas methods for descriptive statistics, along with appropriate data visualizations, are useful in this step.\n",
    "\n",
    "**scikit-learn syntax**\n",
    "> - scikit-learn follows the **same syntax for all supervised learning models, which makes the workflow repeatable**.\n",
    "> - Let's familiarize ourselves with the **general scikit-learn workflow syntax**, before we explore using real data later in the chapter:\n",
    ">> - We **import a `Model`**, which is **a type of algorithm** for our supervised learning problem, from an `sklearn` module,\n",
    ">>> - For example, the k-Nearest Neighbors model uses distance between observations to predict labels or values.\n",
    ">> - We create a variable named `model`, and **instantiate the `Model`**,\n",
    ">> - **A `model` is fit to the data**, where it learns patterns about the features and the target variable,\n",
    ">>> - We fit the model to `X`, an array of our features, and `y`, an array of our target variable values.\n",
    ">> - We then **use the `model`'s `.predict()` method**, passing six new observations, `X_new`.\n",
    ">>> - For example, if feeding features from six emails to a spam classification model, an array of six values is returned,\n",
    ">>> - A `1` indicates the model predicts that email is spam, and a `0` represents a prediction of not spam.\n",
    "\n",
    "<img style=\"margin-left: auto; margin-right: auto;\" src=\"./assets/ch01_01_ml_with_scikit_learn_img03.png\">"
   ]
  },
  {
   "cell_type": "markdown",
   "id": "2c280a1a-ba7c-41e5-8daf-44dbbfa6d784",
   "metadata": {},
   "source": [
    "### 1.1. Binary classification"
   ]
  },
  {
   "cell_type": "markdown",
   "id": "5cd30b86-d6f1-4b0c-be73-b677645368a5",
   "metadata": {},
   "source": [
    "In the video, you saw that there are **two types** of supervised learning — **classification** and **regression**. Recall that **binary** classification is used to predict a target variable that has **only two labels**, typically represented numerically with a **zero** or a **one**.\n",
    "\n",
    "A dataset, `churn_df`, has been preloaded for you in the console.\n",
    "\n",
    "Your task is to examine the data and choose which column could be the **target variable for binary classification**."
   ]
  },
  {
   "cell_type": "markdown",
   "id": "47e22529-d7aa-4993-a2a4-abf237cf0d80",
   "metadata": {},
   "source": [
    "- Set up the workspace."
   ]
  },
  {
   "cell_type": "code",
   "execution_count": 1,
   "id": "14ae9e08-53ea-4ef8-bdae-f8cddec77fd5",
   "metadata": {
    "tags": []
   },
   "outputs": [
    {
     "data": {
      "text/html": [
       "<div>\n",
       "<style scoped>\n",
       "    .dataframe tbody tr th:only-of-type {\n",
       "        vertical-align: middle;\n",
       "    }\n",
       "\n",
       "    .dataframe tbody tr th {\n",
       "        vertical-align: top;\n",
       "    }\n",
       "\n",
       "    .dataframe thead th {\n",
       "        text-align: right;\n",
       "    }\n",
       "</style>\n",
       "<table border=\"1\" class=\"dataframe\">\n",
       "  <thead>\n",
       "    <tr style=\"text-align: right;\">\n",
       "      <th></th>\n",
       "      <th>account_length</th>\n",
       "      <th>total_day_charge</th>\n",
       "      <th>total_eve_charge</th>\n",
       "      <th>total_night_charge</th>\n",
       "      <th>total_intl_charge</th>\n",
       "      <th>customer_service_calls</th>\n",
       "      <th>churn</th>\n",
       "    </tr>\n",
       "  </thead>\n",
       "  <tbody>\n",
       "    <tr>\n",
       "      <th>0</th>\n",
       "      <td>101</td>\n",
       "      <td>45.85</td>\n",
       "      <td>17.65</td>\n",
       "      <td>9.64</td>\n",
       "      <td>1.22</td>\n",
       "      <td>3</td>\n",
       "      <td>1</td>\n",
       "    </tr>\n",
       "    <tr>\n",
       "      <th>1</th>\n",
       "      <td>73</td>\n",
       "      <td>22.30</td>\n",
       "      <td>9.05</td>\n",
       "      <td>9.98</td>\n",
       "      <td>2.75</td>\n",
       "      <td>2</td>\n",
       "      <td>0</td>\n",
       "    </tr>\n",
       "    <tr>\n",
       "      <th>2</th>\n",
       "      <td>86</td>\n",
       "      <td>24.62</td>\n",
       "      <td>17.53</td>\n",
       "      <td>11.49</td>\n",
       "      <td>3.13</td>\n",
       "      <td>4</td>\n",
       "      <td>0</td>\n",
       "    </tr>\n",
       "    <tr>\n",
       "      <th>3</th>\n",
       "      <td>59</td>\n",
       "      <td>34.73</td>\n",
       "      <td>21.02</td>\n",
       "      <td>9.66</td>\n",
       "      <td>3.24</td>\n",
       "      <td>1</td>\n",
       "      <td>0</td>\n",
       "    </tr>\n",
       "    <tr>\n",
       "      <th>4</th>\n",
       "      <td>129</td>\n",
       "      <td>27.42</td>\n",
       "      <td>18.75</td>\n",
       "      <td>10.11</td>\n",
       "      <td>2.59</td>\n",
       "      <td>1</td>\n",
       "      <td>0</td>\n",
       "    </tr>\n",
       "  </tbody>\n",
       "</table>\n",
       "</div>"
      ],
      "text/plain": [
       "   account_length  total_day_charge  total_eve_charge  total_night_charge  \\\n",
       "0             101             45.85             17.65                9.64   \n",
       "1              73             22.30              9.05                9.98   \n",
       "2              86             24.62             17.53               11.49   \n",
       "3              59             34.73             21.02                9.66   \n",
       "4             129             27.42             18.75               10.11   \n",
       "\n",
       "   total_intl_charge  customer_service_calls  churn  \n",
       "0               1.22                       3      1  \n",
       "1               2.75                       2      0  \n",
       "2               3.13                       4      0  \n",
       "3               3.24                       1      0  \n",
       "4               2.59                       1      0  "
      ]
     },
     "execution_count": 1,
     "metadata": {},
     "output_type": "execute_result"
    }
   ],
   "source": [
    "import pandas as pd\n",
    "churn_df = pd.read_csv(\"./datasets/churn.csv\").drop(columns=\"Unnamed: 0\")\n",
    "churn_df.head()"
   ]
  },
  {
   "cell_type": "markdown",
   "id": "33bdb5f8-6c71-4a40-9333-a5470b4c03b1",
   "metadata": {},
   "source": [
    "- **Possible Answers:**\n",
    "> - `\"customer_service_calls\"`\n",
    "> - `\"total_night_charge\"`\n",
    "> - **`\"churn\"`**\n",
    "> - `\"account_length\"`"
   ]
  },
  {
   "cell_type": "markdown",
   "id": "5fe0354e-18e3-4a22-a0a9-4c9142fca8fe",
   "metadata": {},
   "source": [
    "### 1.2. The supervised learning workflow"
   ]
  },
  {
   "cell_type": "markdown",
   "id": "e0063cc6-483d-4c3a-82c9-dd963542ff08",
   "metadata": {},
   "source": [
    "Recall that **scikit-learn offers a repeatable workflow** for using supervised learning models to predict the target variable values when presented with new data.\n",
    "\n",
    "Reorder the pseudo-code provided so it accurately represents **the workflow of building a supervised learning model and making predictions**."
   ]
  },
  {
   "cell_type": "markdown",
   "id": "33af0a88-4eb1-4c46-bbfe-839b9122048a",
   "metadata": {},
   "source": [
    "- Drag the code blocks into the correct order to represent how a supervised learning workflow would be executed."
   ]
  },
  {
   "cell_type": "markdown",
   "id": "271abbfc-d478-42dc-b39a-f4d5a10c9a49",
   "metadata": {},
   "source": [
    "<img style=\"margin-left: auto; margin-right: auto;\" src=\"./assets/ch01_01_02_the_supervised_learning_workflow_img01.png\">"
   ]
  },
  {
   "cell_type": "markdown",
   "id": "73d14a84-32ec-4a14-815f-063e327fa4d4",
   "metadata": {},
   "source": [
    "## 2. The classification challenge"
   ]
  },
  {
   "cell_type": "markdown",
   "id": "9421aa68-879b-4d55-909f-e8c8b21a509f",
   "metadata": {},
   "source": [
    "**The classification challenge**\n",
    "> - Previously, we learned that **supervised learning uses labels**.\n",
    "> - Let's discuss how we can **build a classification model**, or classifier, to predict the labels of unseen data.\n",
    "\n",
    "**Classifying labels of unseen data**\n",
    "> - There are **four steps**:\n",
    ">> 1. **Build a model**,\n",
    ">> 2. **Model learns** from the labeled data we pass to it,\n",
    ">> 3. **Pass unlabeled data** to the model as input,\n",
    ">> 4. **Model predicts** the labels of the unseen data.\n",
    "> - As the classifier **learns** from the labeled data, we call this the **training data**.\n",
    "\n",
    "**k-Nearest Neighbors**\n",
    "> - Let's build our first model!\n",
    "> - We'll use an algorithm called **k-Nearest Neighbors**, which is popular for classification problems.\n",
    "> - The idea of k-Nearest Neighbors, or KNN, is **to predict the label of any data point by looking at the k, for example, three, closest labeled data points and getting them to vote on what label the unlabeled observation should hav**e. KNN uses **majority voting**, which makes predictions based on what label the majority of nearest neighbors have.\n",
    "\n",
    "**k-Nearest Neighbors**\n",
    "> - Using this scatter plot as an example, **how do we classify the black observation?**\n",
    "\n",
    "<img style=\"margin-left: auto; margin-right: auto;\" src=\"./assets/ch01_02_the_classification_challenge_img01.png\">\n",
    "\n",
    "**k-Nearest Neighbors**\n",
    "> - If k equals **3**, we would classify it as **red**.\n",
    "> - This is because **two of the three closest observations are red**.\n",
    "\n",
    "<img style=\"margin-left: auto; margin-right: auto;\" src=\"./assets/ch01_02_the_classification_challenge_img02.png\">\n",
    "\n",
    "**k-Nearest Neighbors**\n",
    "> - If k equals **5**, we would instead classify it as **blue**.\n",
    "\n",
    "<img style=\"margin-left: auto; margin-right: auto;\" src=\"./assets/ch01_02_the_classification_challenge_img03.png\">\n",
    "\n",
    "**KNN Intuition**\n",
    "> - To build intuition for KNN, **let's look at this scatter plot** displaying total evening charge against total day charge for customers of a telecom company.\n",
    "> - The observations are colored in **blue for customers who have churned, and red for those who have not churned**.\n",
    "\n",
    "<img style=\"margin-left: auto; margin-right: auto;\" src=\"./assets/ch01_02_the_classification_challenge_img04.png\">\n",
    "\n",
    "**KNN Intuition**\n",
    "> - Here we have visualized the results of a KNN algorithm where the number of neighbors is **set to 15**.\n",
    "> - KNN creates a **decision boundary** to predict if customers will churn.\n",
    "> - Any customers in the area with a **gray background** are predicted to **churn**, and those in the area with a **red background** are predicted to **not churn**.\n",
    "> - This boundary would be used to **make predictions on unseen data**.\n",
    "\n",
    "<img style=\"margin-left: auto; margin-right: auto;\" src=\"./assets/ch01_02_the_classification_challenge_img05.png\">\n",
    "\n",
    "**Using scikit-learn to fit a classifier**\n",
    "> - To fit a KNN model using scikit-learn, we **import `KNeighborsClassifier`** from `sklearn.neighbors`.\n",
    "> - We **split our data** into `X`, a 2D array of our **features**, and `y`, a 1D array of the **target** values - in this case, churn status:\n",
    ">> - scikit-learn requires that the **features are in an array where each column is a feature and each row a different observation**,\n",
    ">> - Similarly, the **target needs to be a single column with the same number of observations as the feature data**,\n",
    ">> - We use the `.values` attribute to **convert `X` and `y` to NumPy arrays**,\n",
    ">> - Printing the **shape** of `X` and `y`, we see there are `3333` observations of `2` features, and `3333` observations of the target variable.\n",
    "> - We then **instantiate** our `KNeighborsClassifier`, **setting `n_neighbors` equal to `15`**, and assign it to the variable `knn`.\n",
    "> - Then we can **fit this classifier** to our labeled data by applying the classifier's `.fit()` method and passing two arguments: the **feature values**, `X`, and the **target values**, `y`.\n",
    "\n",
    "<img style=\"margin-left: auto; margin-right: auto;\" src=\"./assets/ch01_02_the_classification_challenge_img06.png\">\n",
    "\n",
    "**Predicting on unlabeled data**\n",
    "> - Here we have a **set of new observations**, `X_new`.\n",
    "> - Checking the **shape** of `X_new`, we see it has `3` rows and `2` columns, that is, three observations and two features.\n",
    "> - We use the classifier's `.predict()` method and **pass it the unseen data** as a 2D NumPy array containing features in columns and observations in rows.\n",
    "> - Printing the **predictions** returns a binary value for each observation or row in `X_new`.\n",
    "> - It predicts `1`, which corresponds to `'churn'`, for the first observation, and `0`, which corresponds to `'no churn'`, for the second and third observations.\n",
    "\n",
    "<img style=\"margin-left: auto; margin-right: auto;\" src=\"./assets/ch01_02_the_classification_challenge_img07.png\">"
   ]
  },
  {
   "cell_type": "markdown",
   "id": "f16e4b8b-b0a9-4344-bcc2-d5f607c36c22",
   "metadata": {},
   "source": [
    "### 2.1. k-Nearest Neighbors: Fit"
   ]
  },
  {
   "cell_type": "markdown",
   "id": "3ac06b98-8bb9-43f7-801f-002c45bec9b6",
   "metadata": {},
   "source": [
    "In this exercise, you will **build your first classification model** using the `churn_df` dataset, which has been preloaded for the remainder of the chapter.\n",
    "\n",
    "The **features** to use will be `\"account_length\"` and `\"customer_service_calls\"`. The **target**, `\"churn\"`, needs to be a single column with the same number of observations as the feature data.\n",
    "\n",
    "You will **convert the features and the target variable into NumPy arrays**, create an instance of a KNN classifier, and then fit it to the data.\n",
    "\n",
    "`numpy` has also been preloaded for you as `np`."
   ]
  },
  {
   "cell_type": "markdown",
   "id": "d10d1fa2-1f72-44c2-ba03-7b0bf0144575",
   "metadata": {},
   "source": [
    "- Set up the workspace."
   ]
  },
  {
   "cell_type": "code",
   "execution_count": 2,
   "id": "353a71af-4f17-4b58-ae69-d60c28c249da",
   "metadata": {
    "tags": []
   },
   "outputs": [],
   "source": [
    "import numpy as np"
   ]
  },
  {
   "cell_type": "code",
   "execution_count": 3,
   "id": "bde101da-623f-44b9-a196-925956c82e0c",
   "metadata": {
    "tags": []
   },
   "outputs": [
    {
     "data": {
      "text/html": [
       "<div>\n",
       "<style scoped>\n",
       "    .dataframe tbody tr th:only-of-type {\n",
       "        vertical-align: middle;\n",
       "    }\n",
       "\n",
       "    .dataframe tbody tr th {\n",
       "        vertical-align: top;\n",
       "    }\n",
       "\n",
       "    .dataframe thead th {\n",
       "        text-align: right;\n",
       "    }\n",
       "</style>\n",
       "<table border=\"1\" class=\"dataframe\">\n",
       "  <thead>\n",
       "    <tr style=\"text-align: right;\">\n",
       "      <th></th>\n",
       "      <th>account_length</th>\n",
       "      <th>total_day_charge</th>\n",
       "      <th>total_eve_charge</th>\n",
       "      <th>total_night_charge</th>\n",
       "      <th>total_intl_charge</th>\n",
       "      <th>customer_service_calls</th>\n",
       "      <th>churn</th>\n",
       "    </tr>\n",
       "  </thead>\n",
       "  <tbody>\n",
       "    <tr>\n",
       "      <th>0</th>\n",
       "      <td>101</td>\n",
       "      <td>45.85</td>\n",
       "      <td>17.65</td>\n",
       "      <td>9.64</td>\n",
       "      <td>1.22</td>\n",
       "      <td>3</td>\n",
       "      <td>1</td>\n",
       "    </tr>\n",
       "    <tr>\n",
       "      <th>1</th>\n",
       "      <td>73</td>\n",
       "      <td>22.30</td>\n",
       "      <td>9.05</td>\n",
       "      <td>9.98</td>\n",
       "      <td>2.75</td>\n",
       "      <td>2</td>\n",
       "      <td>0</td>\n",
       "    </tr>\n",
       "    <tr>\n",
       "      <th>2</th>\n",
       "      <td>86</td>\n",
       "      <td>24.62</td>\n",
       "      <td>17.53</td>\n",
       "      <td>11.49</td>\n",
       "      <td>3.13</td>\n",
       "      <td>4</td>\n",
       "      <td>0</td>\n",
       "    </tr>\n",
       "    <tr>\n",
       "      <th>3</th>\n",
       "      <td>59</td>\n",
       "      <td>34.73</td>\n",
       "      <td>21.02</td>\n",
       "      <td>9.66</td>\n",
       "      <td>3.24</td>\n",
       "      <td>1</td>\n",
       "      <td>0</td>\n",
       "    </tr>\n",
       "    <tr>\n",
       "      <th>4</th>\n",
       "      <td>129</td>\n",
       "      <td>27.42</td>\n",
       "      <td>18.75</td>\n",
       "      <td>10.11</td>\n",
       "      <td>2.59</td>\n",
       "      <td>1</td>\n",
       "      <td>0</td>\n",
       "    </tr>\n",
       "  </tbody>\n",
       "</table>\n",
       "</div>"
      ],
      "text/plain": [
       "   account_length  total_day_charge  total_eve_charge  total_night_charge  \\\n",
       "0             101             45.85             17.65                9.64   \n",
       "1              73             22.30              9.05                9.98   \n",
       "2              86             24.62             17.53               11.49   \n",
       "3              59             34.73             21.02                9.66   \n",
       "4             129             27.42             18.75               10.11   \n",
       "\n",
       "   total_intl_charge  customer_service_calls  churn  \n",
       "0               1.22                       3      1  \n",
       "1               2.75                       2      0  \n",
       "2               3.13                       4      0  \n",
       "3               3.24                       1      0  \n",
       "4               2.59                       1      0  "
      ]
     },
     "execution_count": 3,
     "metadata": {},
     "output_type": "execute_result"
    }
   ],
   "source": [
    "churn_df = pd.read_csv(\"./datasets/churn.csv\").drop(columns=\"Unnamed: 0\")\n",
    "churn_df.head()"
   ]
  },
  {
   "cell_type": "markdown",
   "id": "1100b3b3-919e-47de-b133-3abc96cc9ad8",
   "metadata": {},
   "source": [
    "- Import `KNeighborsClassifier` from `sklearn.neighbors`."
   ]
  },
  {
   "cell_type": "code",
   "execution_count": 4,
   "id": "e164870e-fde7-493b-96ed-a19cf1d1c4e0",
   "metadata": {
    "tags": []
   },
   "outputs": [],
   "source": [
    "from sklearn.neighbors import KNeighborsClassifier"
   ]
  },
  {
   "cell_type": "markdown",
   "id": "db998bb4-d570-4568-91db-db64f7c4483d",
   "metadata": {},
   "source": [
    "- Create an array called `X` containing values from the `\"account_length\"` and `\"customer_service_calls\"` columns, and an array called `y` for the values of the `\"churn\"` column."
   ]
  },
  {
   "cell_type": "code",
   "execution_count": 5,
   "id": "66663d87-a6fd-41fe-bac8-f162a504d0e8",
   "metadata": {
    "tags": []
   },
   "outputs": [],
   "source": [
    "X = churn_df[[\"account_length\", \"customer_service_calls\"]].values\n",
    "y = churn_df[\"churn\"].values"
   ]
  },
  {
   "cell_type": "code",
   "execution_count": 6,
   "id": "2d0f8da1-a07e-4119-ba19-11a4c2ad671b",
   "metadata": {
    "tags": []
   },
   "outputs": [
    {
     "name": "stdout",
     "output_type": "stream",
     "text": [
      "(3333, 2) (3333,)\n"
     ]
    }
   ],
   "source": [
    "print(X.shape, y.shape)"
   ]
  },
  {
   "cell_type": "markdown",
   "id": "0fcaf652-1f96-4bc6-b84f-74815e6d7ffc",
   "metadata": {},
   "source": [
    "- Instantiate a `KNeighborsClassifier` called `knn` with `6` neighbors."
   ]
  },
  {
   "cell_type": "code",
   "execution_count": 7,
   "id": "d74a7c77-f471-4887-b073-5b8bdda5f9cf",
   "metadata": {
    "tags": []
   },
   "outputs": [],
   "source": [
    "knn = KNeighborsClassifier(n_neighbors=6)"
   ]
  },
  {
   "cell_type": "markdown",
   "id": "3e094d17-283b-417e-88bf-44f9bffc084f",
   "metadata": {},
   "source": [
    "- Fit the classifier to the data using the `.fit()` method."
   ]
  },
  {
   "cell_type": "code",
   "execution_count": 8,
   "id": "d866fb86-b35e-4636-b03d-3fae0995ad6b",
   "metadata": {
    "tags": []
   },
   "outputs": [],
   "source": [
    "knn.fit(X, y);"
   ]
  },
  {
   "cell_type": "markdown",
   "id": "05ce23d2-8feb-4ca9-8a3d-cebc90e7f775",
   "metadata": {},
   "source": [
    "### 2.2. k-Nearest Neighbors: Predict"
   ]
  },
  {
   "cell_type": "markdown",
   "id": "6b9b9c2e-7932-4e2b-b76d-e56e0e836184",
   "metadata": {},
   "source": [
    "Now you have fit a KNN classifier, you can use it to **predict the label of new data points**. All available data was used for training, however, fortunately, **there are new observations available**. These have been preloaded for you as `X_new`.\n",
    "\n",
    "The model `knn`, which you created and fit the data in the last exercise, has been preloaded for you. You will use your classifier to predict the labels of a set of new data points:\n",
    "\n",
    "```\n",
    "X_new = np.array([[30.0, 17.5],\n",
    "                  [107.0, 24.1],\n",
    "                  [213.0, 10.9]])\n",
    "```"
   ]
  },
  {
   "cell_type": "markdown",
   "id": "76369335-ec38-409a-b075-f8fa27544688",
   "metadata": {},
   "source": [
    "- Set up the workspace."
   ]
  },
  {
   "cell_type": "code",
   "execution_count": 9,
   "id": "d318d325-c100-437d-a8c4-e538bec945ff",
   "metadata": {
    "tags": []
   },
   "outputs": [],
   "source": [
    "X_new = np.array([[ 30. ,  17.5],\n",
    "                  [107. ,  24.1],\n",
    "                  [213. ,  10.9]])"
   ]
  },
  {
   "cell_type": "markdown",
   "id": "4252d5bf-62c6-43a3-98bc-d0f65d81fe22",
   "metadata": {},
   "source": [
    "- Create `y_pred` by predicting the target values of the unseen features `X_new`."
   ]
  },
  {
   "cell_type": "code",
   "execution_count": 10,
   "id": "15016897-5334-448a-b6ac-c2e601e670ae",
   "metadata": {
    "tags": []
   },
   "outputs": [],
   "source": [
    "y_pred = knn.predict(X_new)"
   ]
  },
  {
   "cell_type": "markdown",
   "id": "2159782c-4152-4dad-a39d-3ae11817ef56",
   "metadata": {},
   "source": [
    "- Print the predicted labels for the set of predictions."
   ]
  },
  {
   "cell_type": "code",
   "execution_count": 11,
   "id": "142724c9-0fdd-4114-961a-b5088067778c",
   "metadata": {
    "tags": []
   },
   "outputs": [
    {
     "data": {
      "text/plain": [
       "array([0, 1, 0], dtype=int64)"
      ]
     },
     "execution_count": 11,
     "metadata": {},
     "output_type": "execute_result"
    }
   ],
   "source": [
    "y_pred"
   ]
  },
  {
   "cell_type": "markdown",
   "id": "9acf27b8-e5f3-4bd8-b6c6-65b0648357f9",
   "metadata": {},
   "source": [
    "## 3. Measuring model performance"
   ]
  },
  {
   "cell_type": "markdown",
   "id": "9392ac93-2039-437c-a661-83b9a247e88d",
   "metadata": {},
   "source": [
    "**Measuring model performance**\n",
    "> - Now we can **make predictions** using a classifier, but **how do we know if the model is making correct predictions?** We can **evaluate** its performance!\n",
    "\n",
    "**Measuring model performance**\n",
    "> - In classification, **accuracy** is a commonly-used metric.\n",
    "> - Accuracy is **the number of correct predictions divided by the total number of observations**.\n",
    "\n",
    "<img style=\"margin-left: auto; margin-right: auto;\" src=\"./assets/ch01_03_measuring_model_performance_img01.png\">\n",
    "\n",
    "**Measuring model performance**\n",
    "> - **How do we measure accuracy?**\n",
    ">> - We could compute accuracy on **the data used to fit the classifier**,\n",
    ">> - However, **as this data was used to train the model, performance will not be indicative of how well it can generalize to unseen data**, which is what we are interested in!\n",
    "\n",
    "**Computing accuracy**\n",
    "> - It is common to **split data into a training set and a test set**.\n",
    "\n",
    "<img style=\"margin-left: auto; margin-right: auto;\" src=\"./assets/ch01_03_measuring_model_performance_img02.png\">\n",
    "\n",
    "**Computing accuracy**\n",
    "> - We fit the classifier **using the training set**,\n",
    "\n",
    "<img style=\"margin-left: auto; margin-right: auto;\" src=\"./assets/ch01_03_measuring_model_performance_img03.png\">\n",
    "\n",
    "**Computing accuracy**\n",
    "> - Then we calculate the model's accuracy **against the test set's labels**.\n",
    "\n",
    "<img style=\"margin-left: auto; margin-right: auto;\" src=\"./assets/ch01_03_measuring_model_performance_img04.png\">\n",
    "\n",
    "**Train/test split**\n",
    "> - To do this, we **import** `train_test_split` from `sklearn.model_selection`.\n",
    "> - We **call** `train_test_split`, passing our **features and targets**:\n",
    ">> - We commonly use **20-30% of our data as the test set**,\n",
    ">> - By setting the `test_size` argument to `0.3` we use 30% here,\n",
    ">> - The `random_state` argument sets a **seed** for a random number generator that splits the data,\n",
    ">> - Using the same number when repeating this step allows us to **reproduce the exact split and our downstream results**.\n",
    ">> - It is best practice to **ensure our split reflects the proportion of labels in our data**,\n",
    ">> - So if churn occurs in 10% of observations, we want 10% of labels in our training and test sets to represent churn,\n",
    ">> - We achieve this by **setting `stratify` equal to `y`**,\n",
    ">> - `train_test_split` returns **four arrays**: the **training data**, the **test data**, the **training labels**, and **the test labels**,\n",
    ">> - We unpack these into `X_train`, `X_test`, `y_train`, and `y_test`, respectively.\n",
    "> - We then **instantiate** a KNN model and **fit** it to the **training data** using the `.fit()` method.\n",
    "> - To check the **accuracy**, we use the `.score()` method, **passing `X_test` and `y_test`**.\n",
    ">> - The accuracy of our model is 88%, which is low given our labels have a 9 to 1 ratio.\n",
    "\n",
    "<img style=\"margin-left: auto; margin-right: auto;\" src=\"./assets/ch01_03_measuring_model_performance_img05.png\">\n",
    "\n",
    "**Model complexity**\n",
    "> - Let's discuss how to **interpret k**.\n",
    "> - Recall that we discussed **decision boundaries**, which are **thresholds for determining what label a model assigns to an observation**.\n",
    "> - In the image shown, **as k increases, the decision boundary is less affected by individual observations, reflecting a simpler model**.\n",
    ">> - Simpler models are **less able to detect relationships in the dataset**, which is known as **underfitting**.\n",
    "> - In contrast, **complex models can be sensitive to noise in the training data**, rather than reflecting general trends.\n",
    ">> - This is known as **overfitting**.\n",
    "\n",
    "<img style=\"margin-left: auto; margin-right: auto;\" src=\"./assets/ch01_03_measuring_model_performance_img06.png\">\n",
    "\n",
    "**Model complexity and over/underfitting**\n",
    "> - We can also **interpret k using a model complexity curve**.\n",
    "> - With a KNN model, we can **calculate accuracy on the training and test sets using incremental k values, and plot the results**:\n",
    ">> - We create empty **dictionaries** to store our **train and test accuracies**, and an **array** containing a **range of k values**.\n",
    ">> - We use a `for` loop to **repeat our previous workflow**, building several models using a different number of `neighbors`:\n",
    ">> - We loop through our `neighbors` array and, inside the loop, we **instantiate** a KNN model with `n_neighbors` equal to the `neighbor` iterator, and **fit** to the training data,\n",
    ">> - We then **calculate** training and test set accuracy, **storing** the results in their respective dictionaries.\n",
    "\n",
    "<img style=\"margin-left: auto; margin-right: auto;\" src=\"./assets/ch01_03_measuring_model_performance_img07.png\">\n",
    "\n",
    "**Plotting our results**\n",
    "> - After our for loop, we then **plot the training and test values**, including a legend and labels.\n",
    "\n",
    "<img style=\"margin-left: auto; margin-right: auto;\" src=\"./assets/ch01_03_measuring_model_performance_img08.png\">\n",
    "\n",
    "**Model complexity curve**\n",
    "> - Here's the result! **As k increases beyond `15` we see overfitting** where performance plateaus on both test and training sets, as indicated in this plot.\n",
    "\n",
    "<img style=\"margin-left: auto; margin-right: auto;\" src=\"./assets/ch01_03_measuring_model_performance_img09.png\">\n",
    "\n",
    "**Model complexity curve**\n",
    "> - The **peak test accuracy** actually occurs at around `13` neighbors.\n",
    "\n",
    "<img style=\"margin-left: auto; margin-right: auto;\" src=\"./assets/ch01_03_measuring_model_performance_img10.png\">"
   ]
  },
  {
   "cell_type": "markdown",
   "id": "d271745b-b1b3-4154-bca8-3963d5249eb8",
   "metadata": {},
   "source": [
    "### 3.1. Train/test split + computing accuracy"
   ]
  },
  {
   "cell_type": "markdown",
   "id": "a6a578b1-28b0-4a57-a4a7-d6c3ce215a34",
   "metadata": {},
   "source": [
    "Now that you have learned about the **importance of splitting your data into training and test sets**, it's time to practice doing this on the `churn_df` dataset!\n",
    "\n",
    "NumPy arrays have been created for you containing the features as `X` and the target variable as `y`. You will split them into training and test sets, fit a KNN classifier to the training data, and then compute its accuracy on the test data using the `.score()` method."
   ]
  },
  {
   "cell_type": "markdown",
   "id": "caca6417-7e1c-4a7d-a364-1e5cf8116b49",
   "metadata": {},
   "source": [
    "- Set up the workspace."
   ]
  },
  {
   "cell_type": "code",
   "execution_count": 12,
   "id": "e8871d7c-c5b4-4129-8830-27c9f6b38364",
   "metadata": {
    "tags": []
   },
   "outputs": [
    {
     "data": {
      "text/html": [
       "<div>\n",
       "<style scoped>\n",
       "    .dataframe tbody tr th:only-of-type {\n",
       "        vertical-align: middle;\n",
       "    }\n",
       "\n",
       "    .dataframe tbody tr th {\n",
       "        vertical-align: top;\n",
       "    }\n",
       "\n",
       "    .dataframe thead th {\n",
       "        text-align: right;\n",
       "    }\n",
       "</style>\n",
       "<table border=\"1\" class=\"dataframe\">\n",
       "  <thead>\n",
       "    <tr style=\"text-align: right;\">\n",
       "      <th></th>\n",
       "      <th>account_length</th>\n",
       "      <th>total_day_charge</th>\n",
       "      <th>total_eve_charge</th>\n",
       "      <th>total_night_charge</th>\n",
       "      <th>total_intl_charge</th>\n",
       "      <th>customer_service_calls</th>\n",
       "      <th>churn</th>\n",
       "    </tr>\n",
       "  </thead>\n",
       "  <tbody>\n",
       "    <tr>\n",
       "      <th>0</th>\n",
       "      <td>101</td>\n",
       "      <td>45.85</td>\n",
       "      <td>17.65</td>\n",
       "      <td>9.64</td>\n",
       "      <td>1.22</td>\n",
       "      <td>3</td>\n",
       "      <td>1</td>\n",
       "    </tr>\n",
       "    <tr>\n",
       "      <th>1</th>\n",
       "      <td>73</td>\n",
       "      <td>22.30</td>\n",
       "      <td>9.05</td>\n",
       "      <td>9.98</td>\n",
       "      <td>2.75</td>\n",
       "      <td>2</td>\n",
       "      <td>0</td>\n",
       "    </tr>\n",
       "    <tr>\n",
       "      <th>2</th>\n",
       "      <td>86</td>\n",
       "      <td>24.62</td>\n",
       "      <td>17.53</td>\n",
       "      <td>11.49</td>\n",
       "      <td>3.13</td>\n",
       "      <td>4</td>\n",
       "      <td>0</td>\n",
       "    </tr>\n",
       "    <tr>\n",
       "      <th>3</th>\n",
       "      <td>59</td>\n",
       "      <td>34.73</td>\n",
       "      <td>21.02</td>\n",
       "      <td>9.66</td>\n",
       "      <td>3.24</td>\n",
       "      <td>1</td>\n",
       "      <td>0</td>\n",
       "    </tr>\n",
       "    <tr>\n",
       "      <th>4</th>\n",
       "      <td>129</td>\n",
       "      <td>27.42</td>\n",
       "      <td>18.75</td>\n",
       "      <td>10.11</td>\n",
       "      <td>2.59</td>\n",
       "      <td>1</td>\n",
       "      <td>0</td>\n",
       "    </tr>\n",
       "  </tbody>\n",
       "</table>\n",
       "</div>"
      ],
      "text/plain": [
       "   account_length  total_day_charge  total_eve_charge  total_night_charge  \\\n",
       "0             101             45.85             17.65                9.64   \n",
       "1              73             22.30              9.05                9.98   \n",
       "2              86             24.62             17.53               11.49   \n",
       "3              59             34.73             21.02                9.66   \n",
       "4             129             27.42             18.75               10.11   \n",
       "\n",
       "   total_intl_charge  customer_service_calls  churn  \n",
       "0               1.22                       3      1  \n",
       "1               2.75                       2      0  \n",
       "2               3.13                       4      0  \n",
       "3               3.24                       1      0  \n",
       "4               2.59                       1      0  "
      ]
     },
     "execution_count": 12,
     "metadata": {},
     "output_type": "execute_result"
    }
   ],
   "source": [
    "churn_df = pd.read_csv(\"./datasets/churn.csv\").drop(columns=\"Unnamed: 0\")\n",
    "churn_df.head()"
   ]
  },
  {
   "cell_type": "code",
   "execution_count": 13,
   "id": "b9f6e192-844d-4e3a-b64e-c84319b4dee6",
   "metadata": {
    "tags": []
   },
   "outputs": [],
   "source": [
    "X, y = churn_df.drop(columns=\"churn\").values, churn_df[\"churn\"].values"
   ]
  },
  {
   "cell_type": "code",
   "execution_count": 14,
   "id": "44ecfcb8-8663-45a5-b37e-fee6a01e2e8a",
   "metadata": {
    "tags": []
   },
   "outputs": [
    {
     "name": "stdout",
     "output_type": "stream",
     "text": [
      "(3333, 6) (3333,)\n"
     ]
    }
   ],
   "source": [
    "print(X.shape, y.shape)"
   ]
  },
  {
   "cell_type": "markdown",
   "id": "b1ddae99-5668-4515-8f37-b6a0c95abfa1",
   "metadata": {},
   "source": [
    "- Import `train_test_split` from `sklearn.model_selection`."
   ]
  },
  {
   "cell_type": "code",
   "execution_count": 15,
   "id": "0b0c4f8a-320a-4dc9-b41b-6b246febb02a",
   "metadata": {
    "tags": []
   },
   "outputs": [],
   "source": [
    "from sklearn.model_selection import train_test_split"
   ]
  },
  {
   "cell_type": "markdown",
   "id": "50d3c232-3c56-4b06-b001-2c2e261efb18",
   "metadata": {},
   "source": [
    "- Split `X` and `y` into training and test sets, setting `test_size` equal to 20%, `random_state` to 42, and ensuring the target label proportions reflect that of the original dataset."
   ]
  },
  {
   "cell_type": "code",
   "execution_count": 16,
   "id": "9a52d45a-dd26-4d90-96fa-a49c9950e059",
   "metadata": {
    "tags": []
   },
   "outputs": [],
   "source": [
    "X_train, X_test, y_train, y_test = train_test_split(X, y, test_size=0.2, random_state=42, stratify=y)"
   ]
  },
  {
   "cell_type": "code",
   "execution_count": 17,
   "id": "2e1c11ae-adb2-4119-94d8-e9f3e702375e",
   "metadata": {
    "tags": []
   },
   "outputs": [
    {
     "name": "stdout",
     "output_type": "stream",
     "text": [
      "(2666, 6) (2666,) (667, 6) (667,)\n"
     ]
    }
   ],
   "source": [
    "print(X_train.shape,  y_train.shape, X_test.shape, y_test.shape)"
   ]
  },
  {
   "cell_type": "markdown",
   "id": "40c7a344-71e8-45b6-9143-f4db110fbac2",
   "metadata": {},
   "source": [
    "- Fit the `knn` model to the training data."
   ]
  },
  {
   "cell_type": "code",
   "execution_count": 18,
   "id": "bfc92435-e0c2-47ef-8585-8bc102664eda",
   "metadata": {
    "tags": []
   },
   "outputs": [],
   "source": [
    "from sklearn.neighbors import KNeighborsClassifier\n",
    "knn = KNeighborsClassifier(n_neighbors=5)\n",
    "knn.fit(X_train, y_train);"
   ]
  },
  {
   "cell_type": "markdown",
   "id": "6516e806-1ce6-46a9-a9b9-2ed4f3daf812",
   "metadata": {},
   "source": [
    "- Compute and print the model's accuracy for the test data."
   ]
  },
  {
   "cell_type": "code",
   "execution_count": 19,
   "id": "fa44b85d-971a-4b3f-a940-90fd0c9d14e0",
   "metadata": {
    "tags": []
   },
   "outputs": [
    {
     "data": {
      "text/plain": [
       "0.8740629685157422"
      ]
     },
     "execution_count": 19,
     "metadata": {},
     "output_type": "execute_result"
    }
   ],
   "source": [
    "knn.score(X_test, y_test)"
   ]
  },
  {
   "cell_type": "markdown",
   "id": "b0479149-fbd6-43a3-8088-e57a56485f29",
   "metadata": {},
   "source": [
    "### 3.2. Overfitting and underfitting"
   ]
  },
  {
   "cell_type": "markdown",
   "id": "d769c80f-6107-47be-9b10-f90b49ebd9fd",
   "metadata": {},
   "source": [
    "Interpreting **model complexity** is a great way to **evaluate performance** when utilizing supervised learning. Your aim is to produce a model that can interpret the relationship between features and the target variable, as well as generalize well when exposed to new observations.\n",
    "\n",
    "You will generate accuracy scores for the training and test sets using a KNN classifier with different `n_neighbor` values, which you will plot in the next exercise.\n",
    "\n",
    "The training and test sets have been created from the `churn_df` dataset and preloaded as `X_train`, `X_test`, `y_train`, and `y_test`.\n",
    "\n",
    "In addition, `KNeighborsClassifier` has been imported for you along with `numpy` as `np`."
   ]
  },
  {
   "cell_type": "markdown",
   "id": "f72039ce-817a-46cb-a0cf-753fd3d64db8",
   "metadata": {},
   "source": [
    "- Set up the workspace."
   ]
  },
  {
   "cell_type": "code",
   "execution_count": 20,
   "id": "ec2aded5-7d7a-460f-81cb-ddc32642a396",
   "metadata": {
    "tags": []
   },
   "outputs": [],
   "source": [
    "import pickle\n",
    "with open(\"./assets/ch01_03__02_overfitting_and_underfitting_pickled01.pkl\", mode=\"rb\") as f_bin:\n",
    "    pickled_objs = pickle.load(f_bin)"
   ]
  },
  {
   "cell_type": "code",
   "execution_count": 21,
   "id": "a68b5df1-c256-40c3-a55b-0e4602e76530",
   "metadata": {
    "tags": []
   },
   "outputs": [],
   "source": [
    "X_train, X_test = pickled_objs[\"X_train\"], pickled_objs[\"X_test\"]\n",
    "y_train, y_test = pickled_objs[\"y_train\"], pickled_objs[\"y_test\"]"
   ]
  },
  {
   "cell_type": "code",
   "execution_count": 22,
   "id": "98523da0-6da4-49dd-a0a0-f225e97cdd12",
   "metadata": {
    "tags": []
   },
   "outputs": [
    {
     "name": "stdout",
     "output_type": "stream",
     "text": [
      "(1999, 19) (1999,) (1334, 19) (1334,)\n"
     ]
    }
   ],
   "source": [
    "print(X_train.shape,  y_train.shape, X_test.shape, y_test.shape)"
   ]
  },
  {
   "cell_type": "markdown",
   "id": "e132f70b-f8d7-46bc-ace4-0b0161ba4c11",
   "metadata": {},
   "source": [
    "- Create `neighbors` as a `numpy` array of values from `1` up to and including `12`."
   ]
  },
  {
   "cell_type": "code",
   "execution_count": 23,
   "id": "b0734327-95a8-4609-9dd1-0a2d0411275c",
   "metadata": {
    "tags": []
   },
   "outputs": [],
   "source": [
    "import numpy as np\n",
    "neighbors = np.arange(1, 13)"
   ]
  },
  {
   "cell_type": "code",
   "execution_count": 24,
   "id": "628e83a2-e57a-4ffe-91d8-43185c4fd5d0",
   "metadata": {
    "tags": []
   },
   "outputs": [],
   "source": [
    "train_accuracies = {}\n",
    "test_accuracies = {}"
   ]
  },
  {
   "cell_type": "markdown",
   "id": "1fed2ebc-bee2-44cd-8fce-dc403ecfa45f",
   "metadata": {},
   "source": [
    "- Instantiate a KNN classifier, with the number of neighbors equal to the `neighbor` iterator.\n",
    "- Fit the model to the training data.\n",
    "- Calculate accuracy scores for the training set and test set separately using the `.score()` method, and assign the results to the index of the `train_accuracies` and `test_accuracies` dictionaries, respectively."
   ]
  },
  {
   "cell_type": "code",
   "execution_count": 25,
   "id": "7f595436-5d45-40a2-86b1-dc3ebecea69b",
   "metadata": {
    "tags": []
   },
   "outputs": [],
   "source": [
    "from sklearn.neighbors import KNeighborsClassifier"
   ]
  },
  {
   "cell_type": "code",
   "execution_count": 26,
   "id": "2deff73a-a75d-43ac-b7a7-328a7f759f5d",
   "metadata": {
    "tags": []
   },
   "outputs": [],
   "source": [
    "for neighbor in neighbors:\n",
    "    knn = KNeighborsClassifier(n_neighbors=neighbor)\n",
    "    knn.fit(X_train, y_train)\n",
    "    train_accuracies[neighbor] = knn.score(X_train, y_train)\n",
    "    test_accuracies[neighbor] = knn.score(X_test, y_test)"
   ]
  },
  {
   "cell_type": "code",
   "execution_count": 27,
   "id": "1992bf8c-fe2e-4531-a66a-bf8c9e74422d",
   "metadata": {
    "tags": []
   },
   "outputs": [
    {
     "name": "stdout",
     "output_type": "stream",
     "text": [
      "Training accuracy:\n",
      "\n",
      "  Neighbors: 1 --> Accuracy: 1.00\n",
      "  Neighbors: 2 --> Accuracy: 0.89\n",
      "  Neighbors: 3 --> Accuracy: 0.91\n",
      "  Neighbors: 4 --> Accuracy: 0.87\n",
      "  Neighbors: 5 --> Accuracy: 0.88\n",
      "  Neighbors: 6 --> Accuracy: 0.87\n",
      "  Neighbors: 7 --> Accuracy: 0.88\n",
      "  Neighbors: 8 --> Accuracy: 0.87\n",
      "  Neighbors: 9 --> Accuracy: 0.87\n",
      "  Neighbors: 10 --> Accuracy: 0.86\n",
      "  Neighbors: 11 --> Accuracy: 0.86\n",
      "  Neighbors: 12 --> Accuracy: 0.86\n"
     ]
    }
   ],
   "source": [
    "print(\"Training accuracy:\\n\")\n",
    "for n, s in train_accuracies.items():\n",
    "    print(f\"  Neighbors: {n} --> Accuracy: {s:.2f}\")"
   ]
  },
  {
   "cell_type": "code",
   "execution_count": 28,
   "id": "7a438453-43c1-4735-8a42-28f203a2d0ca",
   "metadata": {
    "tags": []
   },
   "outputs": [
    {
     "name": "stdout",
     "output_type": "stream",
     "text": [
      "Test accuracy:\n",
      "\n",
      "  Neighbors: 1 --> Accuracy: 0.79\n",
      "  Neighbors: 2 --> Accuracy: 0.85\n",
      "  Neighbors: 3 --> Accuracy: 0.84\n",
      "  Neighbors: 4 --> Accuracy: 0.86\n",
      "  Neighbors: 5 --> Accuracy: 0.86\n",
      "  Neighbors: 6 --> Accuracy: 0.86\n",
      "  Neighbors: 7 --> Accuracy: 0.86\n",
      "  Neighbors: 8 --> Accuracy: 0.86\n",
      "  Neighbors: 9 --> Accuracy: 0.86\n",
      "  Neighbors: 10 --> Accuracy: 0.86\n",
      "  Neighbors: 11 --> Accuracy: 0.86\n",
      "  Neighbors: 12 --> Accuracy: 0.86\n"
     ]
    }
   ],
   "source": [
    "print(\"Test accuracy:\\n\")\n",
    "for n, s in test_accuracies.items():\n",
    "    print(f\"  Neighbors: {n} --> Accuracy: {s:.2f}\")"
   ]
  },
  {
   "cell_type": "markdown",
   "id": "a53f2878-c1f2-4743-9b6c-dac6db848689",
   "metadata": {},
   "source": [
    "### 3.3. Visualizing model complexity"
   ]
  },
  {
   "cell_type": "markdown",
   "id": "62fb0717-f86e-49c1-9a40-e2fb6d84fcdc",
   "metadata": {},
   "source": [
    "Now you have calculated the **accuracy** of the KNN model on the training and test sets using various values of `n_neighbors`, you can create a **model complexity curve** to visualize **how performance changes as the model becomes less complex!**\n",
    "\n",
    "The variables `neighbors`, `train_accuracies`, and `test_accuracies`, which you generated in the previous exercise, have all been preloaded for you. You will plot the results to aid in finding the optimal number of neighbors for your model."
   ]
  },
  {
   "cell_type": "markdown",
   "id": "ce064c63-dce9-4a6e-aab3-7491c5b14289",
   "metadata": {},
   "source": [
    "- Add a title `\"KNN: Varying Number of Neighbors\"`.\n",
    "- Plot the `.values()` method of `train_accuracies` on the y-`axis` against `neighbors` on the x-`axis`, with a label of `\"Training Accuracy\"`.\n",
    "- Plot the `.values()` method of `test_accuracies` on the y-`axis` against `neighbors` on the x-`axis`, with a label of `\"Testing Accuracy\"`.\n",
    "- Display the plot."
   ]
  },
  {
   "cell_type": "markdown",
   "id": "a5207d20-6f30-412f-9037-5f8517e9ced0",
   "metadata": {},
   "source": [
    "- Set up the workspace."
   ]
  },
  {
   "cell_type": "code",
   "execution_count": 29,
   "id": "ed5d554f-2a35-4172-b210-073bc484d673",
   "metadata": {
    "tags": []
   },
   "outputs": [],
   "source": [
    "import matplotlib.pyplot as plt\n",
    "%matplotlib inline\n",
    "import seaborn as sns"
   ]
  },
  {
   "cell_type": "code",
   "execution_count": 30,
   "id": "72399ec7-7073-45fe-91b1-608e7d556a44",
   "metadata": {
    "tags": []
   },
   "outputs": [
    {
     "data": {
      "image/png": "[encoded data removed]",
      "text/plain": [
       "<Figure size 800x600 with 1 Axes>"
      ]
     },
     "metadata": {},
     "output_type": "display_data"
    }
   ],
   "source": [
    "fig, ax = plt.subplots(figsize=(8, 6))\n",
    "sns.lineplot(x=neighbors, y=train_accuracies.values(), color=\"blue\", label=\"Training Accuracy\", ax=ax)\n",
    "sns.lineplot(x=neighbors, y=test_accuracies.values(), color=\"red\", label=\"Testing Accuracy\", ax=ax)\n",
    "ax.set_title(\"KNN: Varying Number of Neighbors\")\n",
    "ax.set_xlabel(\"Number of Neighbors\")\n",
    "ax.set_ylabel(\"Accuracy\");"
   ]
  },
  {
   "cell_type": "code",
   "execution_count": null,
   "id": "20afb38a-4933-4b81-b537-cf83617c85ff",
   "metadata": {},
   "outputs": [],
   "source": []
  }
 ],
 "metadata": {
  "kernelspec": {
   "display_name": "Data-Science",
   "language": "python",
   "name": "data-science"
  },
  "language_info": {
   "codemirror_mode": {
    "name": "ipython",
    "version": 3
   },
   "file_extension": ".py",
   "mimetype": "text/x-python",
   "name": "python",
   "nbconvert_exporter": "python",
   "pygments_lexer": "ipython3",
   "version": "3.10.10"
  }
 },
 "nbformat": 4,
 "nbformat_minor": 5
}
