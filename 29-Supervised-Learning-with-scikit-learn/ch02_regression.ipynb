{
 "cells": [
  {
   "cell_type": "markdown",
   "id": "86dea6ac-2eff-4d76-a7f2-7976ed973cd5",
   "metadata": {},
   "source": [
    "# Chapter #2: Regression"
   ]
  },
  {
   "cell_type": "markdown",
   "id": "afe467b5-ca55-4119-9478-96a4cc231d23",
   "metadata": {},
   "source": [
    "## 1. Introduction to regression"
   ]
  },
  {
   "cell_type": "markdown",
   "id": "c2fd0ad8-a816-4b78-845a-beae21523f23",
   "metadata": {},
   "source": [
    "**Introduction to regression**\n",
    "> - Now we're going to check out the other type of supervised learning: regression.\n",
    "> - In regression tasks, the target variable typically has continuous values, such as a country's GDP, or the price of a house.\n",
    "\n",
    "**Predicting blood glucose levels**\n",
    "> - To conceptualize regression problems, let's use a dataset containing women's health data to predict blood glucose levels.\n",
    "> - We load the dataset as a pandas DataFrame, and print the first five rows.\n",
    "> - It contains features including number of pregnancies, triceps skinfold measurements, insulin levels, body mass index, known as BMI, age in years, and diabetes status, with one indicating a diagnosis, and zero representing the absence of a diagnosis.\n",
    "\n",
    "<img style=\"margin-left: auto; margin-right: auto;\" src=\"./assets/ch02_01_introduction_to_regression_img01.png\">\n",
    "\n",
    "**Creating feature and target arrays**\n",
    "> - Recall that scikit-learn requires features and target values in distinct variables, `X` and `y`:\n",
    ">> - To use all of the features in our dataset, we drop our target, blood glucose levels, and store the values attribute as `X`,\n",
    ">> - For `y`, we take the the target column's values attribute.\n",
    "> - We can print the type for `X` and `y` to confirm they are now both NumPy arrays.\n",
    "\n",
    "<img style=\"margin-left: auto; margin-right: auto;\" src=\"./assets/ch02_01_introduction_to_regression_img02.png\">\n",
    "\n",
    "**Making predictions from a single feature**\n",
    "> - To start, let's try to predict blood glucose levels from a single feature: body mass index.\n",
    "> - To do this, we slice out the BMI column of `X`, which is the fourth column, storing as the variable `X_bmi`.\n",
    "> - Checking the shape of `y` and `X_bmi`, we see that they are both one-dimensional arrays.\n",
    "> - This is fine for `y`, but our features must be formatted as a two-dimensional array to be accepted by scikit-learn.\n",
    "> - To convert the shape of `X_bmi` we apply NumPy's `.reshape()` method, passing minus one followed by one. Printing the shape again shows `X_bmi` is now the correct shape for our model.\n",
    "\n",
    "<img style=\"margin-left: auto; margin-right: auto;\" src=\"./assets/ch02_01_introduction_to_regression_img03.png\">\n",
    "\n",
    "**Plotting glucose vs. body mass index**\n",
    "> - Now, let's plot blood glucose levels as a function of body mass index.\n",
    "> - We import `matplotlib.pyplot` as `plt`, then pass `X_bmi` and `y` to `pltscatter()`.\n",
    "> - We'll also label our axes using the `.xlabel()` and `.ylabel()` methods.\n",
    "\n",
    "<img style=\"margin-left: auto; margin-right: auto;\" src=\"./assets/ch02_01_introduction_to_regression_img04.png\">\n",
    "\n",
    "**Plotting glucose vs. body mass index**\n",
    "> - We can see that, generally, as body mass index increases, blood glucose levels also tend to increase.\n",
    "\n",
    "<img style=\"margin-left: auto; margin-right: auto;\" src=\"./assets/ch02_01_introduction_to_regression_img05.png\">\n",
    "\n",
    "**Fitting a regression model**\n",
    "> - It's time to fit a regression model to our data.\n",
    "> - We're going to use a model called linear regression, which fits a straight line to our data.\n",
    "> - We will explain the mechanics of linear regression in the next video, but first, let's see how to fit it and plot predictions:\n",
    ">> - We import `LinearRegression` from `sklearn.linear_model`, and instantiate our regression model,\n",
    ">> - As we are modeling the relationship between the feature, body mass index, and the target, blood glucose levels, rather than predicting target values for new observations, we fit the model to all of our feature observations,\n",
    ">> - We do this by calling `reg.fit()` and passing in the feature data and the target variable, the same as we did for classification problems,\n",
    ">> - After this, we can create the `predictions` variable by calling `reg.predict()` and passing in our features,\n",
    ">> - As we are predicting the target values of the features used to train the model, this gives us a line of best fit for our data,\n",
    ">> - We produce our scatter plot again, and then call `plt.plot()` to produce a line plot, passing our features, `X_bmi`, followed by our `predictions`.\n",
    "\n",
    "<img style=\"margin-left: auto; margin-right: auto;\" src=\"./assets/ch02_01_introduction_to_regression_img06.png\">\n",
    "\n",
    "**Fitting a regression model**\n",
    "> - The black line represents the linear regression model's fit of blood glucose values against body mass index, which appears to have a weak-to-moderate positive correlation.\n",
    "\n",
    "<img style=\"margin-left: auto; margin-right: auto;\" src=\"./assets/ch02_01_introduction_to_regression_img07.png\">"
   ]
  },
  {
   "cell_type": "markdown",
   "id": "bbc4cf8b-17fb-44cf-a44d-c3a1ded7654c",
   "metadata": {},
   "source": [
    "### 1.1. Creating features"
   ]
  },
  {
   "cell_type": "markdown",
   "id": "7a530780-3e88-42d9-ae2b-b43954de31cc",
   "metadata": {},
   "source": [
    "In this chapter, you will work with a dataset called `sales_df`, which contains information on advertising campaign expenditure across different media types, and the number of dollars generated in sales for the respective campaign. The dataset has been preloaded for you. Here are the first two rows:\n",
    "\n",
    "```\n",
    "     tv        radio      social_media    sales\n",
    "1    13000.0   9237.76    2409.57         46677.90\n",
    "2    41000.0   15886.45   2913.41         150177.83\n",
    "```\n",
    "\n",
    "You will use the advertising expenditure as features to predict sales values, initially working with the `\"radio\"` column. However, before you make any predictions you will need to create the feature and target arrays, reshaping them to the correct format for scikit-learn."
   ]
  },
  {
   "cell_type": "code",
   "execution_count": 1,
   "id": "d30ed39a-8a72-4506-a5e0-3894de9a8a58",
   "metadata": {
    "tags": []
   },
   "outputs": [
    {
     "data": {
      "text/html": [
       "<div>\n",
       "<style scoped>\n",
       "    .dataframe tbody tr th:only-of-type {\n",
       "        vertical-align: middle;\n",
       "    }\n",
       "\n",
       "    .dataframe tbody tr th {\n",
       "        vertical-align: top;\n",
       "    }\n",
       "\n",
       "    .dataframe thead th {\n",
       "        text-align: right;\n",
       "    }\n",
       "</style>\n",
       "<table border=\"1\" class=\"dataframe\">\n",
       "  <thead>\n",
       "    <tr style=\"text-align: right;\">\n",
       "      <th></th>\n",
       "      <th>tv</th>\n",
       "      <th>radio</th>\n",
       "      <th>social_media</th>\n",
       "      <th>influencer</th>\n",
       "      <th>sales</th>\n",
       "    </tr>\n",
       "  </thead>\n",
       "  <tbody>\n",
       "    <tr>\n",
       "      <th>0</th>\n",
       "      <td>16000.0</td>\n",
       "      <td>6566.23</td>\n",
       "      <td>2907.98</td>\n",
       "      <td>Mega</td>\n",
       "      <td>54732.76</td>\n",
       "    </tr>\n",
       "    <tr>\n",
       "      <th>1</th>\n",
       "      <td>13000.0</td>\n",
       "      <td>9237.76</td>\n",
       "      <td>2409.57</td>\n",
       "      <td>Mega</td>\n",
       "      <td>46677.90</td>\n",
       "    </tr>\n",
       "    <tr>\n",
       "      <th>2</th>\n",
       "      <td>41000.0</td>\n",
       "      <td>15886.45</td>\n",
       "      <td>2913.41</td>\n",
       "      <td>Mega</td>\n",
       "      <td>150177.83</td>\n",
       "    </tr>\n",
       "    <tr>\n",
       "      <th>3</th>\n",
       "      <td>83000.0</td>\n",
       "      <td>30020.03</td>\n",
       "      <td>6922.30</td>\n",
       "      <td>Mega</td>\n",
       "      <td>298246.34</td>\n",
       "    </tr>\n",
       "    <tr>\n",
       "      <th>4</th>\n",
       "      <td>15000.0</td>\n",
       "      <td>8437.41</td>\n",
       "      <td>1406.00</td>\n",
       "      <td>Micro</td>\n",
       "      <td>56594.18</td>\n",
       "    </tr>\n",
       "  </tbody>\n",
       "</table>\n",
       "</div>"
      ],
      "text/plain": [
       "        tv     radio  social_media influencer      sales\n",
       "0  16000.0   6566.23       2907.98       Mega   54732.76\n",
       "1  13000.0   9237.76       2409.57       Mega   46677.90\n",
       "2  41000.0  15886.45       2913.41       Mega  150177.83\n",
       "3  83000.0  30020.03       6922.30       Mega  298246.34\n",
       "4  15000.0   8437.41       1406.00      Micro   56594.18"
      ]
     },
     "execution_count": 1,
     "metadata": {},
     "output_type": "execute_result"
    }
   ],
   "source": [
    "import pandas as pd\n",
    "sales_df = pd.read_csv(\"./datasets/advertising_and_sales_clean.csv\")\n",
    "sales_df.head()"
   ]
  },
  {
   "cell_type": "markdown",
   "id": "f7e003bd-0064-440e-94dc-b0080743a0dc",
   "metadata": {},
   "source": [
    "- Create `X`, an array of the values from the `sales_df` DataFrame's `\"radio\"` column."
   ]
  },
  {
   "cell_type": "code",
   "execution_count": 2,
   "id": "e7f2e2de-ef25-4989-9777-79567eb692c4",
   "metadata": {
    "tags": []
   },
   "outputs": [],
   "source": [
    "X = sales_df[\"radio\"].values"
   ]
  },
  {
   "cell_type": "markdown",
   "id": "946a9e1d-5258-41d4-8cbe-c89f9d845dc7",
   "metadata": {},
   "source": [
    "- Create `y`, an array of the values from the `sales_df` DataFrame's `\"sales\"` column."
   ]
  },
  {
   "cell_type": "code",
   "execution_count": 3,
   "id": "06073ac9-990a-46a5-8405-fe052834f83d",
   "metadata": {
    "tags": []
   },
   "outputs": [],
   "source": [
    "y = sales_df[\"sales\"].values"
   ]
  },
  {
   "cell_type": "markdown",
   "id": "4dde83df-42a5-4b2c-a66f-9dfac0eeee5f",
   "metadata": {},
   "source": [
    "- Reshape `X` into a two-dimensional NumPy array."
   ]
  },
  {
   "cell_type": "code",
   "execution_count": 4,
   "id": "79afba9a-58e2-46ad-987e-8447ada3ddae",
   "metadata": {
    "tags": []
   },
   "outputs": [],
   "source": [
    "X = X.reshape(-1, 1)"
   ]
  },
  {
   "cell_type": "markdown",
   "id": "e32375b2-8f2f-4990-ab54-924f3bd74f0f",
   "metadata": {},
   "source": [
    "- Print the shape of `X` and `y`."
   ]
  },
  {
   "cell_type": "code",
   "execution_count": 5,
   "id": "4633c879-80b1-430f-9caa-7873eb964091",
   "metadata": {
    "tags": []
   },
   "outputs": [
    {
     "name": "stdout",
     "output_type": "stream",
     "text": [
      "(4546, 1) (4546,)\n"
     ]
    }
   ],
   "source": [
    "print(X.shape, y.shape)"
   ]
  },
  {
   "cell_type": "markdown",
   "id": "8c38a89d-0fd0-4b48-89bf-d4a6067a28c3",
   "metadata": {},
   "source": [
    "### 1.2. Building a linear regression model"
   ]
  },
  {
   "cell_type": "markdown",
   "id": "aeda8655-e331-40b8-a5e2-dbf5039c4c9e",
   "metadata": {},
   "source": [
    "Now you have created your feature and target arrays, you will train a linear regression model on all feature and target values.\n",
    "\n",
    "As the goal is to assess the relationship between the feature and target values there is no need to split the data into training and test sets.\n",
    "\n",
    "`X` and `y` have been preloaded for you as follows:\n",
    "```\n",
    "y = sales_df[\"sales\"].values\n",
    "X = sales_df[\"radio\"].values.reshape(-1, 1)\n",
    "```"
   ]
  },
  {
   "cell_type": "markdown",
   "id": "e98eb465-eb5a-45a6-a632-acc25a30af45",
   "metadata": {},
   "source": [
    "- Import `LinearRegression`."
   ]
  },
  {
   "cell_type": "code",
   "execution_count": 6,
   "id": "32c7ae50-d5e1-43f0-92c4-c150c564cbb4",
   "metadata": {
    "tags": []
   },
   "outputs": [],
   "source": [
    "from sklearn.linear_model import LinearRegression"
   ]
  },
  {
   "cell_type": "markdown",
   "id": "87946241-5190-464f-889a-9b1771b972a3",
   "metadata": {},
   "source": [
    "- Instantiate a linear regression model."
   ]
  },
  {
   "cell_type": "code",
   "execution_count": 7,
   "id": "7ab69ecd-9afa-4207-b8cc-a17d73773b00",
   "metadata": {
    "tags": []
   },
   "outputs": [],
   "source": [
    "reg = LinearRegression()\n",
    "reg.fit(X, y);"
   ]
  },
  {
   "cell_type": "markdown",
   "id": "1ea8b388-25a2-4f7d-8d2a-06c3a47808f5",
   "metadata": {},
   "source": [
    "- Predict sales values using `X`, storing as `predictions`."
   ]
  },
  {
   "cell_type": "code",
   "execution_count": 8,
   "id": "bc9a5639-b3d6-4085-93e0-13819dbb2ec3",
   "metadata": {
    "tags": []
   },
   "outputs": [
    {
     "data": {
      "text/plain": [
       "array([ 95491.17119147, 117829.51038393, 173423.38071499, 291603.11444202,\n",
       "       111137.28167129])"
      ]
     },
     "execution_count": 8,
     "metadata": {},
     "output_type": "execute_result"
    }
   ],
   "source": [
    "predictions = reg.predict(X)\n",
    "predictions[:5]"
   ]
  },
  {
   "cell_type": "markdown",
   "id": "98bc4ebd-eb57-4542-9a96-5a0e32c69ef6",
   "metadata": {},
   "source": [
    "### 1.3. Visualizing a linear regression model"
   ]
  },
  {
   "cell_type": "markdown",
   "id": "b7a71f77-3900-44cd-91d4-a60ee143678c",
   "metadata": {},
   "source": [
    "Now you have built your linear regression model and trained it using all available observations, you can visualize how well the model fits the data. This allows you to interpret the relationship between `radio` advertising expenditure and `sales` values.\n",
    "\n",
    "The variables `X`, an array of radio values, `y`, an array of sales values, and `predictions`, an array of the model's predicted values for `y` given `X`, have all been preloaded for you from the previous exercise."
   ]
  },
  {
   "cell_type": "markdown",
   "id": "71ecd4f9-4343-4551-9e9f-88a48b728758",
   "metadata": {},
   "source": [
    "- Import `matplotlib.pyplot` as `plt`."
   ]
  },
  {
   "cell_type": "code",
   "execution_count": 9,
   "id": "97dd140e-3fd7-4da2-ba0d-ede969714a34",
   "metadata": {
    "tags": []
   },
   "outputs": [],
   "source": [
    "import matplotlib.pyplot as plt\n",
    "%matplotlib inline"
   ]
  },
  {
   "cell_type": "markdown",
   "id": "812bb76c-1abb-4e96-87cc-a6a1535c33cc",
   "metadata": {},
   "source": [
    "- Create a scatter plot visualizing `y` against `X`, with observations in blue.\n",
    "- Draw a red line plot displaying the `predictions` against `X`.\n",
    "- Display the plot."
   ]
  },
  {
   "cell_type": "code",
   "execution_count": 10,
   "id": "fde91c5e-4d3d-4691-bdd8-a54f25e6c316",
   "metadata": {
    "tags": []
   },
   "outputs": [
    {
     "data": {
      "image/png": "[encoded data removed]",
      "text/plain": [
       "<Figure size 640x480 with 1 Axes>"
      ]
     },
     "metadata": {},
     "output_type": "display_data"
    }
   ],
   "source": [
    "fig, ax = plt.subplots()\n",
    "ax.scatter(X, y, color=\"blue\")\n",
    "ax.plot(X, predictions, color=\"red\")\n",
    "ax.set_xlabel(\"Radio Expenditure ($)\")\n",
    "ax.set_ylabel(\"Sales ($)\");"
   ]
  },
  {
   "cell_type": "markdown",
   "id": "3209fca8-b346-4394-ba8e-0670a783ba64",
   "metadata": {},
   "source": [
    "## 2. The basics of linear regression"
   ]
  },
  {
   "cell_type": "markdown",
   "id": "9f52005d-98bb-4e92-aac6-19cb91ab73c7",
   "metadata": {},
   "source": [
    "**Regression mechanics**\n",
    "> - We want to fit a line to the data, and in two dimensions this takes the form of $y = ax + b$.\n",
    "> - Using a single feature is known as simple linear regression, where `y` is the target, `x` is the feature, and `a` and `b` are the model parameters that we want to learn.\n",
    ">> - `a` and `b` are also called the model coefficients, or the slope and intercept, respectively.\n",
    "> - So how do we accurately choose values for `a` and `b`?\n",
    ">> - We can define an error function for any given line and then choose the line that minimizes this function,\n",
    ">> - Error functions are also called loss or cost functions.\n",
    "\n",
    "**The loss function**\n",
    "> - Let's visualize a loss function using this scatter plot.\n",
    "> - We want the line to be as close to the observations as possible.\n",
    "> - Therefore, we want to minimize the vertical distance between the fit and the data.\n",
    "> - So for each observation, we calculate the vertical distance between it and the line.\n",
    "> - This distance is called a residual\n",
    "\n",
    "<img style=\"margin-left: auto; margin-right: auto;\" src=\"./assets/ch02_02_the_basics_of_linear_regression_img01.png\">\n",
    "\n",
    "**Ordinary Least Squares**\n",
    "> - We could try to minimize the sum of the residuals, but then each positive residual would cancel outeach negative residual.\n",
    "> - To avoid this, we square the residuals.\n",
    "> - By adding all the squared residuals, we calculate the residual sum of squares, or RSS.\n",
    "> - This type of linear regression is called Ordinary Least Squares, or OLS, where we aim to minimize the RSS.\n",
    "\n",
    "<img style=\"margin-left: auto; margin-right: auto;\" src=\"./assets/ch02_02_the_basics_of_linear_regression_img02.png\">\n",
    "\n",
    "**Linear regression in higher dimensions**\n",
    "> - When we have two features, `x1` and `x2`, and one target, `y`, a line takes the form $y = a1x1 + a2x2 + b$.\n",
    "> - So to fit a linear regression model we specify three variables, `a1`, `a2`, and the intercept, `b`.\n",
    "> - When adding more features, it is known as multiple linear regression.\n",
    "> - Fitting a multiple linear regression model means specifying a coefficient, `an`, for `n` number of features, and `b`.\n",
    "> - For multiple linear regression models, scikit-learn expects one variable each for feature and target values.\n",
    "\n",
    "**Linear regression using all features**\n",
    "> - Let's perform linear regression to predict blood glucose levels using all of the features from the diabetes dataset:\n",
    ">> - We import LinearRegression from `sklearn.linear_model`,\n",
    ">> - Then we split the data into training and test sets, instantiate the model, fit it on the training set, and predict on the test set.\n",
    "> - Note that linear regression in scikit-learn performs OLS under the hood.\n",
    "\n",
    "<img style=\"margin-left: auto; margin-right: auto;\" src=\"./assets/ch02_02_the_basics_of_linear_regression_img03.png\">\n",
    "\n",
    "**R-squared**\n",
    "> - The default metric for linear regression is R-squared, which quantifies the amount of variance in the target variable that is explained by the features.\n",
    "> - Values can range from zero to one, with one meaning the features completely explain the target's variance.\n",
    "> - Here are two plots visualizing high and low R-squared respectively.\n",
    "\n",
    "<img style=\"margin-left: auto; margin-right: auto;\" src=\"./assets/ch02_02_the_basics_of_linear_regression_img04.png\">\n",
    "\n",
    "**R-squared in scikit-learn**\n",
    "> - To compute R-squared, we call the model's `.score()` method, passing the test features and targets.\n",
    "> - Here the features only explain about 35% of blood glucose level variance.\n",
    "\n",
    "<img style=\"margin-left: auto; margin-right: auto;\" src=\"./assets/ch02_02_the_basics_of_linear_regression_img05.png\">\n",
    "\n",
    "**Mean squared error and root mean squared error**\n",
    "> - Another way to assess a regression model's performance is to take the mean of the residual sum of squares.\n",
    "> - This is known as the mean squared error, or MSE.\n",
    "> - MSE is measured in units of our target variable, squared:\n",
    ">> - For example, if a model is predicting a dollar value, MSE will be in dollars squared,\n",
    ">> - To convert to dollars, we can take the square root, known as the root mean squared error, or RMSE.\n",
    "\n",
    "<img style=\"margin-left: auto; margin-right: auto;\" src=\"./assets/ch02_02_the_basics_of_linear_regression_img06.png\">\n",
    "\n",
    "**RMSE in scikit-learn**\n",
    "> - To calculate RMSE, we import `mean_squared_error` from `sklearn.metrics`, then call `mean_squared_error()`.\n",
    "> - We pass `y_test` and `y_pred`, and set `squared` equal to `False`, which returns the square root of the MSE.\n",
    "> - The model has an average error for blood glucose levels of around 24 milligrams per deciliter.\n",
    "\n",
    "<img style=\"margin-left: auto; margin-right: auto;\" src=\"./assets/ch02_02_the_basics_of_linear_regression_img07.png\">"
   ]
  },
  {
   "cell_type": "markdown",
   "id": "126fdc93-cffd-4b5f-b044-e7c143b0cc59",
   "metadata": {},
   "source": [
    "### 2.1. Fit and predict for regression"
   ]
  },
  {
   "cell_type": "markdown",
   "id": "217f21f3-6747-41a4-93d0-71c9b40bc4c0",
   "metadata": {},
   "source": [
    "Now you have seen how linear regression works, your task is to create a multiple linear regression model using all of the features in the `sales_df` dataset, which has been preloaded for you. As a reminder, here are the first two rows:\n",
    "\n",
    "```\n",
    "     tv        radio      social_media    sales\n",
    "1    13000.0   9237.76    2409.57         46677.90\n",
    "2    41000.0   15886.45   2913.41         150177.83\n",
    "```\n",
    "\n",
    "You will then use this model to predict sales based on the values of the test features.\n",
    "\n",
    "`LinearRegression` and `train_test_split` have been preloaded for you from their respective modules."
   ]
  },
  {
   "cell_type": "code",
   "execution_count": 11,
   "id": "78ec7f83-4f34-429c-9dea-23b1123ab481",
   "metadata": {
    "tags": []
   },
   "outputs": [
    {
     "data": {
      "text/html": [
       "<div>\n",
       "<style scoped>\n",
       "    .dataframe tbody tr th:only-of-type {\n",
       "        vertical-align: middle;\n",
       "    }\n",
       "\n",
       "    .dataframe tbody tr th {\n",
       "        vertical-align: top;\n",
       "    }\n",
       "\n",
       "    .dataframe thead th {\n",
       "        text-align: right;\n",
       "    }\n",
       "</style>\n",
       "<table border=\"1\" class=\"dataframe\">\n",
       "  <thead>\n",
       "    <tr style=\"text-align: right;\">\n",
       "      <th></th>\n",
       "      <th>tv</th>\n",
       "      <th>radio</th>\n",
       "      <th>social_media</th>\n",
       "      <th>influencer</th>\n",
       "      <th>sales</th>\n",
       "    </tr>\n",
       "  </thead>\n",
       "  <tbody>\n",
       "    <tr>\n",
       "      <th>0</th>\n",
       "      <td>16000.0</td>\n",
       "      <td>6566.23</td>\n",
       "      <td>2907.98</td>\n",
       "      <td>Mega</td>\n",
       "      <td>54732.76</td>\n",
       "    </tr>\n",
       "    <tr>\n",
       "      <th>1</th>\n",
       "      <td>13000.0</td>\n",
       "      <td>9237.76</td>\n",
       "      <td>2409.57</td>\n",
       "      <td>Mega</td>\n",
       "      <td>46677.90</td>\n",
       "    </tr>\n",
       "    <tr>\n",
       "      <th>2</th>\n",
       "      <td>41000.0</td>\n",
       "      <td>15886.45</td>\n",
       "      <td>2913.41</td>\n",
       "      <td>Mega</td>\n",
       "      <td>150177.83</td>\n",
       "    </tr>\n",
       "    <tr>\n",
       "      <th>3</th>\n",
       "      <td>83000.0</td>\n",
       "      <td>30020.03</td>\n",
       "      <td>6922.30</td>\n",
       "      <td>Mega</td>\n",
       "      <td>298246.34</td>\n",
       "    </tr>\n",
       "    <tr>\n",
       "      <th>4</th>\n",
       "      <td>15000.0</td>\n",
       "      <td>8437.41</td>\n",
       "      <td>1406.00</td>\n",
       "      <td>Micro</td>\n",
       "      <td>56594.18</td>\n",
       "    </tr>\n",
       "  </tbody>\n",
       "</table>\n",
       "</div>"
      ],
      "text/plain": [
       "        tv     radio  social_media influencer      sales\n",
       "0  16000.0   6566.23       2907.98       Mega   54732.76\n",
       "1  13000.0   9237.76       2409.57       Mega   46677.90\n",
       "2  41000.0  15886.45       2913.41       Mega  150177.83\n",
       "3  83000.0  30020.03       6922.30       Mega  298246.34\n",
       "4  15000.0   8437.41       1406.00      Micro   56594.18"
      ]
     },
     "execution_count": 11,
     "metadata": {},
     "output_type": "execute_result"
    }
   ],
   "source": [
    "sales_df.head()"
   ]
  },
  {
   "cell_type": "code",
   "execution_count": 12,
   "id": "9b3b0c68-f343-452c-8ec1-9480608d11a0",
   "metadata": {
    "tags": []
   },
   "outputs": [],
   "source": [
    "from sklearn.model_selection import train_test_split"
   ]
  },
  {
   "cell_type": "markdown",
   "id": "eccd84ab-f8d9-4e9a-be79-29da69a00924",
   "metadata": {},
   "source": [
    "- Create `X`, an array containing values of all features in `sales_df`, and `y`, containing all values from the `\"sales\"` column."
   ]
  },
  {
   "cell_type": "code",
   "execution_count": 13,
   "id": "cd5faf31-13b9-4a19-bb61-7e06245d8b67",
   "metadata": {
    "tags": []
   },
   "outputs": [],
   "source": [
    "X = sales_df.drop(columns=[\"sales\", \"influencer\"]).values\n",
    "y = sales_df[\"sales\"].values"
   ]
  },
  {
   "cell_type": "code",
   "execution_count": 14,
   "id": "3ab76d5e-1f1e-45cf-ba4f-057bdf0dffbc",
   "metadata": {
    "tags": []
   },
   "outputs": [],
   "source": [
    "X_train, X_test, y_train, y_test = train_test_split(X, y, test_size=0.3, random_state=42)"
   ]
  },
  {
   "cell_type": "markdown",
   "id": "af8454d9-ab34-4bb4-9811-415dbc052263",
   "metadata": {},
   "source": [
    "- Instantiate a linear regression model."
   ]
  },
  {
   "cell_type": "code",
   "execution_count": 15,
   "id": "d1670dec-5bc4-4ec8-8643-a76c809f7e65",
   "metadata": {
    "tags": []
   },
   "outputs": [],
   "source": [
    "reg = LinearRegression()"
   ]
  },
  {
   "cell_type": "markdown",
   "id": "e5ddc7a6-4510-44db-9e73-5ce9984dc601",
   "metadata": {},
   "source": [
    "- Fit the model to the training data."
   ]
  },
  {
   "cell_type": "code",
   "execution_count": 16,
   "id": "4ba1bfdf-b540-4c9d-93e7-720e332f7823",
   "metadata": {
    "tags": []
   },
   "outputs": [
    {
     "data": {
      "text/plain": [
       "dtype('float64')"
      ]
     },
     "execution_count": 16,
     "metadata": {},
     "output_type": "execute_result"
    }
   ],
   "source": [
    "X_train.dtype"
   ]
  },
  {
   "cell_type": "code",
   "execution_count": 17,
   "id": "8e91931d-cc0d-4f06-93c2-7fe97eb0fd99",
   "metadata": {
    "tags": []
   },
   "outputs": [],
   "source": [
    "reg.fit(X_train, y_train);"
   ]
  },
  {
   "cell_type": "markdown",
   "id": "2552a2fd-ab52-4921-93f4-4487043ac40b",
   "metadata": {},
   "source": [
    "- Create `y_pred`, making predictions for `sales` using the test features."
   ]
  },
  {
   "cell_type": "code",
   "execution_count": 18,
   "id": "e748bfde-1104-4392-9651-36b5f43a690a",
   "metadata": {
    "tags": []
   },
   "outputs": [],
   "source": [
    "y_pred = reg.predict(X_test)"
   ]
  },
  {
   "cell_type": "code",
   "execution_count": 19,
   "id": "82466b9a-ce6a-4540-a1b6-5f3918253a11",
   "metadata": {
    "tags": []
   },
   "outputs": [
    {
     "name": "stdout",
     "output_type": "stream",
     "text": [
      "Ground truth --> 55261.28\n",
      "Prediction --> 53176.66\n",
      "\n",
      "Ground truth --> 67574.90\n",
      "Prediction --> 70996.20\n",
      "\n"
     ]
    }
   ],
   "source": [
    "for i, j in zip(y_test[:2], y_pred[:2]):\n",
    "    print(f\"Ground truth --> {i:.2f}\")\n",
    "    print(f\"Prediction --> {j:.2f}\\n\")"
   ]
  },
  {
   "cell_type": "markdown",
   "id": "ce74ae8a-d929-484f-951a-52e9bcbd2453",
   "metadata": {},
   "source": [
    "### 2.2. Regression performance"
   ]
  },
  {
   "cell_type": "markdown",
   "id": "c9f5fb6d-6b37-419d-98fb-678420757295",
   "metadata": {},
   "source": [
    "Now you have fit a model, `reg`, using all features from `sales_df`, and made predictions of sales values, you can evaluate performance using some common regression metrics.\n",
    "\n",
    "The variables `X_train`, `X_test`, `y_train`, `y_test`, and `y_pred`, along with the fitted model, `reg`, all from the last exercise, have been preloaded for you.\n",
    "\n",
    "Your task is to find out how well the features can explain the variance in the target values, along with assessing the model's ability to make predictions on unseen data."
   ]
  },
  {
   "cell_type": "markdown",
   "id": "eb4e1850-5ccc-413a-a739-243e7feeb329",
   "metadata": {},
   "source": [
    "- Import `mean_squared_error`."
   ]
  },
  {
   "cell_type": "code",
   "execution_count": 20,
   "id": "15444a37-7b69-4a41-a222-c76fbe32e9bd",
   "metadata": {
    "tags": []
   },
   "outputs": [],
   "source": [
    "from sklearn.metrics import mean_squared_error"
   ]
  },
  {
   "cell_type": "markdown",
   "id": "c31865e2-5074-43fc-b044-b610d1988745",
   "metadata": {},
   "source": [
    "- Calculate the model's R-squared score by passing the test feature values and the test target values to an appropriate method."
   ]
  },
  {
   "cell_type": "code",
   "execution_count": 21,
   "id": "f03b9746-106b-442e-a5f7-421bfe289a05",
   "metadata": {
    "tags": []
   },
   "outputs": [],
   "source": [
    "r_squared = reg.score(X_test, y_test)"
   ]
  },
  {
   "cell_type": "markdown",
   "id": "318af5d9-95b9-4321-a985-98787a40f7c3",
   "metadata": {},
   "source": [
    "- Calculate the model's root mean squared error using `y_test` and `y_pred`."
   ]
  },
  {
   "cell_type": "code",
   "execution_count": 22,
   "id": "46d804cd-d451-4342-8237-e79669b01d9e",
   "metadata": {
    "tags": []
   },
   "outputs": [],
   "source": [
    "rmse = mean_squared_error(y_test, y_pred, squared=False)"
   ]
  },
  {
   "cell_type": "markdown",
   "id": "9330dc8f-afe5-47f6-bc7c-3871f6c213ce",
   "metadata": {},
   "source": [
    "- Print `r_squared` and `rmse`."
   ]
  },
  {
   "cell_type": "code",
   "execution_count": 23,
   "id": "ac2a1df5-ba42-4e14-98b0-956008344ae2",
   "metadata": {},
   "outputs": [
    {
     "name": "stdout",
     "output_type": "stream",
     "text": [
      "R^2 = 1.00\n"
     ]
    }
   ],
   "source": [
    "print(f\"R^2 = {r_squared:.2f}\")"
   ]
  },
  {
   "cell_type": "code",
   "execution_count": 24,
   "id": "541ba59b-fbad-4f3f-8033-511b89892b23",
   "metadata": {
    "tags": []
   },
   "outputs": [
    {
     "name": "stdout",
     "output_type": "stream",
     "text": [
      "RMSE = 2944.43\n"
     ]
    }
   ],
   "source": [
    "print(f\"RMSE = {rmse:.2f}\")"
   ]
  },
  {
   "cell_type": "markdown",
   "id": "326982bc-4106-4736-8612-a2b037fa85f7",
   "metadata": {},
   "source": [
    "## 3. Cross-validation"
   ]
  },
  {
   "cell_type": "markdown",
   "id": "a57b3a67-e883-4f8a-954b-de87173ed375",
   "metadata": {},
   "source": [
    "**Cross-validation**\n",
    "> - Great work on those regression challenges!\n",
    "> - Hopefully we are now feeling familiar with train test split and computing model performance metrics on our test set.\n",
    "> - But, there is a potential pitfall of this process.\n",
    "\n",
    "**Cross-validation motivation**\n",
    "> - If we're computing R-squared on our test set, the R-squared returned is dependent on the way that we split up the data!\n",
    "> - The data points in the test set may have some peculiarities that mean the R-squared computed on it is not representative of the model's ability to generalize to unseen data.\n",
    "> - To combat this dependence on what is essentially a random split, we use a technique called cross-validation.\n",
    "\n",
    "**Cross-validation basics**\n",
    "> - We begin by splitting the dataset into five groups or folds.\n",
    "> - Then we set aside the first fold as a test set, fit our model on the remaining four folds, predict on our test set, and compute the metric of interest, such as R-squared.\n",
    "> - Next, we set aside the second fold as our test set, fit on the remaining data, predict on the test set, and compute the metric of interest.\n",
    "> - Then similarly with the third fold, the fourth fold, and the fifth fold.\n",
    "> - As a result we get five values of R-squared from which we can compute statistics of interest, such as the mean, median, and 95% confidence intervals.\n",
    "\n",
    "<img style=\"margin-left: auto; margin-right: auto;\" src=\"./assets/ch02_03_cross_validation_img01.png\">\n",
    "\n",
    "**Cross-validation and model performance**\n",
    "> - As we split the dataset into five folds, we call this process 5-fold cross-validation.\n",
    "> - If we use 10 folds, it is called 10-fold cross-validation.\n",
    "> - More generally, if we use k folds, it is called k-fold cross-validation or k-fold CV.\n",
    "> - There is, however, a trade-off:\n",
    ">> - Using more folds is more computationally expensive,\n",
    ">> - This is because we are fitting and predicting more times.\n",
    "\n",
    "**Cross-validation in scikit-learn**\n",
    "> - To perform k-fold cross-validation in scikit-learn:\n",
    ">> - We import cross_val_score from `sklearn.model_selection`,\n",
    ">> - We also import `KFold`, which allows us to set a seed and shuffle our data, making our results repeatable downstream.\n",
    ">> - We first call `KFold`,\n",
    ">> - The `n_splits` argument has a default of `5`, but in this case we assign `6`, allowing us to use `6` folds from our dataset for cross-validation,\n",
    ">> - We also set `shuffle` to `True`, which shuffles our dataset before splitting into folds,\n",
    ">> - We also assign a seed to the `random_state` keyword argument, ensuring our data would be split in the same way if we repeat the process making the results repeatable downstream,\n",
    ">> - We save this as the variable `kf`,\n",
    ">> - As usual, we instantiate our model, in this case, linear regression,\n",
    ">> - We then call `cross_val_score`, passing the model, the feature data, and the target data as the first three positional arguments,\n",
    ">> - We also specify the number of folds by setting the keyword argument `cv` equal to our `kf` variable,\n",
    "> - This returns an array of cross-validation scores, which we assign to `cv_results`.\n",
    "> - The length of the array is the number of folds utilized.\n",
    "> - Note that the score reported is R squared, as this is the default score for linear regression.\n",
    "\n",
    "<img style=\"margin-left: auto; margin-right: auto;\" src=\"./assets/ch02_03_cross_validation_img02.png\">\n",
    "\n",
    "**Evaluating cross-validation peformance**\n",
    "> - We can now print the scores.\n",
    "> - This returns six results ranging from `0.7` to approximately `0.77`.\n",
    "> - We can calculate the mean score using `np.mean()`, and the standard deviation using `np.std()`.\n",
    "> - Additionally, we can calculate the 95% confidence interval using the `np.quantile()` function, passing our results followed by a list containing the upper and lower limits of our interval as decimals.\n",
    "\n",
    "<img style=\"margin-left: auto; margin-right: auto;\" src=\"./assets/ch02_03_cross_validation_img03.png\">"
   ]
  },
  {
   "cell_type": "markdown",
   "id": "6855a946-a573-49a0-8dcd-b363e4f5cd74",
   "metadata": {},
   "source": [
    "### 3.1. Cross-validation for R-squared"
   ]
  },
  {
   "cell_type": "markdown",
   "id": "6e7c6bb6-7672-470a-8404-4246c1246e11",
   "metadata": {},
   "source": [
    "Cross-validation is a vital approach to evaluating a model. It maximizes the amount of data that is available to the model, as the model is not only trained but also tested on all of the available data.\n",
    "\n",
    "In this exercise, you will build a linear regression model, then use 6-fold cross-validation to assess its accuracy for predicting sales using social media advertising expenditure. You will display the individual score for each of the six-folds.\n",
    "\n",
    "The `sales_df` dataset has been split into `y` for the target variable, and `X` for the features, and preloaded for you. `LinearRegression` has been imported from `sklearn.linear_model`."
   ]
  },
  {
   "cell_type": "code",
   "execution_count": 25,
   "id": "1dc4bf12-3bf4-4cc0-b87f-ee57e9496846",
   "metadata": {
    "tags": []
   },
   "outputs": [
    {
     "data": {
      "text/html": [
       "<div>\n",
       "<style scoped>\n",
       "    .dataframe tbody tr th:only-of-type {\n",
       "        vertical-align: middle;\n",
       "    }\n",
       "\n",
       "    .dataframe tbody tr th {\n",
       "        vertical-align: top;\n",
       "    }\n",
       "\n",
       "    .dataframe thead th {\n",
       "        text-align: right;\n",
       "    }\n",
       "</style>\n",
       "<table border=\"1\" class=\"dataframe\">\n",
       "  <thead>\n",
       "    <tr style=\"text-align: right;\">\n",
       "      <th></th>\n",
       "      <th>tv</th>\n",
       "      <th>radio</th>\n",
       "      <th>social_media</th>\n",
       "      <th>influencer</th>\n",
       "      <th>sales</th>\n",
       "    </tr>\n",
       "  </thead>\n",
       "  <tbody>\n",
       "    <tr>\n",
       "      <th>0</th>\n",
       "      <td>16000.0</td>\n",
       "      <td>6566.23</td>\n",
       "      <td>2907.98</td>\n",
       "      <td>Mega</td>\n",
       "      <td>54732.76</td>\n",
       "    </tr>\n",
       "    <tr>\n",
       "      <th>1</th>\n",
       "      <td>13000.0</td>\n",
       "      <td>9237.76</td>\n",
       "      <td>2409.57</td>\n",
       "      <td>Mega</td>\n",
       "      <td>46677.90</td>\n",
       "    </tr>\n",
       "    <tr>\n",
       "      <th>2</th>\n",
       "      <td>41000.0</td>\n",
       "      <td>15886.45</td>\n",
       "      <td>2913.41</td>\n",
       "      <td>Mega</td>\n",
       "      <td>150177.83</td>\n",
       "    </tr>\n",
       "    <tr>\n",
       "      <th>3</th>\n",
       "      <td>83000.0</td>\n",
       "      <td>30020.03</td>\n",
       "      <td>6922.30</td>\n",
       "      <td>Mega</td>\n",
       "      <td>298246.34</td>\n",
       "    </tr>\n",
       "    <tr>\n",
       "      <th>4</th>\n",
       "      <td>15000.0</td>\n",
       "      <td>8437.41</td>\n",
       "      <td>1406.00</td>\n",
       "      <td>Micro</td>\n",
       "      <td>56594.18</td>\n",
       "    </tr>\n",
       "  </tbody>\n",
       "</table>\n",
       "</div>"
      ],
      "text/plain": [
       "        tv     radio  social_media influencer      sales\n",
       "0  16000.0   6566.23       2907.98       Mega   54732.76\n",
       "1  13000.0   9237.76       2409.57       Mega   46677.90\n",
       "2  41000.0  15886.45       2913.41       Mega  150177.83\n",
       "3  83000.0  30020.03       6922.30       Mega  298246.34\n",
       "4  15000.0   8437.41       1406.00      Micro   56594.18"
      ]
     },
     "execution_count": 25,
     "metadata": {},
     "output_type": "execute_result"
    }
   ],
   "source": [
    "sales_df.head()"
   ]
  },
  {
   "cell_type": "code",
   "execution_count": 26,
   "id": "36756188-89ed-48cc-a87e-dba13bbc61c0",
   "metadata": {
    "tags": []
   },
   "outputs": [],
   "source": [
    "X = sales_df.drop(columns=[\"tv\", \"influencer\", \"sales\"]).values\n",
    "y = sales_df[\"sales\"].values"
   ]
  },
  {
   "cell_type": "markdown",
   "id": "d11bd12c-30f7-485f-84cd-18b593b093f7",
   "metadata": {},
   "source": [
    "- Import `KFold` and `cross_val_score`."
   ]
  },
  {
   "cell_type": "code",
   "execution_count": 27,
   "id": "47951800-e63e-4c18-a608-2f2b1302002c",
   "metadata": {
    "tags": []
   },
   "outputs": [],
   "source": [
    "from sklearn.model_selection import KFold, cross_val_score"
   ]
  },
  {
   "cell_type": "markdown",
   "id": "6b25ec39-e733-479d-9024-da1ac44c0af0",
   "metadata": {},
   "source": [
    "- Create `kf` by calling `KFold()`, setting the number of splits to `6`, `shuffle` to `True`, and setting a seed of `5`."
   ]
  },
  {
   "cell_type": "code",
   "execution_count": 28,
   "id": "0f248ce3-0d42-4938-ba1d-374500b7fbce",
   "metadata": {
    "tags": []
   },
   "outputs": [],
   "source": [
    "kf = KFold(n_splits=6, shuffle=True, random_state=5)"
   ]
  },
  {
   "cell_type": "markdown",
   "id": "18bdf7df-bc21-4c06-8b96-dd5b8aa44181",
   "metadata": {},
   "source": [
    "- Perform cross-validation using `reg` on `X` and y, passing `kf` to `cv`."
   ]
  },
  {
   "cell_type": "code",
   "execution_count": 29,
   "id": "20e81baf-7776-4144-ab93-ee0f204ef204",
   "metadata": {
    "tags": []
   },
   "outputs": [],
   "source": [
    "reg = LinearRegression()"
   ]
  },
  {
   "cell_type": "code",
   "execution_count": 30,
   "id": "7ea19cbf-dee4-4687-846f-eb5e6260ce66",
   "metadata": {
    "tags": []
   },
   "outputs": [],
   "source": [
    "cv_scores = cross_val_score(reg, X, y, cv=kf)"
   ]
  },
  {
   "cell_type": "markdown",
   "id": "fe6c36a8-092f-4883-b3c9-eaf7be870f89",
   "metadata": {},
   "source": [
    "- Print the `cv_scores`."
   ]
  },
  {
   "cell_type": "code",
   "execution_count": 31,
   "id": "836b7736-532c-49e6-8dee-4bd2ed84abf2",
   "metadata": {
    "tags": []
   },
   "outputs": [
    {
     "name": "stdout",
     "output_type": "stream",
     "text": [
      "0.74\n",
      "0.77\n",
      "0.77\n",
      "0.74\n",
      "0.75\n",
      "0.74\n"
     ]
    }
   ],
   "source": [
    "for s in cv_scores:\n",
    "    print(f\"{s:.2f}\")"
   ]
  },
  {
   "cell_type": "markdown",
   "id": "daf47ab9-be4d-4ed0-9581-c65b05b65820",
   "metadata": {},
   "source": [
    "### 3.2. Analyzing cross-validation metrics"
   ]
  },
  {
   "cell_type": "markdown",
   "id": "93354bb3-3656-4710-ad27-fe128e1d84ac",
   "metadata": {},
   "source": [
    "Now you have performed cross-validation, it's time to analyze the results.\n",
    "\n",
    "You will display the mean, standard deviation, and 95% confidence interval for `cv_results`, which has been preloaded for you from the previous exercise.\n",
    "\n",
    "`numpy` has been imported for you as `np`."
   ]
  },
  {
   "cell_type": "code",
   "execution_count": 32,
   "id": "a23201d5-8756-4cf4-b8d9-7c0c87201f86",
   "metadata": {
    "tags": []
   },
   "outputs": [],
   "source": [
    "import numpy as np"
   ]
  },
  {
   "cell_type": "markdown",
   "id": "9e60c9a7-fa9c-4c1c-965c-539a8d6c5463",
   "metadata": {},
   "source": [
    "- Calculate and print the mean of the results."
   ]
  },
  {
   "cell_type": "code",
   "execution_count": 33,
   "id": "183e6c88-b58a-482f-9c2b-be2fa4f0d1b1",
   "metadata": {
    "tags": []
   },
   "outputs": [
    {
     "data": {
      "text/plain": [
       "0.7536937414361207"
      ]
     },
     "execution_count": 33,
     "metadata": {},
     "output_type": "execute_result"
    }
   ],
   "source": [
    "np.mean(cv_scores)"
   ]
  },
  {
   "cell_type": "markdown",
   "id": "9900ec4c-202b-48ca-97fc-ba7ee2681747",
   "metadata": {
    "tags": []
   },
   "source": [
    "- Calculate and print the standard deviation of `cv_scores`."
   ]
  },
  {
   "cell_type": "code",
   "execution_count": 34,
   "id": "a439f122-0e3f-4b8f-aa87-27bb98037042",
   "metadata": {
    "tags": []
   },
   "outputs": [
    {
     "data": {
      "text/plain": [
       "0.012305389070474737"
      ]
     },
     "execution_count": 34,
     "metadata": {},
     "output_type": "execute_result"
    }
   ],
   "source": [
    "np.std(cv_scores)"
   ]
  },
  {
   "cell_type": "markdown",
   "id": "a1b42c98-da8c-4977-87a1-5fe960200655",
   "metadata": {
    "tags": []
   },
   "source": [
    "- Display the 95% confidence interval for your results using `np.quantile()`."
   ]
  },
  {
   "cell_type": "code",
   "execution_count": 35,
   "id": "1847d321-7fc5-4071-8e91-b4b0ce8110b6",
   "metadata": {
    "tags": []
   },
   "outputs": [
    {
     "name": "stdout",
     "output_type": "stream",
     "text": [
      "0.74\n",
      "0.77\n"
     ]
    }
   ],
   "source": [
    "for q in np.quantile(a=cv_scores, q=[0.025, 0.975]):\n",
    "    print(f\"{q:.2f}\")"
   ]
  },
  {
   "cell_type": "markdown",
   "id": "19780941-a932-448a-bb77-36fb0cf90bde",
   "metadata": {},
   "source": [
    "## 4. Regularized regression"
   ]
  },
  {
   "cell_type": "markdown",
   "id": "8c3fc1ac-8c63-4198-b1e0-dbec965d8c14",
   "metadata": {},
   "source": [
    "**Regularized regression**\n",
    "> - Now let's explore regularization in regression, a technique used to avoid overfitting.\n",
    "\n",
    "**Why regularize?**\n",
    "> - Recall that fitting a linear regression model minimizes a loss function to choose a coefficient, `a`, for each feature, and the intercept, `b`.\n",
    "> - If we allow these coefficients to be very large, we can get overfitting.\n",
    "> - Therefore, it is common practice to alter the loss function so that it penalizes large coefficients.\n",
    "> - This is called regularization.\n",
    "\n",
    "**Ridge regression**\n",
    "> - The first type of regularized regression that we'll look at is called ridge.\n",
    "> - With ridge, we use the Ordinary Least Squares loss function plus the squared value of each coefficient, multiplied by a constant, alpha.\n",
    "> - So, when minimizing the loss function, models are penalized for coefficients with large positive or negative values.\n",
    "> - When using ridge, we need to choose the alpha value in order to fit and predict.\n",
    "> - Essentially, we can select the alpha for which our model performs best:\n",
    ">> - Picking alpha for ridge is similar to picking k in KNN.\n",
    ">> - Alpha in ridge is known as a hyperparameter, which is a variable used for selecting a model's parameters.\n",
    ">> - Alpha controls model complexity.\n",
    ">> - When alpha equals zero, we are performing OLS, where large coefficients are not penalized and overfitting may occur.\n",
    ">> - A high alpha means that large coefficients are significantly penalized, which can lead to underfitting.\n",
    "\n",
    "<img style=\"margin-left: auto; margin-right: auto;\" src=\"./assets/ch02_04_regularized_regression_img01.png\">\n",
    "\n",
    "**Ridge regression in scikit-learn**\n",
    "> - To perform ridge regression in scikit-learn, we import `Ridge` from `sklearn.linear_model`.\n",
    "> - To highlight the impact of different `alpha` values, we create an empty list for our scores, then loop through a list of different `alpha` values.\n",
    "> - Inside the for loop we instantiate `Ridge`, setting the `alpha` keyword argument equal to the iterator, also called `alpha`.\n",
    "> - We fit on the training data, and predict on the test data.\n",
    "> - We save the model's R-squared value to the `scores` list.\n",
    "> - Finally, outside of the loop, we print the `scores` for the models with five different alpha values.\n",
    "> - We see performance gets worse as `alpha` increases.\n",
    "\n",
    "<img style=\"margin-left: auto; margin-right: auto;\" src=\"./assets/ch02_04_regularized_regression_img02.png\">\n",
    "\n",
    "**Lasso regression**\n",
    "> - There is another type of regularized regression called lasso, where our loss function is the OLS loss function plus the absolute value of each coefficient multiplied by some constant, alpha.\n",
    "\n",
    "<img style=\"margin-left: auto; margin-right: auto;\" src=\"./assets/ch02_04_regularized_regression_img03.png\">\n",
    "\n",
    "**Lasso regression in scikit-learn**\n",
    "> - To use Lasso we import it from `sklearn.linear_model`.\n",
    "> - The actual method for performing lasso regression in scikit-learn mirrors ridge regression, as we can see here.\n",
    "> - Performance drops substantially as `alpha` goes over `20`!\n",
    "\n",
    "<img style=\"margin-left: auto; margin-right: auto;\" src=\"./assets/ch02_04_regularized_regression_img04.png\">\n",
    "\n",
    "**Lasso regression for feature selection**\n",
    "> - Lasso regression can actually be used to assess feature importance.\n",
    "> - This is because it tends to shrink the coefficients of less important features to zero.\n",
    "> - The features whose coefficients are not shrunk to zero are selected by the lasso algorithm.\n",
    "> - Let's check this out in practice.\n",
    "\n",
    "**Lasso for feature selection in scikit-learn**\n",
    "> - We import `Lasso`.\n",
    "> - Next, we create our feature and target arrays, and use the dataset's `.columns` attribute to access the feature names and store as the variable names.\n",
    "> - As we are calculating feature importance we use the entire dataset, rather than splitting it.\n",
    "> - We then instantiate `Lasso`, setting alpha to zero-point-one.\n",
    "> - We fit the model to the data and extract the coefficients using the `.coef_` attribute, storing as `lasso_coef`.\n",
    "> - We then plot the coefficients for each feature.\n",
    "\n",
    "<img style=\"margin-left: auto; margin-right: auto;\" src=\"./assets/ch02_04_regularized_regression_img05.png\">\n",
    "\n",
    "**Lasso for feature selection in scikit-learn**\n",
    "> - We can see that the most important predictor for our target variable, blood glucose levels, is the binary value for whether an individual has diabetes or not!\n",
    "> - This is not surprising, but is a great sanity check.\n",
    "> - This type of feature selection is very important because it allows us to communicate results to non-technical audiences.\n",
    "> - It is also useful for identifying which factors are important predictors for various physical phenomena.\n",
    "\n",
    "<img style=\"margin-left: auto; margin-right: auto;\" src=\"./assets/ch02_04_regularized_regression_img06.png\">"
   ]
  },
  {
   "cell_type": "markdown",
   "id": "dddb04d9-581b-4213-9dfb-aa857ad7ab60",
   "metadata": {},
   "source": [
    "### 4.1. Regularized regression: Ridge"
   ]
  },
  {
   "cell_type": "markdown",
   "id": "21db39ce-3866-4786-9feb-9d4fc767f153",
   "metadata": {},
   "source": [
    "Ridge regression performs regularization by computing the squared values of the model parameters multiplied by alpha and adding them to the loss function.\n",
    "\n",
    "In this exercise, you will fit ridge regression models over a range of different alpha values, and print their R^2 scores. You will use all of the features in the `sales_df` dataset to predict `\"sales\"`. The data has been split into `X_train`, `X_test`, `y_train`, `y_test` for you.\n",
    "\n",
    "A variable called `alphas` has been provided as a list containing different alpha values, which you will loop through to generate scores."
   ]
  },
  {
   "cell_type": "code",
   "execution_count": 36,
   "id": "5b52fc4c-4dc0-48dc-9e92-665760c7bf4f",
   "metadata": {
    "tags": []
   },
   "outputs": [],
   "source": [
    "import pickle\n",
    "with open(\"./assets/ch02_04_01_regularized_regression_ridge_pickled01.pkl\", mode=\"rb\") as file_bin:\n",
    "    pickled_objs = pickle.load(file_bin)"
   ]
  },
  {
   "cell_type": "code",
   "execution_count": 37,
   "id": "57285854-62e7-4f27-82d9-389226f6d2de",
   "metadata": {
    "tags": []
   },
   "outputs": [],
   "source": [
    "X_train, X_test = pickled_objs[\"X_train\"], pickled_objs[\"X_test\"]\n",
    "y_train, y_test = pickled_objs[\"y_train\"], pickled_objs[\"y_test\"]"
   ]
  },
  {
   "cell_type": "markdown",
   "id": "5cb98845-e6fa-4877-9ad2-329b1d360446",
   "metadata": {},
   "source": [
    "- Import `Ridge`."
   ]
  },
  {
   "cell_type": "code",
   "execution_count": 38,
   "id": "873d1d03-1099-41c1-8d3f-b3c34457c33b",
   "metadata": {
    "tags": []
   },
   "outputs": [],
   "source": [
    "from sklearn.linear_model import Ridge"
   ]
  },
  {
   "cell_type": "markdown",
   "id": "44fb3c9e-566c-4c82-bf02-9acb38a742e1",
   "metadata": {},
   "source": [
    "- Instantiate `Ridge`, setting `alpha` equal to `alpha`.\n",
    "- Fit the model to the training data.\n",
    "- Calculate the R^2 score for each iteration of `ridge`."
   ]
  },
  {
   "cell_type": "code",
   "execution_count": 39,
   "id": "6e753082-2b95-4539-a952-c5e13ed94e02",
   "metadata": {
    "tags": []
   },
   "outputs": [],
   "source": [
    "alphas = [0.1, 1.0, 10.0, 100.0, 1000.0, 10000.0]\n",
    "ridge_scores = []"
   ]
  },
  {
   "cell_type": "code",
   "execution_count": 40,
   "id": "2b7ed27d-5655-4425-bd18-ec54b50c44ef",
   "metadata": {
    "tags": []
   },
   "outputs": [],
   "source": [
    "for alpha in alphas:\n",
    "    ridge = Ridge(alpha=alpha)\n",
    "    ridge.fit(X_train, y_train)\n",
    "    score = ridge.score(X_test, y_test)\n",
    "    ridge_scores.append(score)"
   ]
  },
  {
   "cell_type": "code",
   "execution_count": 41,
   "id": "539dca81-757d-49d3-913c-f9c296ea57d8",
   "metadata": {
    "tags": []
   },
   "outputs": [
    {
     "name": "stdout",
     "output_type": "stream",
     "text": [
      "0.9990152104759369\n",
      "0.9990152104759373\n",
      "0.9990152104759419\n",
      "0.9990152104759871\n",
      "0.9990152104764387\n",
      "0.9990152104809561\n"
     ]
    }
   ],
   "source": [
    "for score in ridge_scores:\n",
    "    print(score)"
   ]
  },
  {
   "cell_type": "markdown",
   "id": "d5fa597a-0853-4d08-83ae-2141e24bca47",
   "metadata": {},
   "source": [
    "### 4.2. Lasso regression for feature importance"
   ]
  },
  {
   "cell_type": "markdown",
   "id": "e2d80346-a9b1-44b2-84a1-0708b24a8c79",
   "metadata": {
    "tags": []
   },
   "source": [
    "In the video, you saw how lasso regression can be used to identify important features in a dataset.\n",
    "\n",
    "In this exercise, you will fit a lasso regression model to the `sales_df` data and plot the model's coefficients.\n",
    "\n",
    "The feature and target variable arrays have been pre-loaded as `X` and `y`, along with `sales_columns`, which contains the dataset's feature names."
   ]
  },
  {
   "cell_type": "code",
   "execution_count": 42,
   "id": "50a45798-8d6a-4d5a-b045-cb3e0e16b72e",
   "metadata": {
    "tags": []
   },
   "outputs": [
    {
     "data": {
      "text/html": [
       "<div>\n",
       "<style scoped>\n",
       "    .dataframe tbody tr th:only-of-type {\n",
       "        vertical-align: middle;\n",
       "    }\n",
       "\n",
       "    .dataframe tbody tr th {\n",
       "        vertical-align: top;\n",
       "    }\n",
       "\n",
       "    .dataframe thead th {\n",
       "        text-align: right;\n",
       "    }\n",
       "</style>\n",
       "<table border=\"1\" class=\"dataframe\">\n",
       "  <thead>\n",
       "    <tr style=\"text-align: right;\">\n",
       "      <th></th>\n",
       "      <th>tv</th>\n",
       "      <th>radio</th>\n",
       "      <th>social_media</th>\n",
       "      <th>influencer</th>\n",
       "      <th>sales</th>\n",
       "    </tr>\n",
       "  </thead>\n",
       "  <tbody>\n",
       "    <tr>\n",
       "      <th>0</th>\n",
       "      <td>16000.0</td>\n",
       "      <td>6566.23</td>\n",
       "      <td>2907.98</td>\n",
       "      <td>Mega</td>\n",
       "      <td>54732.76</td>\n",
       "    </tr>\n",
       "    <tr>\n",
       "      <th>1</th>\n",
       "      <td>13000.0</td>\n",
       "      <td>9237.76</td>\n",
       "      <td>2409.57</td>\n",
       "      <td>Mega</td>\n",
       "      <td>46677.90</td>\n",
       "    </tr>\n",
       "    <tr>\n",
       "      <th>2</th>\n",
       "      <td>41000.0</td>\n",
       "      <td>15886.45</td>\n",
       "      <td>2913.41</td>\n",
       "      <td>Mega</td>\n",
       "      <td>150177.83</td>\n",
       "    </tr>\n",
       "    <tr>\n",
       "      <th>3</th>\n",
       "      <td>83000.0</td>\n",
       "      <td>30020.03</td>\n",
       "      <td>6922.30</td>\n",
       "      <td>Mega</td>\n",
       "      <td>298246.34</td>\n",
       "    </tr>\n",
       "    <tr>\n",
       "      <th>4</th>\n",
       "      <td>15000.0</td>\n",
       "      <td>8437.41</td>\n",
       "      <td>1406.00</td>\n",
       "      <td>Micro</td>\n",
       "      <td>56594.18</td>\n",
       "    </tr>\n",
       "  </tbody>\n",
       "</table>\n",
       "</div>"
      ],
      "text/plain": [
       "        tv     radio  social_media influencer      sales\n",
       "0  16000.0   6566.23       2907.98       Mega   54732.76\n",
       "1  13000.0   9237.76       2409.57       Mega   46677.90\n",
       "2  41000.0  15886.45       2913.41       Mega  150177.83\n",
       "3  83000.0  30020.03       6922.30       Mega  298246.34\n",
       "4  15000.0   8437.41       1406.00      Micro   56594.18"
      ]
     },
     "execution_count": 42,
     "metadata": {},
     "output_type": "execute_result"
    }
   ],
   "source": [
    "sales_df.head()"
   ]
  },
  {
   "cell_type": "code",
   "execution_count": 43,
   "id": "18fa84f6-fae4-410b-9116-f3e951c42da7",
   "metadata": {
    "tags": []
   },
   "outputs": [],
   "source": [
    "X = sales_df.drop(columns=[\"sales\", \"influencer\"]).values\n",
    "y = sales_df[\"sales\"].values"
   ]
  },
  {
   "cell_type": "code",
   "execution_count": 44,
   "id": "b48af14a-face-4f44-bb35-64f5b8906a39",
   "metadata": {
    "tags": []
   },
   "outputs": [
    {
     "data": {
      "text/plain": [
       "Index(['tv', 'radio', 'social_media'], dtype='object')"
      ]
     },
     "execution_count": 44,
     "metadata": {},
     "output_type": "execute_result"
    }
   ],
   "source": [
    "sales_columns = sales_df.drop(columns=[\"sales\", \"influencer\"]).columns\n",
    "sales_columns"
   ]
  },
  {
   "cell_type": "markdown",
   "id": "21744529-e929-4c29-9a20-b601a8c016a1",
   "metadata": {},
   "source": [
    "- Import `Lasso` from `sklearn.linear_model`."
   ]
  },
  {
   "cell_type": "code",
   "execution_count": 45,
   "id": "c1a56f84-d34a-4e88-b241-ba8074ce61f9",
   "metadata": {
    "tags": []
   },
   "outputs": [],
   "source": [
    "from sklearn.linear_model import Lasso"
   ]
  },
  {
   "cell_type": "markdown",
   "id": "1d3b49c1-c03c-42a5-af30-08767803a205",
   "metadata": {},
   "source": [
    "- Instantiate a Lasso regressor with an `alpha` of` 0.3`."
   ]
  },
  {
   "cell_type": "code",
   "execution_count": 46,
   "id": "9027f22a-ec08-4f7b-8583-6ab2b52a92d3",
   "metadata": {
    "tags": []
   },
   "outputs": [],
   "source": [
    "lasso = Lasso(alpha=0.3)"
   ]
  },
  {
   "cell_type": "markdown",
   "id": "4645c028-6087-480e-a0b2-63350454bdb1",
   "metadata": {},
   "source": [
    "- Fit the model to the data."
   ]
  },
  {
   "cell_type": "code",
   "execution_count": 47,
   "id": "26ee80e5-00cd-4396-ad14-87ef6f77d338",
   "metadata": {
    "tags": []
   },
   "outputs": [],
   "source": [
    "lasso.fit(X, y);"
   ]
  },
  {
   "cell_type": "markdown",
   "id": "3155576f-702e-452f-bd76-b7f25cd23b3c",
   "metadata": {},
   "source": [
    "- Compute the model's coefficients, storing as `lasso_coef`."
   ]
  },
  {
   "cell_type": "code",
   "execution_count": 48,
   "id": "7502c10f-06e6-4a7a-80bb-ecbf41e525c6",
   "metadata": {
    "tags": []
   },
   "outputs": [
    {
     "data": {
      "text/plain": [
       "array([ 3.56256962, -0.00397035,  0.00496385])"
      ]
     },
     "execution_count": 48,
     "metadata": {},
     "output_type": "execute_result"
    }
   ],
   "source": [
    "lasso_coef = lasso.coef_\n",
    "lasso_coef"
   ]
  },
  {
   "cell_type": "code",
   "execution_count": 49,
   "id": "4f2b7942-ba30-4e14-84ba-205b6fb8b69f",
   "metadata": {
    "tags": []
   },
   "outputs": [
    {
     "data": {
      "image/png": "[encoded data removed]",
      "text/plain": [
       "<Figure size 640x480 with 1 Axes>"
      ]
     },
     "metadata": {},
     "output_type": "display_data"
    }
   ],
   "source": [
    "fig, ax = plt.subplots()\n",
    "ax.bar(x=sales_columns, height=lasso_coef);"
   ]
  },
  {
   "cell_type": "code",
   "execution_count": null,
   "id": "09a73353-3ad3-4d0c-9535-6fc13bf9aff2",
   "metadata": {},
   "outputs": [],
   "source": []
  }
 ],
 "metadata": {
  "kernelspec": {
   "display_name": "Python 3 (ipykernel)",
   "language": "python",
   "name": "python3"
  },
  "language_info": {
   "codemirror_mode": {
    "name": "ipython",
    "version": 3
   },
   "file_extension": ".py",
   "mimetype": "text/x-python",
   "name": "python",
   "nbconvert_exporter": "python",
   "pygments_lexer": "ipython3",
   "version": "3.10.10"
  }
 },
 "nbformat": 4,
 "nbformat_minor": 5
}
