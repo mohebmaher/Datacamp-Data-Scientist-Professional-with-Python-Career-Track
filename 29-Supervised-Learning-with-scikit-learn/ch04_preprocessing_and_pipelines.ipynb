{
 "cells": [
  {
   "cell_type": "markdown",
   "id": "e83930df-8652-4cfe-84b9-1145b082453d",
   "metadata": {},
   "source": [
    "# Chapter #4: Preprocessing and Pipelines"
   ]
  },
  {
   "cell_type": "markdown",
   "id": "a7872ce3-6c74-4384-a0f7-0df4d3163e3e",
   "metadata": {},
   "source": [
    "## 1. Preprocessing data"
   ]
  },
  {
   "cell_type": "markdown",
   "id": "278a70f9-547b-410b-b17d-d78bec26a5a2",
   "metadata": {},
   "source": [
    "**scikit-learn requirements**\n",
    "> - Recall that **scikit-learn requires numeric data, with no missing values**.\n",
    "> - All the data that we have used so far has been in this format.\n",
    "> - However, with **real-world data**, this will rarely be the case, and instead **we need to preprocess our data before we can build models**.\n",
    "\n",
    "**Dealing with categorical features**\n",
    "> - Say we have a dataset containing **categorical features**, such as color.\n",
    "> - As these are not numeric, **scikit-learn will not accept them** and we need to convert them into **numeric features**.\n",
    "> - We achieve this by **splitting the feature into multiple binary features called dummy variables**, one for each category.\n",
    "> - **`0`** means the observation was **not that category**, while **`1`** means **it was**.\n",
    "\n",
    "**Dummy variables**\n",
    "> - Say we are working with a music dataset that has a genre feature with 10 values such as Electronic, Hip-Hop, and Rock.\n",
    "> - We create **binary features** for each genre.\n",
    "> - As each song has one genre, **each row will have a `1` in one of the 10 columns** and `0` in the rest.\n",
    "> - If a song is not any of the first nine genres, **then implicitly, it is a rock song**.\n",
    "\n",
    "<img style=\"margin-left: auto; margin-right: auto;\" src=\"./assets/ch04_01_preprocessing_data_img01.png\">\n",
    "\n",
    "**Dummy variables**\n",
    "> - That means **we only need nine features, so we can delete the Rock column**.\n",
    "> - If we do not do this, **we are duplicating information, which might be an issue for some models**.\n",
    "\n",
    "<img style=\"margin-left: auto; margin-right: auto;\" src=\"./assets/ch04_01_preprocessing_data_img02.png\">\n",
    "\n",
    "**Dealing with categorical features in Python**\n",
    "> - To create **dummy variables** we can use:\n",
    ">> - **scikit-learn's** `OneHotEncoder()`,\n",
    ">> - **pandas'** `get_dummies()`.\n",
    "> - We will use **`get_dummies()`**.\n",
    "\n",
    "**Music dataset**\n",
    "> - We will be working with a **music dataset** in this chapter, for both **classification** and **regression** problems.\n",
    "> - Initially, we will build a **regression model** using all features in the dataset to **predict song `popularity`**.\n",
    "> - There is one categorical feature, **`genre`**, with **ten possible values**.\n",
    "\n",
    "<img style=\"margin-left: auto; margin-right: auto;\" src=\"./assets/ch04_01_preprocessing_data_img03.png\">\n",
    "\n",
    "**EDA w/ categorical feature**\n",
    "> - This box plot shows how **`popularity` varies by `genre`**.\n",
    "> - Let's encode this feature using **dummy variables**.\n",
    "\n",
    "<img style=\"margin-left: auto; margin-right: auto;\" src=\"./assets/ch04_01_preprocessing_data_img04.png\">\n",
    "\n",
    "**Encoding dummy variables**\n",
    "> - We **import** pandas, **read** in the DataFrame, and **call** `pd.get_dummies()`, **passing** the categorical column.\n",
    "> - As we only need to keep 9 out of our 10 binary features, we can **set** the `drop_first` argument to `True`.\n",
    "> - Printing the first five rows, we see **pandas creates 9 new binary features**.\n",
    "> - The first song is Jazz, and the second is Rap, indicated by a `1` in the respective columns.\n",
    "> - To bring these binary features back into our original DataFrame we can **use** `pd.concat()`, **passing** a list containing the `music_df` DataFrame and our `music_dummies` DataFrame, and setting `axis` equal to `1`.\n",
    "> - Lastly, we can **remove** the original `genre` column using `.drop()`, **passing(()) the column, and setting `axis` equal to `1`.\n",
    "\n",
    "<img style=\"margin-left: auto; margin-right: auto;\" src=\"./assets/ch04_01_preprocessing_data_img05.png\">\n",
    "\n",
    "**Encoding dummy variables**\n",
    "> - If the DataFrame only has one categorical feature, we can **pass** the entire DataFrame, thus skipping the step of combining variables.\n",
    "> - If we **don't specify a column**, the new DataFrame's binary columns will have the original feature name **prefixed**, so they will start with genre-underscore - as shown here.\n",
    "> - Notice the original genre column is **automatically dropped**.\n",
    "> - Once we have dummy variables, we can **fit** models as before.\n",
    "\n",
    "<img style=\"margin-left: auto; margin-right: auto;\" src=\"./assets/ch04_01_preprocessing_data_img07.png\">\n",
    "\n",
    "**Linear regression with dummy variables**\n",
    "> - Using the `music_dummies` DataFrame, the process for creating **training** and **test sets** remains unchanged.\n",
    "> - To perform **cross-validation** we then **create** a `KFold()` object, **instantiate** a linear regression model, and **call** `cross_val_score()`.\n",
    "> - We **set** scoring equal to `neg_mean_squared_error`, which **returns the negative MSE**.\n",
    "> - This is because scikit-learn's cross-validation metrics presume a **higher score is better**, so **MSE** is changed to **negative MSE** to counteract this.\n",
    "> - We can **calculate** the training RMSE by **taking the square root and converting to positive**, achieved by **calling** `numpy.square-root()` and **passing** our scores with a **minus sign** in front.\n",
    "\n",
    "<img style=\"margin-left: auto; margin-right: auto;\" src=\"./assets/ch04_01_preprocessing_data_img08.png\">"
   ]
  },
  {
   "cell_type": "code",
   "execution_count": null,
   "id": "b1a8cdc5-807d-44eb-8da6-70207b7f174b",
   "metadata": {},
   "outputs": [],
   "source": []
  }
 ],
 "metadata": {
  "kernelspec": {
   "display_name": "Main-Dev-Env",
   "language": "python",
   "name": "main-dev-env"
  },
  "language_info": {
   "codemirror_mode": {
    "name": "ipython",
    "version": 3
   },
   "file_extension": ".py",
   "mimetype": "text/x-python",
   "name": "python",
   "nbconvert_exporter": "python",
   "pygments_lexer": "ipython3",
   "version": "3.10.10"
  }
 },
 "nbformat": 4,
 "nbformat_minor": 5
}
